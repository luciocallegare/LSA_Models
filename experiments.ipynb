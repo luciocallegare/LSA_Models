{
 "cells": [
  {
   "cell_type": "markdown",
   "id": "fd95e3cd",
   "metadata": {},
   "source": [
    "# Experiments with ConvLSTM and LRCN models"
   ]
  },
  {
   "cell_type": "markdown",
   "id": "c6407328",
   "metadata": {},
   "source": [
    "In the following notebook there will be made experiments with different types of data. The data should be stored in a directory in this proyect \n",
    "called 'pruebas'. For the series of videos, they should be in 'pruebas/landmarksVids' for the gloveless tests, and 'pruebas/serie_prueba_guantes' for the tests \n",
    "made with a colored golves dataset. For any change, please change corresponding blocks. Models should be in 'models'"
   ]
  },
  {
   "cell_type": "markdown",
   "id": "186e14ce",
   "metadata": {},
   "source": [
    "# Necesary Imports"
   ]
  },
  {
   "cell_type": "code",
   "execution_count": 1,
   "id": "eda42f6e",
   "metadata": {
    "scrolled": true
   },
   "outputs": [
    {
     "name": "stdout",
     "output_type": "stream",
     "text": [
      "WARNING:tensorflow:From C:\\Users\\Lucio\\AppData\\Local\\Packages\\PythonSoftwareFoundation.Python.3.10_qbz5n2kfra8p0\\LocalCache\\local-packages\\Python310\\site-packages\\keras\\src\\losses.py:2976: The name tf.losses.sparse_softmax_cross_entropy is deprecated. Please use tf.compat.v1.losses.sparse_softmax_cross_entropy instead.\n",
      "\n"
     ]
    }
   ],
   "source": [
    "from keras.models import load_model\n",
    "from keras.utils import to_categorical"
   ]
  },
  {
   "cell_type": "code",
   "execution_count": 2,
   "id": "967a2ef0",
   "metadata": {
    "scrolled": true
   },
   "outputs": [],
   "source": [
    "import numpy as np\n",
    "import json\n",
    "import pathlib\n",
    "import random\n",
    "import matplotlib.pyplot as plt\n",
    "import cv2"
   ]
  },
  {
   "cell_type": "markdown",
   "id": "129fb85b",
   "metadata": {},
   "source": [
    "# Auxilliary functions"
   ]
  },
  {
   "cell_type": "code",
   "execution_count": 3,
   "id": "07ab91f5",
   "metadata": {
    "scrolled": true
   },
   "outputs": [],
   "source": [
    "subset_paths = {\n",
    "  'train': pathlib.Path('./dataset/train'),\n",
    "  'val': pathlib.Path('./dataset/val'),\n",
    "  'test': pathlib.Path('./dataset/test'),\n",
    "}\n",
    "\n",
    "HEIGHT = 224\n",
    "WIDTH = 224\n",
    "N_FRAMES = 20\n",
    "num_classes = 64"
   ]
  },
  {
   "cell_type": "code",
   "execution_count": 6,
   "id": "16a7202c",
   "metadata": {
    "scrolled": true
   },
   "outputs": [],
   "source": [
    "import math\n",
    "\n",
    "def groupFrames(video_path, n_frames = N_FRAMES, frame_step = 15):\n",
    "  \"\"\"\n",
    "    Creates frames from each video file present for each category.\n",
    "\n",
    "    Args:\n",
    "      video_path: File path to the video.\n",
    "      n_frames: Number of frames to be created per video file.\n",
    "      output_size: Pixel size of the output frame image.\n",
    "\n",
    "    Return:\n",
    "      An NumPy array of frames in the shape of (n_frames, height, width, channels).\n",
    "  \"\"\"\n",
    "  # Read each video frame by frame\n",
    "  result = []\n",
    "  encoded_string = video_path.encode('latin-1')\n",
    "  video_path = encoded_string.decode(\"utf-8\")\n",
    "  src = cv2.VideoCapture(video_path)  \n",
    "  video_length = src.get(cv2.CAP_PROP_FRAME_COUNT)   \n",
    "  if video_length < 80:\n",
    "        frame_step = int(math.floor(frame_step/2))\n",
    "  print(f'Video url: {video_path}, video_length:{video_length}')\n",
    "  need_length = 1 + (n_frames - 1) * frame_step\n",
    "  if need_length > video_length:\n",
    "    start = 0\n",
    "  else:\n",
    "    max_start = video_length - need_length\n",
    "    start = random.randint(0, max_start + 1)\n",
    "  src.set(cv2.CAP_PROP_POS_FRAMES, start)\n",
    "  # ret is a boolean indicating whether read was successful, frame is the image itself\n",
    "  ret, frame = src.read()\n",
    "  if ret: \n",
    "      frame = cv2.cvtColor(frame,cv2.COLOR_BGR2GRAY)\n",
    "      frame = np.expand_dims(frame, axis=-1) \n",
    "      result.append(frame/255)\n",
    "  for _ in range(n_frames - 1):\n",
    "    for _ in range(frame_step):\n",
    "      ret, frame = src.read()\n",
    "    if ret:   \n",
    "        frame = cv2.cvtColor(frame,cv2.COLOR_BGR2GRAY)\n",
    "        frame = np.expand_dims(frame, axis=-1) \n",
    "        result.append(frame/255)\n",
    "    else:\n",
    "      result.append(np.zeros_like(result[0]))\n",
    "  src.release()\n",
    "  cv2.destroyAllWindows()\n",
    "  result = np.array(result)\n",
    "  #print('SHAPE RESULT',result.shape)\n",
    "  return result"
   ]
  },
  {
   "cell_type": "code",
   "execution_count": 7,
   "id": "15fdd9ad",
   "metadata": {},
   "outputs": [],
   "source": [
    "def frames_extraction(video_path):\n",
    "    '''\n",
    "    This function will extract the required frames from a video after resizing and normalizing them.\n",
    "    Args:\n",
    "        video_path: The path of the video in the disk, whose frames are to be extracted.\n",
    "    Returns:\n",
    "        frames_list: A list containing the resized and normalized frames of the video.\n",
    "    '''\n",
    "    encoded_string = video_path.encode('latin-1')\n",
    "    video_path = encoded_string.decode(\"utf-8\")\n",
    "    \n",
    "    # Declare a list to store video frames.\n",
    "    frames_list = []\n",
    "    \n",
    "    # Read the Video File using the VideoCapture object.\n",
    "    video_reader = cv2.VideoCapture(video_path)\n",
    "\n",
    "    # Get the total number of frames in the video.\n",
    "    video_frames_count = int(video_reader.get(cv2.CAP_PROP_FRAME_COUNT))\n",
    "    print(f'Video url: {video_path}, video_length:{video_frames_count}')\n",
    "    # Calculate the the interval after which frames will be added to the list.\n",
    "    skip_frames_window = max(int(video_frames_count/N_FRAMES), 1)\n",
    "\n",
    "    # Iterate through the Video Frames.\n",
    "    for frame_counter in range(N_FRAMES):\n",
    "\n",
    "        # Set the current frame position of the video.\n",
    "        video_reader.set(cv2.CAP_PROP_POS_FRAMES, frame_counter * skip_frames_window)\n",
    "\n",
    "        # Reading the frame from the video. \n",
    "        success, frame = video_reader.read() \n",
    "\n",
    "        # Check if Video frame is not successfully read then break the loop\n",
    "        if not success:\n",
    "            break\n",
    "            \n",
    "        frame = cv2.cvtColor(frame,cv2.COLOR_BGR2GRAY)\n",
    "        frame = np.expand_dims(frame, axis=-1) \n",
    "\n",
    "        # Resize the Frame to fixed height and width.\n",
    "        resized_frame = cv2.resize(frame, (WIDTH, HEIGHT))\n",
    "        \n",
    "        # Normalize the resized frame by dividing it with 255 so that each pixel value then lies between 0 and 1\n",
    "        normalized_frame = resized_frame / 255\n",
    "        \n",
    "        # Append the normalized frame into the frames list\n",
    "        frames_list.append(normalized_frame)\n",
    "    \n",
    "    # Release the VideoCapture object. \n",
    "    video_reader.release()\n",
    "\n",
    "    # Return the frames list.\n",
    "    return frames_list"
   ]
  },
  {
   "cell_type": "code",
   "execution_count": 8,
   "id": "8879c292",
   "metadata": {
    "scrolled": true
   },
   "outputs": [],
   "source": [
    "def find_id(labels,name):\n",
    "   return list(filter(lambda x: x['name'] == name,labels))[0]\n",
    "\n",
    "def get_files_and_class_names(path):\n",
    "    video_paths = list(path.glob('*/*.avi'))\n",
    "    classes = [p.parent.name for p in video_paths]\n",
    "    f = open('./dataset.json')\n",
    "    labels = json.load(f)\n",
    "    classes = np.array(list(map(lambda x: int(find_id(labels,x)['id'])-1,classes)))\n",
    "    encoded_labels = to_categorical(classes)\n",
    "    #modificar entre groupFrames y frames_extraction\n",
    "    videos = np.array([groupFrames(str(p)) for p in video_paths],dtype='float16')\n",
    "    return videos, classes"
   ]
  },
  {
   "cell_type": "markdown",
   "id": "457df568",
   "metadata": {},
   "source": [
    "# Preparing test data"
   ]
  },
  {
   "cell_type": "code",
   "execution_count": 27,
   "id": "af5e187b",
   "metadata": {
    "scrolled": true
   },
   "outputs": [
    {
     "name": "stdout",
     "output_type": "stream",
     "text": [
      "Video url: dataset\\test\\Aceptar\\050_001_002.avi, video_length:182.0\n",
      "Video url: dataset\\test\\Aceptar\\050_002_005.avi, video_length:152.0\n",
      "Video url: dataset\\test\\Aceptar\\050_003_004.avi, video_length:152.0\n",
      "Video url: dataset\\test\\Aceptar\\050_005_002.avi, video_length:152.0\n",
      "Video url: dataset\\test\\Aceptar\\050_006_002.avi, video_length:122.0\n",
      "Video url: dataset\\test\\Aceptar\\050_006_005.avi, video_length:122.0\n",
      "Video url: dataset\\test\\Aceptar\\050_007_003.avi, video_length:92.0\n",
      "Video url: dataset\\test\\Aceptar\\050_008_001.avi, video_length:122.0\n",
      "Video url: dataset\\test\\Aceptar\\050_008_004.avi, video_length:122.0\n",
      "Video url: dataset\\test\\Aceptar\\050_009_002.avi, video_length:152.0\n",
      "Video url: dataset\\test\\Agua\\022_001_004.avi, video_length:118.0\n",
      "Video url: dataset\\test\\Agua\\022_002_005.avi, video_length:118.0\n",
      "Video url: dataset\\test\\Agua\\022_003_002.avi, video_length:148.0\n",
      "Video url: dataset\\test\\Agua\\022_005_001.avi, video_length:118.0\n",
      "Video url: dataset\\test\\Agua\\022_005_005.avi, video_length:118.0\n",
      "Video url: dataset\\test\\Agua\\022_007_005.avi, video_length:118.0\n",
      "Video url: dataset\\test\\Agua\\022_008_003.avi, video_length:118.0\n",
      "Video url: dataset\\test\\Agua\\022_008_005.avi, video_length:118.0\n",
      "Video url: dataset\\test\\Agua\\022_009_002.avi, video_length:148.0\n",
      "Video url: dataset\\test\\Agua\\022_009_004.avi, video_length:118.0\n",
      "Video url: dataset\\test\\Alimento\\023_002_004.avi, video_length:118.0\n",
      "Video url: dataset\\test\\Alimento\\023_003_005.avi, video_length:118.0\n",
      "Video url: dataset\\test\\Alimento\\023_004_002.avi, video_length:148.0\n",
      "Video url: dataset\\test\\Alimento\\023_004_004.avi, video_length:148.0\n",
      "Video url: dataset\\test\\Alimento\\023_006_002.avi, video_length:118.0\n",
      "Video url: dataset\\test\\Alimento\\023_007_001.avi, video_length:118.0\n",
      "Video url: dataset\\test\\Alimento\\023_008_002.avi, video_length:148.0\n",
      "Video url: dataset\\test\\Alimento\\023_008_005.avi, video_length:118.0\n",
      "Video url: dataset\\test\\Alimento\\023_009_001.avi, video_length:118.0\n",
      "Video url: dataset\\test\\Alimento\\023_010_001.avi, video_length:118.0\n",
      "Video url: dataset\\test\\Amargo\\019_001_001.avi, video_length:88.0\n",
      "Video url: dataset\\test\\Amargo\\019_001_005.avi, video_length:88.0\n",
      "Video url: dataset\\test\\Amargo\\019_002_004.avi, video_length:88.0\n",
      "Video url: dataset\\test\\Amargo\\019_003_003.avi, video_length:118.0\n",
      "Video url: dataset\\test\\Amargo\\019_004_002.avi, video_length:88.0\n",
      "Video url: dataset\\test\\Amargo\\019_004_005.avi, video_length:118.0\n",
      "Video url: dataset\\test\\Amargo\\019_007_002.avi, video_length:88.0\n",
      "Video url: dataset\\test\\Amargo\\019_007_005.avi, video_length:88.0\n",
      "Video url: dataset\\test\\Amargo\\019_009_004.avi, video_length:88.0\n",
      "Video url: dataset\\test\\Amargo\\019_010_002.avi, video_length:58.0\n",
      "Video url: dataset\\test\\Amarillo\\004_002_002.avi, video_length:148.0\n",
      "Video url: dataset\\test\\Amarillo\\004_002_005.avi, video_length:88.0\n",
      "Video url: dataset\\test\\Amarillo\\004_003_002.avi, video_length:88.0\n",
      "Video url: dataset\\test\\Amarillo\\004_004_002.avi, video_length:118.0\n",
      "Video url: dataset\\test\\Amarillo\\004_005_003.avi, video_length:118.0\n",
      "Video url: dataset\\test\\Amarillo\\004_007_003.avi, video_length:88.0\n",
      "Video url: dataset\\test\\Amarillo\\004_007_005.avi, video_length:88.0\n",
      "Video url: dataset\\test\\Amarillo\\004_010_001.avi, video_length:88.0\n",
      "Video url: dataset\\test\\Amarillo\\004_010_003.avi, video_length:88.0\n",
      "Video url: dataset\\test\\Amarillo\\004_010_005.avi, video_length:88.0\n",
      "Video url: dataset\\test\\Aparecer\\053_001_002.avi, video_length:122.0\n",
      "Video url: dataset\\test\\Aparecer\\053_001_003.avi, video_length:122.0\n",
      "Video url: dataset\\test\\Aparecer\\053_002_002.avi, video_length:152.0\n",
      "Video url: dataset\\test\\Aparecer\\053_002_005.avi, video_length:122.0\n",
      "Video url: dataset\\test\\Aparecer\\053_004_005.avi, video_length:92.0\n",
      "Video url: dataset\\test\\Aparecer\\053_006_003.avi, video_length:122.0\n",
      "Video url: dataset\\test\\Aparecer\\053_007_002.avi, video_length:92.0\n",
      "Video url: dataset\\test\\Aparecer\\053_007_005.avi, video_length:122.0\n",
      "Video url: dataset\\test\\Aparecer\\053_008_004.avi, video_length:122.0\n",
      "Video url: dataset\\test\\Aparecer\\053_009_001.avi, video_length:122.0\n",
      "Video url: dataset\\test\\Apellido\\027_001_001.avi, video_length:122.0\n",
      "Video url: dataset\\test\\Apellido\\027_001_004.avi, video_length:122.0\n",
      "Video url: dataset\\test\\Apellido\\027_002_002.avi, video_length:92.0\n",
      "Video url: dataset\\test\\Apellido\\027_005_002.avi, video_length:122.0\n",
      "Video url: dataset\\test\\Apellido\\027_005_003.avi, video_length:122.0\n",
      "Video url: dataset\\test\\Apellido\\027_007_002.avi, video_length:122.0\n",
      "Video url: dataset\\test\\Apellido\\027_007_003.avi, video_length:152.0\n",
      "Video url: dataset\\test\\Apellido\\027_008_002.avi, video_length:92.0\n",
      "Video url: dataset\\test\\Apellido\\027_008_005.avi, video_length:122.0\n",
      "Video url: dataset\\test\\Apellido\\027_009_004.avi, video_length:152.0\n",
      "Video url: dataset\\test\\Aprender\\016_001_001.avi, video_length:118.0\n",
      "Video url: dataset\\test\\Aprender\\016_001_004.avi, video_length:118.0\n",
      "Video url: dataset\\test\\Aprender\\016_002_001.avi, video_length:118.0\n",
      "Video url: dataset\\test\\Aprender\\016_004_001.avi, video_length:118.0\n",
      "Video url: dataset\\test\\Aprender\\016_005_002.avi, video_length:88.0\n",
      "Video url: dataset\\test\\Aprender\\016_005_003.avi, video_length:118.0\n",
      "Video url: dataset\\test\\Aprender\\016_006_003.avi, video_length:118.0\n",
      "Video url: dataset\\test\\Aprender\\016_007_002.avi, video_length:118.0\n",
      "Video url: dataset\\test\\Aprender\\016_007_003.avi, video_length:118.0\n",
      "Video url: dataset\\test\\Aprender\\016_009_001.avi, video_length:118.0\n",
      "Video url: dataset\\test\\Argentina\\024_001_001.avi, video_length:122.0\n",
      "Video url: dataset\\test\\Argentina\\024_002_004.avi, video_length:152.0\n",
      "Video url: dataset\\test\\Argentina\\024_003_003.avi, video_length:122.0\n",
      "Video url: dataset\\test\\Argentina\\024_004_003.avi, video_length:122.0\n",
      "Video url: dataset\\test\\Argentina\\024_005_001.avi, video_length:152.0\n",
      "Video url: dataset\\test\\Argentina\\024_006_005.avi, video_length:122.0\n",
      "Video url: dataset\\test\\Argentina\\024_008_004.avi, video_length:92.0\n",
      "Video url: dataset\\test\\Argentina\\024_009_002.avi, video_length:122.0\n",
      "Video url: dataset\\test\\Argentina\\024_009_005.avi, video_length:152.0\n",
      "Video url: dataset\\test\\Argentina\\024_010_004.avi, video_length:152.0\n",
      "Video url: dataset\\test\\Arroz\\044_001_003.avi, video_length:152.0\n",
      "Video url: dataset\\test\\Arroz\\044_001_004.avi, video_length:152.0\n",
      "Video url: dataset\\test\\Arroz\\044_003_002.avi, video_length:152.0\n",
      "Video url: dataset\\test\\Arroz\\044_003_004.avi, video_length:122.0\n",
      "Video url: dataset\\test\\Arroz\\044_004_001.avi, video_length:122.0\n",
      "Video url: dataset\\test\\Arroz\\044_005_003.avi, video_length:122.0\n",
      "Video url: dataset\\test\\Arroz\\044_006_003.avi, video_length:152.0\n",
      "Video url: dataset\\test\\Arroz\\044_006_004.avi, video_length:152.0\n",
      "Video url: dataset\\test\\Arroz\\044_009_004.avi, video_length:152.0\n",
      "Video url: dataset\\test\\Arroz\\044_010_005.avi, video_length:152.0\n",
      "Video url: dataset\\test\\Aterrizar\\054_001_003.avi, video_length:152.0\n",
      "Video url: dataset\\test\\Aterrizar\\054_002_001.avi, video_length:122.0\n",
      "Video url: dataset\\test\\Aterrizar\\054_002_005.avi, video_length:122.0\n",
      "Video url: dataset\\test\\Aterrizar\\054_005_001.avi, video_length:122.0\n",
      "Video url: dataset\\test\\Aterrizar\\054_005_003.avi, video_length:122.0\n",
      "Video url: dataset\\test\\Aterrizar\\054_005_004.avi, video_length:152.0\n",
      "Video url: dataset\\test\\Aterrizar\\054_006_001.avi, video_length:122.0\n",
      "Video url: dataset\\test\\Aterrizar\\054_008_002.avi, video_length:122.0\n",
      "Video url: dataset\\test\\Aterrizar\\054_009_005.avi, video_length:182.0\n",
      "Video url: dataset\\test\\Aterrizar\\054_010_005.avi, video_length:152.0\n",
      "Video url: dataset\\test\\Atrapar\\055_001_002.avi, video_length:152.0\n",
      "Video url: dataset\\test\\Atrapar\\055_001_003.avi, video_length:122.0\n",
      "Video url: dataset\\test\\Atrapar\\055_003_002.avi, video_length:122.0\n",
      "Video url: dataset\\test\\Atrapar\\055_003_004.avi, video_length:92.0\n",
      "Video url: dataset\\test\\Atrapar\\055_004_002.avi, video_length:122.0\n",
      "Video url: dataset\\test\\Atrapar\\055_006_004.avi, video_length:92.0\n",
      "Video url: dataset\\test\\Atrapar\\055_007_002.avi, video_length:92.0\n",
      "Video url: dataset\\test\\Atrapar\\055_008_002.avi, video_length:92.0\n",
      "Video url: dataset\\test\\Atrapar\\055_008_003.avi, video_length:122.0\n",
      "Video url: dataset\\test\\Atrapar\\055_008_004.avi, video_length:92.0\n",
      "Video url: dataset\\test\\Ayuda\\056_001_001.avi, video_length:122.0\n",
      "Video url: dataset\\test\\Ayuda\\056_002_004.avi, video_length:122.0\n",
      "Video url: dataset\\test\\Ayuda\\056_002_005.avi, video_length:122.0\n",
      "Video url: dataset\\test\\Ayuda\\056_004_001.avi, video_length:152.0\n",
      "Video url: dataset\\test\\Ayuda\\056_004_005.avi, video_length:122.0\n",
      "Video url: dataset\\test\\Ayuda\\056_006_001.avi, video_length:122.0\n",
      "Video url: dataset\\test\\Ayuda\\056_007_001.avi, video_length:92.0\n",
      "Video url: dataset\\test\\Ayuda\\056_007_003.avi, video_length:122.0\n",
      "Video url: dataset\\test\\Ayuda\\056_008_003.avi, video_length:92.0\n",
      "Video url: dataset\\test\\Ayuda\\056_009_001.avi, video_length:122.0\n",
      "Video url: dataset\\test\\Azul claro\\006_002_003.avi, video_length:148.0\n",
      "Video url: dataset\\test\\Azul claro\\006_002_004.avi, video_length:148.0\n",
      "Video url: dataset\\test\\Azul claro\\006_003_004.avi, video_length:88.0\n",
      "Video url: dataset\\test\\Azul claro\\006_004_004.avi, video_length:148.0\n",
      "Video url: dataset\\test\\Azul claro\\006_006_001.avi, video_length:148.0\n",
      "Video url: dataset\\test\\Azul claro\\006_006_004.avi, video_length:148.0\n",
      "Video url: dataset\\test\\Azul claro\\006_007_005.avi, video_length:148.0\n",
      "Video url: dataset\\test\\Azul claro\\006_008_001.avi, video_length:208.0\n",
      "Video url: dataset\\test\\Azul claro\\006_008_004.avi, video_length:178.0\n",
      "Video url: dataset\\test\\Azul claro\\006_009_003.avi, video_length:148.0\n",
      "Video url: dataset\\test\\Bailar\\057_001_001.avi, video_length:122.0\n",
      "Video url: dataset\\test\\Bailar\\057_001_003.avi, video_length:122.0\n",
      "Video url: dataset\\test\\Bailar\\057_004_003.avi, video_length:152.0\n",
      "Video url: dataset\\test\\Bailar\\057_005_001.avi, video_length:152.0\n",
      "Video url: dataset\\test\\Bailar\\057_005_003.avi, video_length:152.0\n",
      "Video url: dataset\\test\\Bailar\\057_007_001.avi, video_length:122.0\n",
      "Video url: dataset\\test\\Bailar\\057_007_004.avi, video_length:122.0\n",
      "Video url: dataset\\test\\Bailar\\057_008_004.avi, video_length:122.0\n",
      "Video url: dataset\\test\\Bailar\\057_009_002.avi, video_length:122.0\n",
      "Video url: dataset\\test\\Bailar\\057_009_005.avi, video_length:152.0\n",
      "Video url: dataset\\test\\Barco\\037_001_002.avi, video_length:152.0\n",
      "Video url: dataset\\test\\Barco\\037_002_003.avi, video_length:122.0\n",
      "Video url: dataset\\test\\Barco\\037_002_005.avi, video_length:152.0\n",
      "Video url: dataset\\test\\Barco\\037_003_002.avi, video_length:122.0\n",
      "Video url: dataset\\test\\Barco\\037_004_005.avi, video_length:122.0\n",
      "Video url: dataset\\test\\Barco\\037_005_003.avi, video_length:122.0\n",
      "Video url: dataset\\test\\Barco\\037_006_002.avi, video_length:122.0\n",
      "Video url: dataset\\test\\Barco\\037_007_001.avi, video_length:122.0\n",
      "Video url: dataset\\test\\Barco\\037_009_001.avi, video_length:152.0\n",
      "Video url: dataset\\test\\Barco\\037_010_002.avi, video_length:122.0\n",
      "Video url: dataset\\test\\Bañarse\\058_001_004.avi, video_length:152.0\n",
      "Video url: dataset\\test\\Bañarse\\058_003_002.avi, video_length:152.0\n",
      "Video url: dataset\\test\\Bañarse\\058_004_004.avi, video_length:152.0\n",
      "Video url: dataset\\test\\Bañarse\\058_005_003.avi, video_length:122.0\n",
      "Video url: dataset\\test\\Bañarse\\058_006_002.avi, video_length:152.0\n",
      "Video url: dataset\\test\\Bañarse\\058_007_004.avi, video_length:122.0\n",
      "Video url: dataset\\test\\Bañarse\\058_008_001.avi, video_length:92.0\n",
      "Video url: dataset\\test\\Bañarse\\058_008_003.avi, video_length:92.0\n",
      "Video url: dataset\\test\\Bañarse\\058_009_005.avi, video_length:122.0\n",
      "Video url: dataset\\test\\Bañarse\\058_010_002.avi, video_length:122.0\n",
      "Video url: dataset\\test\\Brillante\\005_002_002.avi, video_length:118.0\n",
      "Video url: dataset\\test\\Brillante\\005_002_004.avi, video_length:148.0\n",
      "Video url: dataset\\test\\Brillante\\005_003_002.avi, video_length:148.0\n",
      "Video url: dataset\\test\\Brillante\\005_003_005.avi, video_length:148.0\n",
      "Video url: dataset\\test\\Brillante\\005_004_005.avi, video_length:148.0\n",
      "Video url: dataset\\test\\Brillante\\005_005_004.avi, video_length:148.0\n",
      "Video url: dataset\\test\\Brillante\\005_007_001.avi, video_length:118.0\n",
      "Video url: dataset\\test\\Brillante\\005_009_002.avi, video_length:118.0\n",
      "Video url: dataset\\test\\Brillante\\005_009_005.avi, video_length:118.0\n",
      "Video url: dataset\\test\\Brillante\\005_010_004.avi, video_length:118.0\n",
      "Video url: dataset\\test\\Burlarse de\\029_001_003.avi, video_length:122.0\n",
      "Video url: dataset\\test\\Burlarse de\\029_002_002.avi, video_length:152.0\n",
      "Video url: dataset\\test\\Burlarse de\\029_002_005.avi, video_length:152.0\n",
      "Video url: dataset\\test\\Burlarse de\\029_003_002.avi, video_length:152.0\n",
      "Video url: dataset\\test\\Burlarse de\\029_003_003.avi, video_length:122.0\n",
      "Video url: dataset\\test\\Burlarse de\\029_004_004.avi, video_length:152.0\n",
      "Video url: dataset\\test\\Burlarse de\\029_004_005.avi, video_length:152.0\n",
      "Video url: dataset\\test\\Burlarse de\\029_005_001.avi, video_length:122.0\n",
      "Video url: dataset\\test\\Burlarse de\\029_005_003.avi, video_length:122.0\n",
      "Video url: dataset\\test\\Burlarse de\\029_009_002.avi, video_length:122.0\n",
      "Video url: dataset\\test\\Cajón\\014_001_001.avi, video_length:118.0\n",
      "Video url: dataset\\test\\Cajón\\014_001_003.avi, video_length:88.0\n",
      "Video url: dataset\\test\\Cajón\\014_001_004.avi, video_length:118.0\n",
      "Video url: dataset\\test\\Cajón\\014_002_002.avi, video_length:118.0\n",
      "Video url: dataset\\test\\Cajón\\014_004_003.avi, video_length:118.0\n",
      "Video url: dataset\\test\\Cajón\\014_006_002.avi, video_length:88.0\n",
      "Video url: dataset\\test\\Cajón\\014_007_004.avi, video_length:88.0\n",
      "Video url: dataset\\test\\Cajón\\014_009_002.avi, video_length:88.0\n",
      "Video url: dataset\\test\\Cajón\\014_009_003.avi, video_length:88.0\n",
      "Video url: dataset\\test\\Cajón\\014_009_005.avi, video_length:88.0\n",
      "Video url: dataset\\test\\Cerrar\\052_001_004.avi, video_length:152.0\n",
      "Video url: dataset\\test\\Cerrar\\052_004_001.avi, video_length:152.0\n",
      "Video url: dataset\\test\\Cerrar\\052_004_003.avi, video_length:122.0\n",
      "Video url: dataset\\test\\Cerrar\\052_005_002.avi, video_length:122.0\n",
      "Video url: dataset\\test\\Cerrar\\052_005_004.avi, video_length:122.0\n",
      "Video url: dataset\\test\\Cerrar\\052_006_001.avi, video_length:122.0\n",
      "Video url: dataset\\test\\Cerrar\\052_007_004.avi, video_length:122.0\n",
      "Video url: dataset\\test\\Cerrar\\052_008_004.avi, video_length:122.0\n",
      "Video url: dataset\\test\\Cerrar\\052_008_005.avi, video_length:92.0\n",
      "Video url: dataset\\test\\Cerrar\\052_009_002.avi, video_length:122.0\n",
      "Video url: dataset\\test\\Chicle\\047_001_003.avi, video_length:152.0\n",
      "Video url: dataset\\test\\Chicle\\047_001_004.avi, video_length:152.0\n",
      "Video url: dataset\\test\\Chicle\\047_001_005.avi, video_length:152.0\n",
      "Video url: dataset\\test\\Chicle\\047_002_003.avi, video_length:152.0\n",
      "Video url: dataset\\test\\Chicle\\047_002_004.avi, video_length:122.0\n",
      "Video url: dataset\\test\\Chicle\\047_003_001.avi, video_length:182.0\n",
      "Video url: dataset\\test\\Chicle\\047_005_001.avi, video_length:122.0\n",
      "Video url: dataset\\test\\Chicle\\047_005_005.avi, video_length:152.0\n",
      "Video url: dataset\\test\\Chicle\\047_009_002.avi, video_length:152.0\n",
      "Video url: dataset\\test\\Chicle\\047_010_005.avi, video_length:122.0\n",
      "Video url: dataset\\test\\Colores\\007_001_002.avi, video_length:118.0\n",
      "Video url: dataset\\test\\Colores\\007_002_001.avi, video_length:118.0\n",
      "Video url: dataset\\test\\Colores\\007_002_002.avi, video_length:118.0\n",
      "Video url: dataset\\test\\Colores\\007_002_003.avi, video_length:118.0\n",
      "Video url: dataset\\test\\Colores\\007_002_004.avi, video_length:118.0\n",
      "Video url: dataset\\test\\Colores\\007_003_002.avi, video_length:88.0\n",
      "Video url: dataset\\test\\Colores\\007_004_002.avi, video_length:118.0\n",
      "Video url: dataset\\test\\Colores\\007_007_004.avi, video_length:88.0\n",
      "Video url: dataset\\test\\Colores\\007_009_003.avi, video_length:88.0\n",
      "Video url: dataset\\test\\Colores\\007_010_003.avi, video_length:118.0\n",
      "Video url: dataset\\test\\Comprar\\059_003_003.avi, video_length:122.0\n",
      "Video url: dataset\\test\\Comprar\\059_003_004.avi, video_length:122.0\n",
      "Video url: dataset\\test\\Comprar\\059_006_003.avi, video_length:152.0\n",
      "Video url: dataset\\test\\Comprar\\059_006_004.avi, video_length:152.0\n",
      "Video url: dataset\\test\\Comprar\\059_008_001.avi, video_length:92.0\n",
      "Video url: dataset\\test\\Comprar\\059_008_002.avi, video_length:92.0\n",
      "Video url: dataset\\test\\Comprar\\059_008_005.avi, video_length:122.0\n",
      "Video url: dataset\\test\\Comprar\\059_009_005.avi, video_length:122.0\n",
      "Video url: dataset\\test\\Comprar\\059_010_001.avi, video_length:152.0\n",
      "Video url: dataset\\test\\Comprar\\059_010_002.avi, video_length:92.0\n",
      "Video url: dataset\\test\\Copiar\\060_002_004.avi, video_length:152.0\n",
      "Video url: dataset\\test\\Copiar\\060_003_002.avi, video_length:122.0\n",
      "Video url: dataset\\test\\Copiar\\060_003_004.avi, video_length:152.0\n",
      "Video url: dataset\\test\\Copiar\\060_004_005.avi, video_length:122.0\n",
      "Video url: dataset\\test\\Copiar\\060_005_005.avi, video_length:152.0\n",
      "Video url: dataset\\test\\Copiar\\060_006_003.avi, video_length:152.0\n",
      "Video url: dataset\\test\\Copiar\\060_006_004.avi, video_length:152.0\n",
      "Video url: dataset\\test\\Copiar\\060_009_001.avi, video_length:122.0\n",
      "Video url: dataset\\test\\Copiar\\060_009_004.avi, video_length:122.0\n",
      "Video url: dataset\\test\\Copiar\\060_010_004.avi, video_length:152.0\n",
      "Video url: dataset\\test\\Correr\\061_002_004.avi, video_length:122.0\n",
      "Video url: dataset\\test\\Correr\\061_003_004.avi, video_length:152.0\n",
      "Video url: dataset\\test\\Correr\\061_004_004.avi, video_length:122.0\n",
      "Video url: dataset\\test\\Correr\\061_006_004.avi, video_length:152.0\n",
      "Video url: dataset\\test\\Correr\\061_007_005.avi, video_length:122.0\n",
      "Video url: dataset\\test\\Correr\\061_008_002.avi, video_length:122.0\n",
      "Video url: dataset\\test\\Correr\\061_008_005.avi, video_length:122.0\n",
      "Video url: dataset\\test\\Correr\\061_009_005.avi, video_length:122.0\n",
      "Video url: dataset\\test\\Correr\\061_010_001.avi, video_length:122.0\n",
      "Video url: dataset\\test\\Correr\\061_010_004.avi, video_length:152.0\n",
      "Video url: dataset\\test\\Cumpleaños\\030_001_003.avi, video_length:152.0\n",
      "Video url: dataset\\test\\Cumpleaños\\030_002_005.avi, video_length:122.0\n",
      "Video url: dataset\\test\\Cumpleaños\\030_003_005.avi, video_length:122.0\n",
      "Video url: dataset\\test\\Cumpleaños\\030_007_002.avi, video_length:152.0\n",
      "Video url: dataset\\test\\Cumpleaños\\030_007_005.avi, video_length:122.0\n",
      "Video url: dataset\\test\\Cumpleaños\\030_008_002.avi, video_length:122.0\n",
      "Video url: dataset\\test\\Cumpleaños\\030_008_003.avi, video_length:122.0\n",
      "Video url: dataset\\test\\Cumpleaños\\030_009_002.avi, video_length:152.0\n",
      "Video url: dataset\\test\\Cumpleaños\\030_009_005.avi, video_length:152.0\n",
      "Video url: dataset\\test\\Cumpleaños\\030_010_002.avi, video_length:152.0\n",
      "Video url: dataset\\test\\Dar\\063_001_001.avi, video_length:122.0\n",
      "Video url: dataset\\test\\Dar\\063_001_002.avi, video_length:122.0\n",
      "Video url: dataset\\test\\Dar\\063_001_003.avi, video_length:122.0\n",
      "Video url: dataset\\test\\Dar\\063_003_004.avi, video_length:152.0\n",
      "Video url: dataset\\test\\Dar\\063_004_003.avi, video_length:92.0\n",
      "Video url: dataset\\test\\Dar\\063_005_005.avi, video_length:122.0\n",
      "Video url: dataset\\test\\Dar\\063_006_005.avi, video_length:92.0\n",
      "Video url: dataset\\test\\Dar\\063_008_001.avi, video_length:122.0\n",
      "Video url: dataset\\test\\Dar\\063_008_002.avi, video_length:92.0\n",
      "Video url: dataset\\test\\Dar\\063_009_003.avi, video_length:122.0\n",
      "Video url: dataset\\test\\Darse cuenta\\062_001_003.avi, video_length:122.0\n",
      "Video url: dataset\\test\\Darse cuenta\\062_002_003.avi, video_length:122.0\n",
      "Video url: dataset\\test\\Darse cuenta\\062_004_003.avi, video_length:122.0\n",
      "Video url: dataset\\test\\Darse cuenta\\062_005_004.avi, video_length:152.0\n",
      "Video url: dataset\\test\\Darse cuenta\\062_005_005.avi, video_length:122.0\n",
      "Video url: dataset\\test\\Darse cuenta\\062_006_002.avi, video_length:122.0\n",
      "Video url: dataset\\test\\Darse cuenta\\062_006_005.avi, video_length:122.0\n",
      "Video url: dataset\\test\\Darse cuenta\\062_008_001.avi, video_length:92.0\n",
      "Video url: dataset\\test\\Darse cuenta\\062_008_002.avi, video_length:122.0\n",
      "Video url: dataset\\test\\Darse cuenta\\062_008_005.avi, video_length:92.0\n",
      "Video url: dataset\\test\\Desayuno\\031_001_001.avi, video_length:182.0\n",
      "Video url: dataset\\test\\Desayuno\\031_001_005.avi, video_length:182.0\n",
      "Video url: dataset\\test\\Desayuno\\031_002_001.avi, video_length:152.0\n",
      "Video url: dataset\\test\\Desayuno\\031_002_003.avi, video_length:182.0\n",
      "Video url: dataset\\test\\Desayuno\\031_003_003.avi, video_length:182.0\n",
      "Video url: dataset\\test\\Desayuno\\031_003_004.avi, video_length:152.0\n",
      "Video url: dataset\\test\\Desayuno\\031_003_005.avi, video_length:182.0\n",
      "Video url: dataset\\test\\Desayuno\\031_007_003.avi, video_length:152.0\n",
      "Video url: dataset\\test\\Desayuno\\031_007_004.avi, video_length:152.0\n",
      "Video url: dataset\\test\\Desayuno\\031_010_004.avi, video_length:152.0\n",
      "Video url: dataset\\test\\Dulce\\046_001_005.avi, video_length:152.0\n",
      "Video url: dataset\\test\\Dulce\\046_002_003.avi, video_length:152.0\n",
      "Video url: dataset\\test\\Dulce\\046_002_004.avi, video_length:122.0\n",
      "Video url: dataset\\test\\Dulce\\046_003_005.avi, video_length:152.0\n",
      "Video url: dataset\\test\\Dulce\\046_004_001.avi, video_length:122.0\n",
      "Video url: dataset\\test\\Dulce\\046_004_004.avi, video_length:122.0\n",
      "Video url: dataset\\test\\Dulce\\046_005_005.avi, video_length:182.0\n",
      "Video url: dataset\\test\\Dulce\\046_006_005.avi, video_length:152.0\n",
      "Video url: dataset\\test\\Dulce\\046_008_005.avi, video_length:122.0\n",
      "Video url: dataset\\test\\Dulce\\046_009_005.avi, video_length:152.0\n",
      "Video url: dataset\\test\\Dónde\\028_001_004.avi, video_length:122.0\n",
      "Video url: dataset\\test\\Dónde\\028_002_001.avi, video_length:152.0\n",
      "Video url: dataset\\test\\Dónde\\028_002_005.avi, video_length:122.0\n",
      "Video url: dataset\\test\\Dónde\\028_003_005.avi, video_length:122.0\n",
      "Video url: dataset\\test\\Dónde\\028_004_002.avi, video_length:152.0\n",
      "Video url: dataset\\test\\Dónde\\028_005_001.avi, video_length:152.0\n",
      "Video url: dataset\\test\\Dónde\\028_005_002.avi, video_length:152.0\n",
      "Video url: dataset\\test\\Dónde\\028_005_003.avi, video_length:152.0\n",
      "Video url: dataset\\test\\Dónde\\028_005_005.avi, video_length:122.0\n",
      "Video url: dataset\\test\\Dónde\\028_010_002.avi, video_length:152.0\n",
      "Video url: dataset\\test\\Encontrar\\064_002_001.avi, video_length:122.0\n",
      "Video url: dataset\\test\\Encontrar\\064_003_003.avi, video_length:122.0\n",
      "Video url: dataset\\test\\Encontrar\\064_005_002.avi, video_length:122.0\n",
      "Video url: dataset\\test\\Encontrar\\064_005_003.avi, video_length:122.0\n",
      "Video url: dataset\\test\\Encontrar\\064_006_001.avi, video_length:122.0\n",
      "Video url: dataset\\test\\Encontrar\\064_007_003.avi, video_length:92.0\n",
      "Video url: dataset\\test\\Encontrar\\064_007_004.avi, video_length:92.0\n",
      "Video url: dataset\\test\\Encontrar\\064_008_005.avi, video_length:92.0\n",
      "Video url: dataset\\test\\Encontrar\\064_009_003.avi, video_length:122.0\n",
      "Video url: dataset\\test\\Encontrar\\064_009_004.avi, video_length:152.0\n",
      "Video url: dataset\\test\\Enemigo\\010_001_001.avi, video_length:118.0\n",
      "Video url: dataset\\test\\Enemigo\\010_002_001.avi, video_length:88.0\n",
      "Video url: dataset\\test\\Enemigo\\010_004_001.avi, video_length:88.0\n",
      "Video url: dataset\\test\\Enemigo\\010_005_003.avi, video_length:118.0\n",
      "Video url: dataset\\test\\Enemigo\\010_005_004.avi, video_length:118.0\n",
      "Video url: dataset\\test\\Enemigo\\010_006_002.avi, video_length:88.0\n",
      "Video url: dataset\\test\\Enemigo\\010_007_002.avi, video_length:88.0\n",
      "Video url: dataset\\test\\Enemigo\\010_009_003.avi, video_length:88.0\n",
      "Video url: dataset\\test\\Enemigo\\010_010_003.avi, video_length:88.0\n",
      "Video url: dataset\\test\\Enemigo\\010_010_004.avi, video_length:88.0\n",
      "Video url: dataset\\test\\Espaguetis\\048_001_002.avi, video_length:182.0\n",
      "Video url: dataset\\test\\Espaguetis\\048_001_004.avi, video_length:212.0\n",
      "Video url: dataset\\test\\Espaguetis\\048_003_003.avi, video_length:182.0\n",
      "Video url: dataset\\test\\Espaguetis\\048_004_001.avi, video_length:152.0\n",
      "Video url: dataset\\test\\Espaguetis\\048_004_002.avi, video_length:152.0\n",
      "Video url: dataset\\test\\Espaguetis\\048_005_002.avi, video_length:152.0\n",
      "Video url: dataset\\test\\Espaguetis\\048_006_005.avi, video_length:152.0\n",
      "Video url: dataset\\test\\Espaguetis\\048_007_001.avi, video_length:122.0\n",
      "Video url: dataset\\test\\Espaguetis\\048_007_003.avi, video_length:122.0\n",
      "Video url: dataset\\test\\Espaguetis\\048_007_005.avi, video_length:152.0\n",
      "Video url: dataset\\test\\Foto\\032_001_001.avi, video_length:152.0\n",
      "Video url: dataset\\test\\Foto\\032_001_003.avi, video_length:152.0\n",
      "Video url: dataset\\test\\Foto\\032_001_004.avi, video_length:122.0\n",
      "Video url: dataset\\test\\Foto\\032_002_004.avi, video_length:122.0\n",
      "Video url: dataset\\test\\Foto\\032_002_005.avi, video_length:182.0\n",
      "Video url: dataset\\test\\Foto\\032_005_001.avi, video_length:152.0\n",
      "Video url: dataset\\test\\Foto\\032_005_005.avi, video_length:152.0\n",
      "Video url: dataset\\test\\Foto\\032_006_004.avi, video_length:182.0\n",
      "Video url: dataset\\test\\Foto\\032_006_005.avi, video_length:212.0\n",
      "Video url: dataset\\test\\Foto\\032_009_002.avi, video_length:152.0\n",
      "Video url: dataset\\test\\Gracias\\051_001_002.avi, video_length:122.0\n",
      "Video url: dataset\\test\\Gracias\\051_001_005.avi, video_length:152.0\n",
      "Video url: dataset\\test\\Gracias\\051_002_004.avi, video_length:182.0\n",
      "Video url: dataset\\test\\Gracias\\051_003_004.avi, video_length:152.0\n",
      "Video url: dataset\\test\\Gracias\\051_004_005.avi, video_length:122.0\n",
      "Video url: dataset\\test\\Gracias\\051_005_001.avi, video_length:152.0\n",
      "Video url: dataset\\test\\Gracias\\051_006_005.avi, video_length:152.0\n",
      "Video url: dataset\\test\\Gracias\\051_008_005.avi, video_length:122.0\n",
      "Video url: dataset\\test\\Gracias\\051_009_002.avi, video_length:152.0\n",
      "Video url: dataset\\test\\Gracias\\051_010_002.avi, video_length:122.0\n",
      "Video url: dataset\\test\\Hambriento\\033_001_002.avi, video_length:122.0\n",
      "Video url: dataset\\test\\Hambriento\\033_001_004.avi, video_length:122.0\n",
      "Video url: dataset\\test\\Hambriento\\033_002_001.avi, video_length:152.0\n",
      "Video url: dataset\\test\\Hambriento\\033_002_005.avi, video_length:152.0\n",
      "Video url: dataset\\test\\Hambriento\\033_003_005.avi, video_length:122.0\n",
      "Video url: dataset\\test\\Hambriento\\033_004_004.avi, video_length:122.0\n",
      "Video url: dataset\\test\\Hambriento\\033_004_005.avi, video_length:122.0\n",
      "Video url: dataset\\test\\Hambriento\\033_005_005.avi, video_length:152.0\n",
      "Video url: dataset\\test\\Hambriento\\033_007_004.avi, video_length:152.0\n",
      "Video url: dataset\\test\\Hambriento\\033_009_004.avi, video_length:122.0\n",
      "Video url: dataset\\test\\Hijo\\011_001_001.avi, video_length:118.0\n",
      "Video url: dataset\\test\\Hijo\\011_003_005.avi, video_length:118.0\n",
      "Video url: dataset\\test\\Hijo\\011_004_004.avi, video_length:118.0\n",
      "Video url: dataset\\test\\Hijo\\011_006_001.avi, video_length:118.0\n",
      "Video url: dataset\\test\\Hijo\\011_007_003.avi, video_length:118.0\n",
      "Video url: dataset\\test\\Hijo\\011_008_004.avi, video_length:88.0\n",
      "Video url: dataset\\test\\Hijo\\011_009_002.avi, video_length:88.0\n",
      "Video url: dataset\\test\\Hijo\\011_009_005.avi, video_length:88.0\n",
      "Video url: dataset\\test\\Hijo\\011_010_002.avi, video_length:88.0\n",
      "Video url: dataset\\test\\Hijo\\011_010_003.avi, video_length:58.0\n",
      "Video url: dataset\\test\\Hombre\\012_002_004.avi, video_length:148.0\n",
      "Video url: dataset\\test\\Hombre\\012_003_001.avi, video_length:118.0\n",
      "Video url: dataset\\test\\Hombre\\012_003_005.avi, video_length:148.0\n",
      "Video url: dataset\\test\\Hombre\\012_004_001.avi, video_length:148.0\n",
      "Video url: dataset\\test\\Hombre\\012_004_004.avi, video_length:148.0\n",
      "Video url: dataset\\test\\Hombre\\012_005_002.avi, video_length:148.0\n",
      "Video url: dataset\\test\\Hombre\\012_005_003.avi, video_length:148.0\n",
      "Video url: dataset\\test\\Hombre\\012_005_004.avi, video_length:118.0\n",
      "Video url: dataset\\test\\Hombre\\012_006_004.avi, video_length:148.0\n",
      "Video url: dataset\\test\\Hombre\\012_007_005.avi, video_length:88.0\n",
      "Video url: dataset\\test\\Leche\\021_002_001.avi, video_length:118.0\n",
      "Video url: dataset\\test\\Leche\\021_004_002.avi, video_length:148.0\n",
      "Video url: dataset\\test\\Leche\\021_004_003.avi, video_length:148.0\n",
      "Video url: dataset\\test\\Leche\\021_004_004.avi, video_length:148.0\n",
      "Video url: dataset\\test\\Leche\\021_006_001.avi, video_length:118.0\n",
      "Video url: dataset\\test\\Leche\\021_006_005.avi, video_length:118.0\n",
      "Video url: dataset\\test\\Leche\\021_007_003.avi, video_length:118.0\n",
      "Video url: dataset\\test\\Leche\\021_008_002.avi, video_length:148.0\n",
      "Video url: dataset\\test\\Leche\\021_008_003.avi, video_length:148.0\n",
      "Video url: dataset\\test\\Leche\\021_010_004.avi, video_length:88.0\n",
      "Video url: dataset\\test\\Leche dulce\\020_002_002.avi, video_length:88.0\n",
      "Video url: dataset\\test\\Leche dulce\\020_003_003.avi, video_length:118.0\n",
      "Video url: dataset\\test\\Leche dulce\\020_004_001.avi, video_length:118.0\n",
      "Video url: dataset\\test\\Leche dulce\\020_004_002.avi, video_length:118.0\n",
      "Video url: dataset\\test\\Leche dulce\\020_007_005.avi, video_length:88.0\n",
      "Video url: dataset\\test\\Leche dulce\\020_009_002.avi, video_length:88.0\n",
      "Video url: dataset\\test\\Leche dulce\\020_009_003.avi, video_length:88.0\n",
      "Video url: dataset\\test\\Leche dulce\\020_009_005.avi, video_length:118.0\n",
      "Video url: dataset\\test\\Leche dulce\\020_010_001.avi, video_length:118.0\n",
      "Video url: dataset\\test\\Leche dulce\\020_010_004.avi, video_length:58.0\n",
      "Video url: dataset\\test\\Lejos\\013_001_004.avi, video_length:118.0\n",
      "Video url: dataset\\test\\Lejos\\013_002_004.avi, video_length:118.0\n",
      "Video url: dataset\\test\\Lejos\\013_005_002.avi, video_length:118.0\n",
      "Video url: dataset\\test\\Lejos\\013_006_002.avi, video_length:118.0\n",
      "Video url: dataset\\test\\Lejos\\013_006_003.avi, video_length:88.0\n",
      "Video url: dataset\\test\\Lejos\\013_006_004.avi, video_length:148.0\n",
      "Video url: dataset\\test\\Lejos\\013_008_002.avi, video_length:88.0\n",
      "Video url: dataset\\test\\Lejos\\013_008_005.avi, video_length:88.0\n",
      "Video url: dataset\\test\\Lejos\\013_009_004.avi, video_length:88.0\n",
      "Video url: dataset\\test\\Lejos\\013_010_001.avi, video_length:118.0\n",
      "Video url: dataset\\test\\Llamar\\017_001_002.avi, video_length:88.0\n",
      "Video url: dataset\\test\\Llamar\\017_001_004.avi, video_length:88.0\n",
      "Video url: dataset\\test\\Llamar\\017_002_002.avi, video_length:88.0\n",
      "Video url: dataset\\test\\Llamar\\017_002_005.avi, video_length:88.0\n",
      "Video url: dataset\\test\\Llamar\\017_003_004.avi, video_length:88.0\n",
      "Video url: dataset\\test\\Llamar\\017_003_005.avi, video_length:118.0\n",
      "Video url: dataset\\test\\Llamar\\017_005_005.avi, video_length:118.0\n",
      "Video url: dataset\\test\\Llamar\\017_008_005.avi, video_length:88.0\n",
      "Video url: dataset\\test\\Llamar\\017_009_002.avi, video_length:88.0\n",
      "Video url: dataset\\test\\Llamar\\017_010_002.avi, video_length:88.0\n",
      "Video url: dataset\\test\\Mapa\\034_001_004.avi, video_length:212.0\n",
      "Video url: dataset\\test\\Mapa\\034_003_004.avi, video_length:242.0\n",
      "Video url: dataset\\test\\Mapa\\034_003_005.avi, video_length:212.0\n",
      "Video url: dataset\\test\\Mapa\\034_004_002.avi, video_length:152.0\n",
      "Video url: dataset\\test\\Mapa\\034_006_003.avi, video_length:182.0\n",
      "Video url: dataset\\test\\Mapa\\034_007_005.avi, video_length:182.0\n",
      "Video url: dataset\\test\\Mapa\\034_008_004.avi, video_length:182.0\n",
      "Video url: dataset\\test\\Mapa\\034_009_005.avi, video_length:212.0\n",
      "Video url: dataset\\test\\Mapa\\034_010_002.avi, video_length:182.0\n",
      "Video url: dataset\\test\\Mapa\\034_010_003.avi, video_length:182.0\n",
      "Video url: dataset\\test\\Moneda\\035_001_004.avi, video_length:122.0\n",
      "Video url: dataset\\test\\Moneda\\035_002_002.avi, video_length:122.0\n",
      "Video url: dataset\\test\\Moneda\\035_002_005.avi, video_length:122.0\n",
      "Video url: dataset\\test\\Moneda\\035_003_001.avi, video_length:122.0\n",
      "Video url: dataset\\test\\Moneda\\035_003_003.avi, video_length:152.0\n",
      "Video url: dataset\\test\\Moneda\\035_004_002.avi, video_length:122.0\n",
      "Video url: dataset\\test\\Moneda\\035_008_002.avi, video_length:122.0\n",
      "Video url: dataset\\test\\Moneda\\035_008_003.avi, video_length:152.0\n",
      "Video url: dataset\\test\\Moneda\\035_008_005.avi, video_length:122.0\n",
      "Video url: dataset\\test\\Moneda\\035_009_005.avi, video_length:152.0\n",
      "Video url: dataset\\test\\Mujer\\009_001_004.avi, video_length:118.0\n",
      "Video url: dataset\\test\\Mujer\\009_005_002.avi, video_length:148.0\n",
      "Video url: dataset\\test\\Mujer\\009_005_003.avi, video_length:148.0\n",
      "Video url: dataset\\test\\Mujer\\009_005_005.avi, video_length:148.0\n",
      "Video url: dataset\\test\\Mujer\\009_007_004.avi, video_length:118.0\n",
      "Video url: dataset\\test\\Mujer\\009_008_001.avi, video_length:118.0\n",
      "Video url: dataset\\test\\Mujer\\009_008_003.avi, video_length:118.0\n",
      "Video url: dataset\\test\\Mujer\\009_009_005.avi, video_length:88.0\n",
      "Video url: dataset\\test\\Mujer\\009_010_001.avi, video_length:118.0\n",
      "Video url: dataset\\test\\Mujer\\009_010_002.avi, video_length:118.0\n",
      "Video url: dataset\\test\\Música\\036_001_004.avi, video_length:122.0\n",
      "Video url: dataset\\test\\Música\\036_003_001.avi, video_length:152.0\n",
      "Video url: dataset\\test\\Música\\036_004_002.avi, video_length:122.0\n",
      "Video url: dataset\\test\\Música\\036_004_005.avi, video_length:122.0\n",
      "Video url: dataset\\test\\Música\\036_005_002.avi, video_length:122.0\n",
      "Video url: dataset\\test\\Música\\036_006_001.avi, video_length:152.0\n",
      "Video url: dataset\\test\\Música\\036_006_003.avi, video_length:122.0\n",
      "Video url: dataset\\test\\Música\\036_006_005.avi, video_length:152.0\n",
      "Video url: dataset\\test\\Música\\036_009_005.avi, video_length:152.0\n",
      "Video url: dataset\\test\\Música\\036_010_004.avi, video_length:122.0\n",
      "Video url: dataset\\test\\Nacido\\015_001_001.avi, video_length:118.0\n",
      "Video url: dataset\\test\\Nacido\\015_001_005.avi, video_length:178.0\n",
      "Video url: dataset\\test\\Nacido\\015_002_005.avi, video_length:88.0\n",
      "Video url: dataset\\test\\Nacido\\015_004_003.avi, video_length:88.0\n",
      "Video url: dataset\\test\\Nacido\\015_004_004.avi, video_length:88.0\n",
      "Video url: dataset\\test\\Nacido\\015_005_002.avi, video_length:118.0\n",
      "Video url: dataset\\test\\Nacido\\015_007_001.avi, video_length:88.0\n",
      "Video url: dataset\\test\\Nacido\\015_009_002.avi, video_length:88.0\n",
      "Video url: dataset\\test\\Nacido\\015_010_003.avi, video_length:58.0\n",
      "Video url: dataset\\test\\Nacido\\015_010_004.avi, video_length:58.0\n",
      "Video url: dataset\\test\\Ninguno\\038_002_001.avi, video_length:152.0\n",
      "Video url: dataset\\test\\Ninguno\\038_003_002.avi, video_length:152.0\n",
      "Video url: dataset\\test\\Ninguno\\038_003_004.avi, video_length:122.0\n",
      "Video url: dataset\\test\\Ninguno\\038_003_005.avi, video_length:152.0\n",
      "Video url: dataset\\test\\Ninguno\\038_004_002.avi, video_length:122.0\n",
      "Video url: dataset\\test\\Ninguno\\038_004_005.avi, video_length:122.0\n",
      "Video url: dataset\\test\\Ninguno\\038_005_001.avi, video_length:122.0\n",
      "Video url: dataset\\test\\Ninguno\\038_005_005.avi, video_length:152.0\n",
      "Video url: dataset\\test\\Ninguno\\038_007_003.avi, video_length:152.0\n",
      "Video url: dataset\\test\\Ninguno\\038_009_005.avi, video_length:152.0\n",
      "Video url: dataset\\test\\Nombre\\039_001_002.avi, video_length:122.0\n",
      "Video url: dataset\\test\\Nombre\\039_001_004.avi, video_length:92.0\n",
      "Video url: dataset\\test\\Nombre\\039_002_003.avi, video_length:122.0\n",
      "Video url: dataset\\test\\Nombre\\039_003_001.avi, video_length:152.0\n",
      "Video url: dataset\\test\\Nombre\\039_003_002.avi, video_length:122.0\n",
      "Video url: dataset\\test\\Nombre\\039_004_001.avi, video_length:122.0\n",
      "Video url: dataset\\test\\Nombre\\039_005_003.avi, video_length:122.0\n",
      "Video url: dataset\\test\\Nombre\\039_005_004.avi, video_length:122.0\n",
      "Video url: dataset\\test\\Nombre\\039_009_004.avi, video_length:122.0\n",
      "Video url: dataset\\test\\Nombre\\039_010_001.avi, video_length:122.0\n",
      "Video url: dataset\\test\\Opaco\\001_001_003.avi, video_length:118.0\n",
      "Video url: dataset\\test\\Opaco\\001_001_004.avi, video_length:118.0\n",
      "Video url: dataset\\test\\Opaco\\001_001_005.avi, video_length:88.0\n",
      "Video url: dataset\\test\\Opaco\\001_002_001.avi, video_length:118.0\n",
      "Video url: dataset\\test\\Opaco\\001_003_002.avi, video_length:118.0\n",
      "Video url: dataset\\test\\Opaco\\001_004_004.avi, video_length:148.0\n",
      "Video url: dataset\\test\\Opaco\\001_006_004.avi, video_length:118.0\n",
      "Video url: dataset\\test\\Opaco\\001_007_001.avi, video_length:88.0\n",
      "Video url: dataset\\test\\Opaco\\001_007_003.avi, video_length:148.0\n",
      "Video url: dataset\\test\\Opaco\\001_010_001.avi, video_length:148.0\n",
      "Video url: dataset\\test\\Paciencia\\040_003_002.avi, video_length:152.0\n",
      "Video url: dataset\\test\\Paciencia\\040_003_003.avi, video_length:182.0\n",
      "Video url: dataset\\test\\Paciencia\\040_004_002.avi, video_length:122.0\n",
      "Video url: dataset\\test\\Paciencia\\040_004_003.avi, video_length:122.0\n",
      "Video url: dataset\\test\\Paciencia\\040_004_005.avi, video_length:122.0\n",
      "Video url: dataset\\test\\Paciencia\\040_007_003.avi, video_length:182.0\n",
      "Video url: dataset\\test\\Paciencia\\040_008_003.avi, video_length:152.0\n",
      "Video url: dataset\\test\\Paciencia\\040_008_005.avi, video_length:152.0\n",
      "Video url: dataset\\test\\Paciencia\\040_009_004.avi, video_length:182.0\n",
      "Video url: dataset\\test\\Paciencia\\040_010_003.avi, video_length:152.0\n",
      "Video url: dataset\\test\\Parilla\\045_002_002.avi, video_length:182.0\n",
      "Video url: dataset\\test\\Parilla\\045_002_004.avi, video_length:182.0\n",
      "Video url: dataset\\test\\Parilla\\045_003_003.avi, video_length:182.0\n",
      "Video url: dataset\\test\\Parilla\\045_004_001.avi, video_length:152.0\n",
      "Video url: dataset\\test\\Parilla\\045_005_003.avi, video_length:152.0\n",
      "Video url: dataset\\test\\Parilla\\045_006_004.avi, video_length:182.0\n",
      "Video url: dataset\\test\\Parilla\\045_007_001.avi, video_length:152.0\n",
      "Video url: dataset\\test\\Parilla\\045_007_003.avi, video_length:152.0\n",
      "Video url: dataset\\test\\Parilla\\045_010_002.avi, video_length:122.0\n",
      "Video url: dataset\\test\\Parilla\\045_010_005.avi, video_length:152.0\n",
      "Video url: dataset\\test\\País\\026_001_004.avi, video_length:122.0\n",
      "Video url: dataset\\test\\País\\026_002_002.avi, video_length:122.0\n",
      "Video url: dataset\\test\\País\\026_003_003.avi, video_length:122.0\n",
      "Video url: dataset\\test\\País\\026_003_005.avi, video_length:122.0\n",
      "Video url: dataset\\test\\País\\026_006_004.avi, video_length:152.0\n",
      "Video url: dataset\\test\\País\\026_007_004.avi, video_length:152.0\n",
      "Video url: dataset\\test\\País\\026_008_001.avi, video_length:92.0\n",
      "Video url: dataset\\test\\País\\026_008_003.avi, video_length:92.0\n",
      "Video url: dataset\\test\\País\\026_009_002.avi, video_length:122.0\n",
      "Video url: dataset\\test\\País\\026_009_003.avi, video_length:152.0\n",
      "Video url: dataset\\test\\Perfume\\041_002_001.avi, video_length:182.0\n",
      "Video url: dataset\\test\\Perfume\\041_004_004.avi, video_length:152.0\n",
      "Video url: dataset\\test\\Perfume\\041_005_002.avi, video_length:182.0\n",
      "Video url: dataset\\test\\Perfume\\041_005_005.avi, video_length:182.0\n",
      "Video url: dataset\\test\\Perfume\\041_006_002.avi, video_length:182.0\n",
      "Video url: dataset\\test\\Perfume\\041_007_001.avi, video_length:152.0\n",
      "Video url: dataset\\test\\Perfume\\041_007_005.avi, video_length:182.0\n",
      "Video url: dataset\\test\\Perfume\\041_008_004.avi, video_length:182.0\n",
      "Video url: dataset\\test\\Perfume\\041_009_003.avi, video_length:182.0\n",
      "Video url: dataset\\test\\Perfume\\041_010_002.avi, video_length:182.0\n",
      "Video url: dataset\\test\\Rojo\\002_001_004.avi, video_length:118.0\n",
      "Video url: dataset\\test\\Rojo\\002_002_003.avi, video_length:118.0\n",
      "Video url: dataset\\test\\Rojo\\002_002_005.avi, video_length:118.0\n",
      "Video url: dataset\\test\\Rojo\\002_003_002.avi, video_length:118.0\n",
      "Video url: dataset\\test\\Rojo\\002_003_004.avi, video_length:118.0\n",
      "Video url: dataset\\test\\Rojo\\002_004_005.avi, video_length:148.0\n",
      "Video url: dataset\\test\\Rojo\\002_005_005.avi, video_length:118.0\n",
      "Video url: dataset\\test\\Rojo\\002_006_002.avi, video_length:118.0\n",
      "Video url: dataset\\test\\Rojo\\002_007_005.avi, video_length:118.0\n",
      "Video url: dataset\\test\\Rojo\\002_008_002.avi, video_length:118.0\n",
      "Video url: dataset\\test\\Rosa\\008_001_001.avi, video_length:88.0\n",
      "Video url: dataset\\test\\Rosa\\008_004_002.avi, video_length:88.0\n",
      "Video url: dataset\\test\\Rosa\\008_004_005.avi, video_length:88.0\n",
      "Video url: dataset\\test\\Rosa\\008_005_004.avi, video_length:118.0\n",
      "Video url: dataset\\test\\Rosa\\008_006_002.avi, video_length:118.0\n",
      "Video url: dataset\\test\\Rosa\\008_007_001.avi, video_length:88.0\n",
      "Video url: dataset\\test\\Rosa\\008_007_002.avi, video_length:58.0\n",
      "Video url: dataset\\test\\Rosa\\008_008_003.avi, video_length:88.0\n",
      "Video url: dataset\\test\\Rosa\\008_009_003.avi, video_length:88.0\n",
      "Video url: dataset\\test\\Rosa\\008_010_002.avi, video_length:118.0\n",
      "Video url: dataset\\test\\Skimmer\\018_001_001.avi, video_length:118.0\n",
      "Video url: dataset\\test\\Skimmer\\018_001_003.avi, video_length:118.0\n",
      "Video url: dataset\\test\\Skimmer\\018_001_004.avi, video_length:118.0\n",
      "Video url: dataset\\test\\Skimmer\\018_003_004.avi, video_length:148.0\n",
      "Video url: dataset\\test\\Skimmer\\018_005_002.avi, video_length:118.0\n",
      "Video url: dataset\\test\\Skimmer\\018_006_001.avi, video_length:88.0\n",
      "Video url: dataset\\test\\Skimmer\\018_008_003.avi, video_length:118.0\n",
      "Video url: dataset\\test\\Skimmer\\018_009_004.avi, video_length:118.0\n",
      "Video url: dataset\\test\\Skimmer\\018_010_001.avi, video_length:118.0\n",
      "Video url: dataset\\test\\Skimmer\\018_010_004.avi, video_length:118.0\n",
      "Video url: dataset\\test\\Sordo\\042_001_004.avi, video_length:122.0\n",
      "Video url: dataset\\test\\Sordo\\042_003_003.avi, video_length:152.0\n",
      "Video url: dataset\\test\\Sordo\\042_003_004.avi, video_length:122.0\n",
      "Video url: dataset\\test\\Sordo\\042_005_004.avi, video_length:152.0\n",
      "Video url: dataset\\test\\Sordo\\042_005_005.avi, video_length:182.0\n",
      "Video url: dataset\\test\\Sordo\\042_007_002.avi, video_length:152.0\n",
      "Video url: dataset\\test\\Sordo\\042_008_003.avi, video_length:122.0\n",
      "Video url: dataset\\test\\Sordo\\042_008_004.avi, video_length:122.0\n",
      "Video url: dataset\\test\\Sordo\\042_010_003.avi, video_length:152.0\n",
      "Video url: dataset\\test\\Sordo\\042_010_004.avi, video_length:152.0\n",
      "Video url: dataset\\test\\Trampa\\043_001_001.avi, video_length:92.0\n",
      "Video url: dataset\\test\\Trampa\\043_001_003.avi, video_length:92.0\n",
      "Video url: dataset\\test\\Trampa\\043_001_004.avi, video_length:122.0\n",
      "Video url: dataset\\test\\Trampa\\043_003_001.avi, video_length:152.0\n",
      "Video url: dataset\\test\\Trampa\\043_003_003.avi, video_length:152.0\n",
      "Video url: dataset\\test\\Trampa\\043_004_001.avi, video_length:152.0\n",
      "Video url: dataset\\test\\Trampa\\043_005_004.avi, video_length:152.0\n",
      "Video url: dataset\\test\\Trampa\\043_006_004.avi, video_length:122.0\n",
      "Video url: dataset\\test\\Trampa\\043_008_005.avi, video_length:122.0\n",
      "Video url: dataset\\test\\Trampa\\043_010_004.avi, video_length:122.0\n",
      "Video url: dataset\\test\\Uruguay\\025_001_002.avi, video_length:152.0\n",
      "Video url: dataset\\test\\Uruguay\\025_002_004.avi, video_length:122.0\n",
      "Video url: dataset\\test\\Uruguay\\025_004_002.avi, video_length:152.0\n",
      "Video url: dataset\\test\\Uruguay\\025_004_005.avi, video_length:152.0\n",
      "Video url: dataset\\test\\Uruguay\\025_006_001.avi, video_length:152.0\n",
      "Video url: dataset\\test\\Uruguay\\025_007_002.avi, video_length:122.0\n",
      "Video url: dataset\\test\\Uruguay\\025_008_002.avi, video_length:122.0\n",
      "Video url: dataset\\test\\Uruguay\\025_009_005.avi, video_length:152.0\n",
      "Video url: dataset\\test\\Uruguay\\025_010_001.avi, video_length:152.0\n",
      "Video url: dataset\\test\\Uruguay\\025_010_004.avi, video_length:122.0\n",
      "Video url: dataset\\test\\Verde\\003_002_004.avi, video_length:148.0\n",
      "Video url: dataset\\test\\Verde\\003_003_001.avi, video_length:148.0\n",
      "Video url: dataset\\test\\Verde\\003_004_001.avi, video_length:148.0\n",
      "Video url: dataset\\test\\Verde\\003_004_002.avi, video_length:148.0\n",
      "Video url: dataset\\test\\Verde\\003_005_005.avi, video_length:118.0\n",
      "Video url: dataset\\test\\Verde\\003_007_003.avi, video_length:88.0\n",
      "Video url: dataset\\test\\Verde\\003_009_002.avi, video_length:118.0\n",
      "Video url: dataset\\test\\Verde\\003_010_001.avi, video_length:118.0\n",
      "Video url: dataset\\test\\Verde\\003_010_003.avi, video_length:88.0\n",
      "Video url: dataset\\test\\Verde\\003_010_004.avi, video_length:118.0\n",
      "Video url: dataset\\test\\Yogur\\049_001_001.avi, video_length:152.0\n",
      "Video url: dataset\\test\\Yogur\\049_001_004.avi, video_length:152.0\n",
      "Video url: dataset\\test\\Yogur\\049_004_003.avi, video_length:122.0\n",
      "Video url: dataset\\test\\Yogur\\049_004_004.avi, video_length:122.0\n",
      "Video url: dataset\\test\\Yogur\\049_006_002.avi, video_length:152.0\n",
      "Video url: dataset\\test\\Yogur\\049_006_005.avi, video_length:152.0\n",
      "Video url: dataset\\test\\Yogur\\049_007_005.avi, video_length:122.0\n",
      "Video url: dataset\\test\\Yogur\\049_009_003.avi, video_length:152.0\n",
      "Video url: dataset\\test\\Yogur\\049_009_004.avi, video_length:122.0\n",
      "Video url: dataset\\test\\Yogur\\049_010_001.avi, video_length:152.0\n"
     ]
    }
   ],
   "source": [
    "x_test, y_test = get_files_and_class_names(subset_paths['test'])"
   ]
  },
  {
   "cell_type": "code",
   "execution_count": 28,
   "id": "4ccf9a91",
   "metadata": {
    "scrolled": true
   },
   "outputs": [
    {
     "data": {
      "text/plain": [
       "(640, 20, 224, 224, 1)"
      ]
     },
     "execution_count": 28,
     "metadata": {},
     "output_type": "execute_result"
    }
   ],
   "source": [
    "x_test.shape"
   ]
  },
  {
   "cell_type": "markdown",
   "id": "ab4a63e6",
   "metadata": {},
   "source": [
    "## Modelo ConvLSTM"
   ]
  },
  {
   "cell_type": "code",
   "execution_count": 9,
   "id": "5903b398",
   "metadata": {
    "scrolled": true
   },
   "outputs": [
    {
     "name": "stdout",
     "output_type": "stream",
     "text": [
      "WARNING:tensorflow:From C:\\Users\\Lucio\\AppData\\Local\\Packages\\PythonSoftwareFoundation.Python.3.10_qbz5n2kfra8p0\\LocalCache\\local-packages\\Python310\\site-packages\\keras\\src\\saving\\legacy\\saved_model\\load.py:107: The name tf.gfile.Exists is deprecated. Please use tf.io.gfile.exists instead.\n",
      "\n",
      "WARNING:tensorflow:From C:\\Users\\Lucio\\AppData\\Local\\Packages\\PythonSoftwareFoundation.Python.3.10_qbz5n2kfra8p0\\LocalCache\\local-packages\\Python310\\site-packages\\keras\\src\\utils\\tf_utils.py:229: The name tf.Dimension is deprecated. Please use tf.compat.v1.Dimension instead.\n",
      "\n"
     ]
    }
   ],
   "source": [
    "model = load_model('./models/modelConvLSTM')"
   ]
  },
  {
   "cell_type": "code",
   "execution_count": null,
   "id": "e98433f8",
   "metadata": {
    "scrolled": false
   },
   "outputs": [],
   "source": [
    "model.summary()"
   ]
  },
  {
   "cell_type": "code",
   "execution_count": 30,
   "id": "9f59583b",
   "metadata": {
    "scrolled": true
   },
   "outputs": [
    {
     "name": "stdout",
     "output_type": "stream",
     "text": [
      "WARNING:tensorflow:From C:\\Users\\Lucio\\AppData\\Local\\Packages\\PythonSoftwareFoundation.Python.3.10_qbz5n2kfra8p0\\LocalCache\\local-packages\\Python310\\site-packages\\keras\\src\\utils\\tf_utils.py:492: The name tf.ragged.RaggedTensorValue is deprecated. Please use tf.compat.v1.ragged.RaggedTensorValue instead.\n",
      "\n"
     ]
    },
    {
     "name": "stderr",
     "output_type": "stream",
     "text": [
      "WARNING:tensorflow:From C:\\Users\\Lucio\\AppData\\Local\\Packages\\PythonSoftwareFoundation.Python.3.10_qbz5n2kfra8p0\\LocalCache\\local-packages\\Python310\\site-packages\\keras\\src\\utils\\tf_utils.py:492: The name tf.ragged.RaggedTensorValue is deprecated. Please use tf.compat.v1.ragged.RaggedTensorValue instead.\n",
      "\n"
     ]
    },
    {
     "name": "stdout",
     "output_type": "stream",
     "text": [
      "20/20 [==============================] - 79s 4s/step - loss: 0.1163 - accuracy: 0.9750\n"
     ]
    }
   ],
   "source": [
    "model_evaluation_history = model.evaluate(x_test,y_test)"
   ]
  },
  {
   "cell_type": "code",
   "execution_count": null,
   "id": "5583d783",
   "metadata": {
    "scrolled": true
   },
   "outputs": [],
   "source": [
    "print(model_evaluation_history)"
   ]
  },
  {
   "cell_type": "markdown",
   "id": "20f0f0d8",
   "metadata": {},
   "source": [
    "## Confusion matrix"
   ]
  },
  {
   "cell_type": "code",
   "execution_count": null,
   "id": "7f5a1bfa",
   "metadata": {
    "scrolled": true
   },
   "outputs": [],
   "source": [
    "from sklearn.metrics import confusion_matrix\n",
    "import pandas as pd\n",
    "import seaborn as sn"
   ]
  },
  {
   "cell_type": "code",
   "execution_count": null,
   "id": "b552919f",
   "metadata": {
    "scrolled": true
   },
   "outputs": [],
   "source": [
    "#Predict\n",
    "y_prediction = model.predict(x_test)\n",
    "y_prediction = np.argmax(y_prediction, axis = 1)"
   ]
  },
  {
   "cell_type": "code",
   "execution_count": null,
   "id": "f3a978f0",
   "metadata": {
    "scrolled": true
   },
   "outputs": [],
   "source": [
    "#Create confusion matrix and normalizes it over predicted (columns)\n",
    "result = confusion_matrix(y_test, y_prediction )\n",
    "df_matrix = pd.DataFrame(result)\n",
    "plt.figure(figsize = (25,17))\n",
    "sn.heatmap(df_matrix,annot=True)"
   ]
  },
  {
   "cell_type": "code",
   "execution_count": null,
   "id": "075f703e",
   "metadata": {
    "scrolled": true
   },
   "outputs": [],
   "source": [
    "result.shape"
   ]
  },
  {
   "cell_type": "markdown",
   "id": "333ea45d",
   "metadata": {},
   "source": [
    "## Experiments with miscellaneous data"
   ]
  },
  {
   "cell_type": "markdown",
   "id": "98cd830d",
   "metadata": {},
   "source": [
    "In the root directory of the project, create a directory called 'pruebas' (or change the code en the second cell from here for a personalized directory)\n",
    "and assign the relative location of the video to test the model with"
   ]
  },
  {
   "cell_type": "code",
   "execution_count": 17,
   "id": "d59421be",
   "metadata": {
    "scrolled": true
   },
   "outputs": [],
   "source": [
    "name_vid = 'landmarksVids/sign05.avi'"
   ]
  },
  {
   "cell_type": "code",
   "execution_count": 18,
   "id": "4ce01bc3",
   "metadata": {
    "scrolled": true
   },
   "outputs": [
    {
     "name": "stdout",
     "output_type": "stream",
     "text": [
      "Video url: ./pruebas/landmarksVids/sign05.avi, video_length:52\n"
     ]
    }
   ],
   "source": [
    "vid_unprocessed = f'./pruebas/{name_vid}'\n",
    "frames = frames_extraction(vid_unprocessed)"
   ]
  },
  {
   "cell_type": "code",
   "execution_count": 15,
   "id": "a86e285b",
   "metadata": {
    "scrolled": true
   },
   "outputs": [],
   "source": [
    "def resizeVid(video,width = WIDTH, height = HEIGHT):\n",
    "    resizedVideo = []\n",
    "    size = len(video)\n",
    "    for img in video:\n",
    "        img = cv2.flip(img,1)\n",
    "        img = cv2.resize(img,(width,height))\n",
    "        img = np.expand_dims(img, axis=-1) \n",
    "        resizedVideo.append(img)\n",
    "    return resizedVideo"
   ]
  },
  {
   "cell_type": "code",
   "execution_count": 20,
   "id": "58aa4fde",
   "metadata": {
    "scrolled": true
   },
   "outputs": [
    {
     "data": {
      "text/plain": [
       "(1, 20, 224, 224, 1)"
      ]
     },
     "execution_count": 20,
     "metadata": {},
     "output_type": "execute_result"
    }
   ],
   "source": [
    "frames = np.array([resizeVid(frames)])\n",
    "frames.shape"
   ]
  },
  {
   "cell_type": "code",
   "execution_count": 21,
   "id": "ff4b5df2",
   "metadata": {
    "scrolled": true
   },
   "outputs": [
    {
     "data": {
      "text/plain": [
       "(20, 224, 224, 1)"
      ]
     },
     "execution_count": 21,
     "metadata": {},
     "output_type": "execute_result"
    }
   ],
   "source": [
    "frames[0].shape"
   ]
  },
  {
   "cell_type": "markdown",
   "id": "032455d3",
   "metadata": {},
   "source": [
    "### Graph of the different frames after being processed"
   ]
  },
  {
   "cell_type": "code",
   "execution_count": 22,
   "id": "4ae6dbeb",
   "metadata": {
    "scrolled": true
   },
   "outputs": [],
   "source": [
    "showFrames = frames[0].reshape(5,4,224,224,1)"
   ]
  },
  {
   "cell_type": "code",
   "execution_count": 23,
   "id": "5ba64b75",
   "metadata": {
    "scrolled": true
   },
   "outputs": [
    {
     "data": {
      "image/png": "[encoded data removed]",
      "text/plain": [
       "<Figure size 2000x2000 with 20 Axes>"
      ]
     },
     "metadata": {},
     "output_type": "display_data"
    }
   ],
   "source": [
    "f,ax = plt.subplots(5,4, figsize= (20,20))\n",
    "for i in range(5):\n",
    "    for j in range(4):\n",
    "        ax[i,j].imshow(showFrames[i][j], cmap='gray')"
   ]
  },
  {
   "cell_type": "code",
   "execution_count": 24,
   "id": "d1b3419a",
   "metadata": {},
   "outputs": [],
   "source": [
    "f.savefig(\"figure.png\")"
   ]
  },
  {
   "cell_type": "markdown",
   "id": "4adbaeef",
   "metadata": {},
   "source": [
    "# Test ConvLSTM Model"
   ]
  },
  {
   "cell_type": "code",
   "execution_count": null,
   "id": "a4bb4b6f",
   "metadata": {
    "scrolled": true
   },
   "outputs": [],
   "source": [
    "prediction = np.argmax(model.predict(frames))+1\n",
    "prediction"
   ]
  },
  {
   "cell_type": "code",
   "execution_count": null,
   "id": "07da80a8",
   "metadata": {
    "scrolled": true
   },
   "outputs": [],
   "source": [
    "model.predict(frames)[0][prediction-1]"
   ]
  },
  {
   "cell_type": "markdown",
   "id": "9d9c03c5",
   "metadata": {},
   "source": [
    "# Test LRCN Model"
   ]
  },
  {
   "cell_type": "code",
   "execution_count": 23,
   "id": "a197c56c",
   "metadata": {
    "scrolled": true
   },
   "outputs": [],
   "source": [
    "modelLRCN = load_model('./models/LRCNhandsOnly')"
   ]
  },
  {
   "cell_type": "code",
   "execution_count": null,
   "id": "2091333f",
   "metadata": {
    "scrolled": true
   },
   "outputs": [],
   "source": [
    "model_ev_LRCN = modelLRCN.evaluate(x_test,y_test)"
   ]
  },
  {
   "cell_type": "code",
   "execution_count": null,
   "id": "504309a6",
   "metadata": {
    "scrolled": true
   },
   "outputs": [],
   "source": [
    "prediction = np.argmax(modelLRCN.predict(frames))+1\n",
    "prediction"
   ]
  },
  {
   "cell_type": "code",
   "execution_count": null,
   "id": "844b2d77",
   "metadata": {
    "scrolled": true
   },
   "outputs": [],
   "source": [
    "modelLRCN.predict(frames)[0][prediction-1]"
   ]
  },
  {
   "cell_type": "markdown",
   "id": "42438c4f",
   "metadata": {},
   "source": [
    "# Preparation of experimental data"
   ]
  },
  {
   "cell_type": "markdown",
   "id": "d252f371",
   "metadata": {},
   "source": [
    "## Gloveless videos sample"
   ]
  },
  {
   "cell_type": "code",
   "execution_count": 37,
   "id": "e86087e2",
   "metadata": {
    "scrolled": true
   },
   "outputs": [
    {
     "data": {
      "text/plain": [
       "[WindowsPath('pruebas/landmarksVids/sign01.avi'),\n",
       " WindowsPath('pruebas/landmarksVids/sign02.avi'),\n",
       " WindowsPath('pruebas/landmarksVids/sign03.avi'),\n",
       " WindowsPath('pruebas/landmarksVids/sign04.avi'),\n",
       " WindowsPath('pruebas/landmarksVids/sign05.avi'),\n",
       " WindowsPath('pruebas/landmarksVids/sign06.avi'),\n",
       " WindowsPath('pruebas/landmarksVids/sign07.avi'),\n",
       " WindowsPath('pruebas/landmarksVids/sign08.avi'),\n",
       " WindowsPath('pruebas/landmarksVids/sign09.avi'),\n",
       " WindowsPath('pruebas/landmarksVids/sign10.avi'),\n",
       " WindowsPath('pruebas/landmarksVids/sign11.avi'),\n",
       " WindowsPath('pruebas/landmarksVids/sign12.avi'),\n",
       " WindowsPath('pruebas/landmarksVids/sign13.avi'),\n",
       " WindowsPath('pruebas/landmarksVids/sign14.avi'),\n",
       " WindowsPath('pruebas/landmarksVids/sign15.avi'),\n",
       " WindowsPath('pruebas/landmarksVids/sign16.avi'),\n",
       " WindowsPath('pruebas/landmarksVids/sign17.avi'),\n",
       " WindowsPath('pruebas/landmarksVids/sign18.avi'),\n",
       " WindowsPath('pruebas/landmarksVids/sign19.avi'),\n",
       " WindowsPath('pruebas/landmarksVids/sign20.avi'),\n",
       " WindowsPath('pruebas/landmarksVids/sign21.avi'),\n",
       " WindowsPath('pruebas/landmarksVids/sign22.avi'),\n",
       " WindowsPath('pruebas/landmarksVids/sign23.avi'),\n",
       " WindowsPath('pruebas/landmarksVids/sign24.avi'),\n",
       " WindowsPath('pruebas/landmarksVids/sign25.avi'),\n",
       " WindowsPath('pruebas/landmarksVids/sign26.avi'),\n",
       " WindowsPath('pruebas/landmarksVids/sign27.avi'),\n",
       " WindowsPath('pruebas/landmarksVids/sign28.avi'),\n",
       " WindowsPath('pruebas/landmarksVids/sign29.avi'),\n",
       " WindowsPath('pruebas/landmarksVids/sign30.avi'),\n",
       " WindowsPath('pruebas/landmarksVids/sign31.avi'),\n",
       " WindowsPath('pruebas/landmarksVids/sign32.avi'),\n",
       " WindowsPath('pruebas/landmarksVids/sign33.avi'),\n",
       " WindowsPath('pruebas/landmarksVids/sign34.avi'),\n",
       " WindowsPath('pruebas/landmarksVids/sign35.avi'),\n",
       " WindowsPath('pruebas/landmarksVids/sign36.avi'),\n",
       " WindowsPath('pruebas/landmarksVids/sign37.avi'),\n",
       " WindowsPath('pruebas/landmarksVids/sign38.avi'),\n",
       " WindowsPath('pruebas/landmarksVids/sign39.avi'),\n",
       " WindowsPath('pruebas/landmarksVids/sign40.avi'),\n",
       " WindowsPath('pruebas/landmarksVids/sign41.avi'),\n",
       " WindowsPath('pruebas/landmarksVids/sign42.avi'),\n",
       " WindowsPath('pruebas/landmarksVids/sign43.avi'),\n",
       " WindowsPath('pruebas/landmarksVids/sign44.avi'),\n",
       " WindowsPath('pruebas/landmarksVids/sign45.avi'),\n",
       " WindowsPath('pruebas/landmarksVids/sign46.avi'),\n",
       " WindowsPath('pruebas/landmarksVids/sign47.avi'),\n",
       " WindowsPath('pruebas/landmarksVids/sign48.avi'),\n",
       " WindowsPath('pruebas/landmarksVids/sign49.avi'),\n",
       " WindowsPath('pruebas/landmarksVids/sign50.avi'),\n",
       " WindowsPath('pruebas/landmarksVids/sign51.avi'),\n",
       " WindowsPath('pruebas/landmarksVids/sign52.avi'),\n",
       " WindowsPath('pruebas/landmarksVids/sign53.avi'),\n",
       " WindowsPath('pruebas/landmarksVids/sign54.avi'),\n",
       " WindowsPath('pruebas/landmarksVids/sign55.avi'),\n",
       " WindowsPath('pruebas/landmarksVids/sign56.avi'),\n",
       " WindowsPath('pruebas/landmarksVids/sign57.avi'),\n",
       " WindowsPath('pruebas/landmarksVids/sign58.avi'),\n",
       " WindowsPath('pruebas/landmarksVids/sign59.avi'),\n",
       " WindowsPath('pruebas/landmarksVids/sign60.avi'),\n",
       " WindowsPath('pruebas/landmarksVids/sign61.avi'),\n",
       " WindowsPath('pruebas/landmarksVids/sign62.avi'),\n",
       " WindowsPath('pruebas/landmarksVids/sign63.avi'),\n",
       " WindowsPath('pruebas/landmarksVids/sign64.avi')]"
      ]
     },
     "execution_count": 37,
     "metadata": {},
     "output_type": "execute_result"
    }
   ],
   "source": [
    "glovelessTestPath = pathlib.Path('./pruebas/landmarksVids')\n",
    "glovelessVids = list(glovelessTestPath.glob('*.avi'))\n",
    "glovelessVids"
   ]
  },
  {
   "cell_type": "markdown",
   "id": "46292c83",
   "metadata": {},
   "source": [
    "## Colored gloves sample"
   ]
  },
  {
   "cell_type": "code",
   "execution_count": null,
   "id": "85b53654",
   "metadata": {
    "scrolled": true
   },
   "outputs": [],
   "source": [
    "gloveTestPath = pathlib.Path('./pruebas/serie_prueba_guantes')\n",
    "gloveVids = list(gloveTestPath.glob('*.mp4'))\n",
    "gloveVids"
   ]
  },
  {
   "cell_type": "markdown",
   "id": "47810a0d",
   "metadata": {},
   "source": [
    "### Preparing the labels"
   ]
  },
  {
   "cell_type": "code",
   "execution_count": 38,
   "id": "a142e6ab",
   "metadata": {
    "scrolled": true
   },
   "outputs": [],
   "source": [
    "labelsPruebas = np.array(list(range(64)),dtype='int16')"
   ]
  },
  {
   "cell_type": "code",
   "execution_count": null,
   "id": "4eda5a10",
   "metadata": {
    "scrolled": true
   },
   "outputs": [],
   "source": [
    "labelsPruebas"
   ]
  },
  {
   "cell_type": "markdown",
   "id": "9a88696b",
   "metadata": {},
   "source": [
    "### Preparing gloveless videos array "
   ]
  },
  {
   "cell_type": "code",
   "execution_count": 45,
   "id": "79407bd1",
   "metadata": {
    "scrolled": true
   },
   "outputs": [
    {
     "name": "stdout",
     "output_type": "stream",
     "text": [
      "Video url: pruebas\\landmarksVids\\sign01.avi, video_length:46\n",
      "Video url: pruebas\\landmarksVids\\sign02.avi, video_length:54\n",
      "Video url: pruebas\\landmarksVids\\sign03.avi, video_length:60\n",
      "Video url: pruebas\\landmarksVids\\sign04.avi, video_length:42\n",
      "Video url: pruebas\\landmarksVids\\sign05.avi, video_length:52\n",
      "Video url: pruebas\\landmarksVids\\sign06.avi, video_length:47\n",
      "Video url: pruebas\\landmarksVids\\sign07.avi, video_length:40\n",
      "Video url: pruebas\\landmarksVids\\sign08.avi, video_length:58\n",
      "Video url: pruebas\\landmarksVids\\sign09.avi, video_length:67\n",
      "Video url: pruebas\\landmarksVids\\sign10.avi, video_length:43\n",
      "Video url: pruebas\\landmarksVids\\sign11.avi, video_length:46\n",
      "Video url: pruebas\\landmarksVids\\sign12.avi, video_length:57\n",
      "Video url: pruebas\\landmarksVids\\sign13.avi, video_length:48\n",
      "Video url: pruebas\\landmarksVids\\sign14.avi, video_length:50\n",
      "Video url: pruebas\\landmarksVids\\sign15.avi, video_length:37\n",
      "Video url: pruebas\\landmarksVids\\sign16.avi, video_length:61\n",
      "Video url: pruebas\\landmarksVids\\sign17.avi, video_length:59\n",
      "Video url: pruebas\\landmarksVids\\sign18.avi, video_length:75\n",
      "Video url: pruebas\\landmarksVids\\sign19.avi, video_length:46\n",
      "Video url: pruebas\\landmarksVids\\sign20.avi, video_length:52\n",
      "Video url: pruebas\\landmarksVids\\sign21.avi, video_length:48\n",
      "Video url: pruebas\\landmarksVids\\sign22.avi, video_length:66\n",
      "Video url: pruebas\\landmarksVids\\sign23.avi, video_length:58\n",
      "Video url: pruebas\\landmarksVids\\sign24.avi, video_length:70\n",
      "Video url: pruebas\\landmarksVids\\sign25.avi, video_length:62\n",
      "Video url: pruebas\\landmarksVids\\sign26.avi, video_length:84\n",
      "Video url: pruebas\\landmarksVids\\sign27.avi, video_length:65\n",
      "Video url: pruebas\\landmarksVids\\sign28.avi, video_length:75\n",
      "Video url: pruebas\\landmarksVids\\sign29.avi, video_length:56\n",
      "Video url: pruebas\\landmarksVids\\sign30.avi, video_length:49\n",
      "Video url: pruebas\\landmarksVids\\sign31.avi, video_length:99\n",
      "Video url: pruebas\\landmarksVids\\sign32.avi, video_length:67\n",
      "Video url: pruebas\\landmarksVids\\sign33.avi, video_length:70\n",
      "Video url: pruebas\\landmarksVids\\sign34.avi, video_length:127\n",
      "Video url: pruebas\\landmarksVids\\sign35.avi, video_length:122\n",
      "Video url: pruebas\\landmarksVids\\sign36.avi, video_length:60\n",
      "Video url: pruebas\\landmarksVids\\sign37.avi, video_length:54\n",
      "Video url: pruebas\\landmarksVids\\sign38.avi, video_length:58\n",
      "Video url: pruebas\\landmarksVids\\sign39.avi, video_length:61\n",
      "Video url: pruebas\\landmarksVids\\sign40.avi, video_length:64\n",
      "Video url: pruebas\\landmarksVids\\sign41.avi, video_length:58\n",
      "Video url: pruebas\\landmarksVids\\sign42.avi, video_length:53\n",
      "Video url: pruebas\\landmarksVids\\sign43.avi, video_length:48\n",
      "Video url: pruebas\\landmarksVids\\sign44.avi, video_length:52\n",
      "Video url: pruebas\\landmarksVids\\sign45.avi, video_length:72\n",
      "Video url: pruebas\\landmarksVids\\sign46.avi, video_length:82\n",
      "Video url: pruebas\\landmarksVids\\sign47.avi, video_length:63\n",
      "Video url: pruebas\\landmarksVids\\sign48.avi, video_length:57\n",
      "Video url: pruebas\\landmarksVids\\sign49.avi, video_length:56\n",
      "Video url: pruebas\\landmarksVids\\sign50.avi, video_length:50\n",
      "Video url: pruebas\\landmarksVids\\sign51.avi, video_length:59\n",
      "Video url: pruebas\\landmarksVids\\sign52.avi, video_length:46\n",
      "Video url: pruebas\\landmarksVids\\sign53.avi, video_length:52\n",
      "Video url: pruebas\\landmarksVids\\sign54.avi, video_length:45\n",
      "Video url: pruebas\\landmarksVids\\sign55.avi, video_length:42\n",
      "Video url: pruebas\\landmarksVids\\sign56.avi, video_length:51\n",
      "Video url: pruebas\\landmarksVids\\sign57.avi, video_length:65\n",
      "Video url: pruebas\\landmarksVids\\sign58.avi, video_length:80\n",
      "Video url: pruebas\\landmarksVids\\sign59.avi, video_length:39\n",
      "Video url: pruebas\\landmarksVids\\sign60.avi, video_length:61\n",
      "Video url: pruebas\\landmarksVids\\sign61.avi, video_length:57\n",
      "Video url: pruebas\\landmarksVids\\sign62.avi, video_length:46\n",
      "Video url: pruebas\\landmarksVids\\sign63.avi, video_length:46\n",
      "Video url: pruebas\\landmarksVids\\sign64.avi, video_length:48\n"
     ]
    }
   ],
   "source": [
    "x_bare = np.array([resizeVid(frames_extraction(str(p))) for p in glovelessVids],dtype='float16') "
   ]
  },
  {
   "cell_type": "code",
   "execution_count": 43,
   "id": "79512e94",
   "metadata": {
    "scrolled": true
   },
   "outputs": [
    {
     "data": {
      "text/plain": [
       "(64, 20, 224, 224, 1)"
      ]
     },
     "execution_count": 43,
     "metadata": {},
     "output_type": "execute_result"
    }
   ],
   "source": [
    "x_bare.shape"
   ]
  },
  {
   "cell_type": "markdown",
   "id": "52417665",
   "metadata": {},
   "source": [
    "## Testing the ConvLSTM model with the gloveless set"
   ]
  },
  {
   "cell_type": "code",
   "execution_count": 46,
   "id": "0ecea131",
   "metadata": {
    "scrolled": true
   },
   "outputs": [
    {
     "name": "stdout",
     "output_type": "stream",
     "text": [
      "2/2 [==============================] - 9s 4s/step - loss: 4.8543 - accuracy: 0.4844\n"
     ]
    },
    {
     "data": {
      "text/plain": [
       "[4.854253768920898, 0.484375]"
      ]
     },
     "execution_count": 46,
     "metadata": {},
     "output_type": "execute_result"
    }
   ],
   "source": [
    "model.evaluate(x_bare,labelsPruebas)"
   ]
  },
  {
   "cell_type": "markdown",
   "id": "08dbfc4e",
   "metadata": {},
   "source": [
    "### Model's predictions"
   ]
  },
  {
   "cell_type": "code",
   "execution_count": null,
   "id": "6f3d7e9e",
   "metadata": {},
   "outputs": [],
   "source": [
    "predictionsBare = np.array([np.argmax(c) for c in model.predict(x_bare)])"
   ]
  },
  {
   "cell_type": "code",
   "execution_count": null,
   "id": "93d1113b",
   "metadata": {},
   "outputs": [],
   "source": [
    "predictionsBare"
   ]
  },
  {
   "cell_type": "markdown",
   "id": "64b5af96",
   "metadata": {},
   "source": [
    "### Signs that were correctly predicted"
   ]
  },
  {
   "cell_type": "code",
   "execution_count": null,
   "id": "fc8769ce",
   "metadata": {},
   "outputs": [],
   "source": [
    "ok_bare = labelsPruebas[predictionsBare == labelsPruebas]"
   ]
  },
  {
   "cell_type": "code",
   "execution_count": null,
   "id": "4dd8e3d6",
   "metadata": {},
   "outputs": [],
   "source": [
    "ok_bare"
   ]
  },
  {
   "cell_type": "code",
   "execution_count": null,
   "id": "85f60d93",
   "metadata": {},
   "outputs": [],
   "source": [
    "x_gloves = np.array([resizeVid(frames_extraction(str(p))) for p in gloveVids],dtype='float16') "
   ]
  },
  {
   "cell_type": "code",
   "execution_count": null,
   "id": "10ccb107",
   "metadata": {},
   "outputs": [],
   "source": [
    "x_gloves.shape"
   ]
  },
  {
   "cell_type": "code",
   "execution_count": null,
   "id": "9e3767a9",
   "metadata": {},
   "outputs": [],
   "source": [
    "model.evaluate(x_gloves,labelsPruebas)"
   ]
  },
  {
   "cell_type": "code",
   "execution_count": 48,
   "id": "cd9c6f9a",
   "metadata": {},
   "outputs": [
    {
     "name": "stdout",
     "output_type": "stream",
     "text": [
      "2/2 [==============================] - 1s 594ms/step - loss: 5.6703 - accuracy: 0.0781\n"
     ]
    },
    {
     "data": {
      "text/plain": [
       "[5.670297622680664, 0.078125]"
      ]
     },
     "execution_count": 48,
     "metadata": {},
     "output_type": "execute_result"
    }
   ],
   "source": [
    "modelLRCN.evaluate(x_bare,labelsPruebas)"
   ]
  },
  {
   "cell_type": "code",
   "execution_count": null,
   "id": "d715aeaa",
   "metadata": {},
   "outputs": [],
   "source": [
    "modelLRCN.evaluate(x_gloves,labelsPruebas)"
   ]
  },
  {
   "cell_type": "code",
   "execution_count": null,
   "id": "a1e1232f",
   "metadata": {},
   "outputs": [],
   "source": []
  }
 ],
 "metadata": {
  "kernelspec": {
   "display_name": "Python 3 (ipykernel)",
   "language": "python",
   "name": "python3"
  },
  "language_info": {
   "codemirror_mode": {
    "name": "ipython",
    "version": 3
   },
   "file_extension": ".py",
   "mimetype": "text/x-python",
   "name": "python",
   "nbconvert_exporter": "python",
   "pygments_lexer": "ipython3",
   "version": "3.10.11"
  }
 },
 "nbformat": 4,
 "nbformat_minor": 5
}
