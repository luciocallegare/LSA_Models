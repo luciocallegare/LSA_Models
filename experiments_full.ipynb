{
 "cells": [
  {
   "cell_type": "code",
   "execution_count": 1,
   "id": "eda42f6e",
   "metadata": {},
   "outputs": [],
   "source": [
    "from keras.models import load_model\n",
    "from keras.utils import to_categorical"
   ]
  },
  {
   "cell_type": "code",
   "execution_count": 2,
   "id": "967a2ef0",
   "metadata": {},
   "outputs": [],
   "source": [
    "import numpy as np\n",
    "import json\n",
    "import pathlib\n",
    "import random\n",
    "import matplotlib.pyplot as plt\n",
    "import cv2"
   ]
  },
  {
   "cell_type": "code",
   "execution_count": 3,
   "id": "07ab91f5",
   "metadata": {},
   "outputs": [],
   "source": [
    "subset_paths = {\n",
    "  'train': pathlib.Path('./dataset_full/train'),\n",
    "  'val': pathlib.Path('./dataset_full/val'),\n",
    "  'test': pathlib.Path('./dataset_full/test')\n",
    "}\n",
    "\n",
    "HEIGHT = 224\n",
    "WIDTH = 224\n",
    "N_FRAMES = 20\n",
    "num_classes = 64"
   ]
  },
  {
   "cell_type": "code",
   "execution_count": 4,
   "id": "16a7202c",
   "metadata": {},
   "outputs": [],
   "source": [
    "def groupFrames(video_path, n_frames = N_FRAMES, frame_step = 15):\n",
    "  \"\"\"\n",
    "    Creates frames from each video file present for each category.\n",
    "\n",
    "    Args:\n",
    "      video_path: File path to the video.\n",
    "      n_frames: Number of frames to be created per video file.\n",
    "      output_size: Pixel size of the output frame image.\n",
    "\n",
    "    Return:\n",
    "      An NumPy array of frames in the shape of (n_frames, height, width, channels).\n",
    "  \"\"\"\n",
    "  # Read each video frame by frame\n",
    "  result = []\n",
    "  encoded_string = video_path.encode('latin-1')\n",
    "  video_path = encoded_string.decode(\"utf-8\")\n",
    "  src = cv2.VideoCapture(video_path)  \n",
    "  video_length = src.get(cv2.CAP_PROP_FRAME_COUNT)\n",
    "  print(f'Video url: {video_path}, video_length:{video_length}')\n",
    "  need_length = 1 + (n_frames - 1) * frame_step\n",
    "  if need_length > video_length:\n",
    "    start = 0\n",
    "  else:\n",
    "    max_start = video_length - need_length\n",
    "    start = random.randint(0, max_start + 1)\n",
    "  src.set(cv2.CAP_PROP_POS_FRAMES, start)\n",
    "  # ret is a boolean indicating whether read was successful, frame is the image itself\n",
    "  ret, frame = src.read()\n",
    "  if ret: \n",
    "      frame = cv2.cvtColor(frame,cv2.COLOR_BGR2GRAY)\n",
    "      frame = np.expand_dims(frame, axis=-1) \n",
    "      result.append(frame/255)\n",
    "  for _ in range(n_frames - 1):\n",
    "    for _ in range(frame_step):\n",
    "      ret, frame = src.read()\n",
    "    if ret:   \n",
    "        frame = cv2.cvtColor(frame,cv2.COLOR_BGR2GRAY)\n",
    "        frame = np.expand_dims(frame, axis=-1) \n",
    "        result.append(frame/255)\n",
    "    else:\n",
    "      result.append(np.zeros_like(result[0]))\n",
    "  src.release()\n",
    "  cv2.destroyAllWindows()\n",
    "  result = np.array(result)\n",
    "  #print('SHAPE RESULT',result.shape)\n",
    "  return result"
   ]
  },
  {
   "cell_type": "code",
   "execution_count": 5,
   "id": "8879c292",
   "metadata": {},
   "outputs": [],
   "source": [
    "def find_id(labels,name):\n",
    "   return list(filter(lambda x: x['name'] == name,labels))[0]\n",
    "\n",
    "def get_files_and_class_names(path):\n",
    "    video_paths = list(path.glob('*/*.avi'))\n",
    "    classes = [p.parent.name for p in video_paths]\n",
    "    f = open('./dataset.json')\n",
    "    labels = json.load(f)\n",
    "    classes = np.array(list(map(lambda x: int(find_id(labels,x)['id'])-1,classes)))\n",
    "    encoded_labels = to_categorical(classes)\n",
    "    videos = np.array([groupFrames(str(p)) for p in video_paths],dtype='float16')\n",
    "    return videos, classes"
   ]
  },
  {
   "cell_type": "code",
   "execution_count": 60,
   "id": "af5e187b",
   "metadata": {},
   "outputs": [
    {
     "name": "stdout",
     "output_type": "stream",
     "text": [
      "Video url: dataset_full\\test\\Aceptar\\050_001_004.avi, video_length:152.0\n",
      "Video url: dataset_full\\test\\Aceptar\\050_001_005.avi, video_length:182.0\n",
      "Video url: dataset_full\\test\\Aceptar\\050_003_002.avi, video_length:152.0\n",
      "Video url: dataset_full\\test\\Aceptar\\050_004_001.avi, video_length:122.0\n",
      "Video url: dataset_full\\test\\Aceptar\\050_004_005.avi, video_length:92.0\n",
      "Video url: dataset_full\\test\\Aceptar\\050_005_002.avi, video_length:152.0\n",
      "Video url: dataset_full\\test\\Aceptar\\050_005_003.avi, video_length:152.0\n",
      "Video url: dataset_full\\test\\Aceptar\\050_006_003.avi, video_length:122.0\n",
      "Video url: dataset_full\\test\\Aceptar\\050_007_005.avi, video_length:122.0\n",
      "Video url: dataset_full\\test\\Aceptar\\050_009_002.avi, video_length:152.0\n",
      "Video url: dataset_full\\test\\Agua\\022_001_005.avi, video_length:148.0\n",
      "Video url: dataset_full\\test\\Agua\\022_002_003.avi, video_length:88.0\n",
      "Video url: dataset_full\\test\\Agua\\022_003_001.avi, video_length:118.0\n",
      "Video url: dataset_full\\test\\Agua\\022_003_003.avi, video_length:118.0\n",
      "Video url: dataset_full\\test\\Agua\\022_004_004.avi, video_length:118.0\n",
      "Video url: dataset_full\\test\\Agua\\022_005_001.avi, video_length:118.0\n",
      "Video url: dataset_full\\test\\Agua\\022_006_003.avi, video_length:118.0\n",
      "Video url: dataset_full\\test\\Agua\\022_007_004.avi, video_length:88.0\n",
      "Video url: dataset_full\\test\\Agua\\022_008_002.avi, video_length:118.0\n",
      "Video url: dataset_full\\test\\Agua\\022_009_002.avi, video_length:148.0\n",
      "Video url: dataset_full\\test\\Alimento\\023_002_002.avi, video_length:118.0\n",
      "Video url: dataset_full\\test\\Alimento\\023_003_001.avi, video_length:148.0\n",
      "Video url: dataset_full\\test\\Alimento\\023_003_002.avi, video_length:118.0\n",
      "Video url: dataset_full\\test\\Alimento\\023_004_004.avi, video_length:148.0\n",
      "Video url: dataset_full\\test\\Alimento\\023_005_002.avi, video_length:118.0\n",
      "Video url: dataset_full\\test\\Alimento\\023_006_003.avi, video_length:118.0\n",
      "Video url: dataset_full\\test\\Alimento\\023_008_002.avi, video_length:148.0\n",
      "Video url: dataset_full\\test\\Alimento\\023_009_001.avi, video_length:118.0\n",
      "Video url: dataset_full\\test\\Alimento\\023_009_003.avi, video_length:118.0\n",
      "Video url: dataset_full\\test\\Alimento\\023_010_003.avi, video_length:118.0\n",
      "Video url: dataset_full\\test\\Amargo\\019_001_001.avi, video_length:88.0\n",
      "Video url: dataset_full\\test\\Amargo\\019_001_002.avi, video_length:88.0\n",
      "Video url: dataset_full\\test\\Amargo\\019_001_005.avi, video_length:88.0\n",
      "Video url: dataset_full\\test\\Amargo\\019_003_003.avi, video_length:118.0\n",
      "Video url: dataset_full\\test\\Amargo\\019_004_003.avi, video_length:88.0\n",
      "Video url: dataset_full\\test\\Amargo\\019_004_005.avi, video_length:118.0\n",
      "Video url: dataset_full\\test\\Amargo\\019_005_004.avi, video_length:88.0\n",
      "Video url: dataset_full\\test\\Amargo\\019_006_003.avi, video_length:88.0\n",
      "Video url: dataset_full\\test\\Amargo\\019_009_004.avi, video_length:88.0\n",
      "Video url: dataset_full\\test\\Amargo\\019_010_001.avi, video_length:88.0\n",
      "Video url: dataset_full\\test\\Amarillo\\004_001_004.avi, video_length:88.0\n",
      "Video url: dataset_full\\test\\Amarillo\\004_001_005.avi, video_length:88.0\n",
      "Video url: dataset_full\\test\\Amarillo\\004_002_001.avi, video_length:148.0\n",
      "Video url: dataset_full\\test\\Amarillo\\004_002_002.avi, video_length:148.0\n",
      "Video url: dataset_full\\test\\Amarillo\\004_004_004.avi, video_length:118.0\n",
      "Video url: dataset_full\\test\\Amarillo\\004_004_005.avi, video_length:118.0\n",
      "Video url: dataset_full\\test\\Amarillo\\004_006_003.avi, video_length:118.0\n",
      "Video url: dataset_full\\test\\Amarillo\\004_007_003.avi, video_length:88.0\n",
      "Video url: dataset_full\\test\\Amarillo\\004_009_002.avi, video_length:88.0\n",
      "Video url: dataset_full\\test\\Amarillo\\004_009_005.avi, video_length:88.0\n",
      "Video url: dataset_full\\test\\Aparecer\\053_002_001.avi, video_length:122.0\n",
      "Video url: dataset_full\\test\\Aparecer\\053_003_002.avi, video_length:122.0\n",
      "Video url: dataset_full\\test\\Aparecer\\053_004_003.avi, video_length:92.0\n",
      "Video url: dataset_full\\test\\Aparecer\\053_004_005.avi, video_length:92.0\n",
      "Video url: dataset_full\\test\\Aparecer\\053_005_003.avi, video_length:152.0\n",
      "Video url: dataset_full\\test\\Aparecer\\053_006_003.avi, video_length:122.0\n",
      "Video url: dataset_full\\test\\Aparecer\\053_007_002.avi, video_length:92.0\n",
      "Video url: dataset_full\\test\\Aparecer\\053_007_004.avi, video_length:122.0\n",
      "Video url: dataset_full\\test\\Aparecer\\053_007_005.avi, video_length:122.0\n",
      "Video url: dataset_full\\test\\Aparecer\\053_008_004.avi, video_length:122.0\n",
      "Video url: dataset_full\\test\\Apellido\\027_001_002.avi, video_length:122.0\n",
      "Video url: dataset_full\\test\\Apellido\\027_001_003.avi, video_length:122.0\n",
      "Video url: dataset_full\\test\\Apellido\\027_001_005.avi, video_length:122.0\n",
      "Video url: dataset_full\\test\\Apellido\\027_002_001.avi, video_length:122.0\n",
      "Video url: dataset_full\\test\\Apellido\\027_003_001.avi, video_length:152.0\n",
      "Video url: dataset_full\\test\\Apellido\\027_004_002.avi, video_length:122.0\n",
      "Video url: dataset_full\\test\\Apellido\\027_005_005.avi, video_length:92.0\n",
      "Video url: dataset_full\\test\\Apellido\\027_006_002.avi, video_length:122.0\n",
      "Video url: dataset_full\\test\\Apellido\\027_007_005.avi, video_length:152.0\n",
      "Video url: dataset_full\\test\\Apellido\\027_008_004.avi, video_length:92.0\n",
      "Video url: dataset_full\\test\\Aprender\\016_001_003.avi, video_length:118.0\n",
      "Video url: dataset_full\\test\\Aprender\\016_001_004.avi, video_length:118.0\n",
      "Video url: dataset_full\\test\\Aprender\\016_002_001.avi, video_length:118.0\n",
      "Video url: dataset_full\\test\\Aprender\\016_002_004.avi, video_length:118.0\n",
      "Video url: dataset_full\\test\\Aprender\\016_003_001.avi, video_length:118.0\n",
      "Video url: dataset_full\\test\\Aprender\\016_003_002.avi, video_length:118.0\n",
      "Video url: dataset_full\\test\\Aprender\\016_008_004.avi, video_length:118.0\n",
      "Video url: dataset_full\\test\\Aprender\\016_009_002.avi, video_length:118.0\n",
      "Video url: dataset_full\\test\\Aprender\\016_010_003.avi, video_length:88.0\n",
      "Video url: dataset_full\\test\\Aprender\\016_010_005.avi, video_length:88.0\n",
      "Video url: dataset_full\\test\\Argentina\\024_001_001.avi, video_length:122.0\n",
      "Video url: dataset_full\\test\\Argentina\\024_001_005.avi, video_length:122.0\n",
      "Video url: dataset_full\\test\\Argentina\\024_003_001.avi, video_length:122.0\n",
      "Video url: dataset_full\\test\\Argentina\\024_003_003.avi, video_length:122.0\n",
      "Video url: dataset_full\\test\\Argentina\\024_005_001.avi, video_length:152.0\n",
      "Video url: dataset_full\\test\\Argentina\\024_005_004.avi, video_length:122.0\n",
      "Video url: dataset_full\\test\\Argentina\\024_006_002.avi, video_length:122.0\n",
      "Video url: dataset_full\\test\\Argentina\\024_007_003.avi, video_length:122.0\n",
      "Video url: dataset_full\\test\\Argentina\\024_007_004.avi, video_length:122.0\n",
      "Video url: dataset_full\\test\\Argentina\\024_008_001.avi, video_length:92.0\n",
      "Video url: dataset_full\\test\\Arroz\\044_002_001.avi, video_length:122.0\n",
      "Video url: dataset_full\\test\\Arroz\\044_002_002.avi, video_length:122.0\n",
      "Video url: dataset_full\\test\\Arroz\\044_002_004.avi, video_length:92.0\n",
      "Video url: dataset_full\\test\\Arroz\\044_003_002.avi, video_length:152.0\n",
      "Video url: dataset_full\\test\\Arroz\\044_004_004.avi, video_length:122.0\n",
      "Video url: dataset_full\\test\\Arroz\\044_005_001.avi, video_length:122.0\n",
      "Video url: dataset_full\\test\\Arroz\\044_006_001.avi, video_length:152.0\n",
      "Video url: dataset_full\\test\\Arroz\\044_008_001.avi, video_length:122.0\n",
      "Video url: dataset_full\\test\\Arroz\\044_008_002.avi, video_length:122.0\n",
      "Video url: dataset_full\\test\\Arroz\\044_009_001.avi, video_length:122.0\n",
      "Video url: dataset_full\\test\\Aterrizar\\054_001_003.avi, video_length:152.0\n",
      "Video url: dataset_full\\test\\Aterrizar\\054_002_004.avi, video_length:152.0\n",
      "Video url: dataset_full\\test\\Aterrizar\\054_003_001.avi, video_length:182.0\n",
      "Video url: dataset_full\\test\\Aterrizar\\054_006_002.avi, video_length:122.0\n",
      "Video url: dataset_full\\test\\Aterrizar\\054_007_003.avi, video_length:122.0\n",
      "Video url: dataset_full\\test\\Aterrizar\\054_008_001.avi, video_length:122.0\n",
      "Video url: dataset_full\\test\\Aterrizar\\054_008_003.avi, video_length:152.0\n",
      "Video url: dataset_full\\test\\Aterrizar\\054_008_005.avi, video_length:122.0\n",
      "Video url: dataset_full\\test\\Aterrizar\\054_010_002.avi, video_length:122.0\n",
      "Video url: dataset_full\\test\\Aterrizar\\054_010_005.avi, video_length:152.0\n",
      "Video url: dataset_full\\test\\Atrapar\\055_001_003.avi, video_length:122.0\n",
      "Video url: dataset_full\\test\\Atrapar\\055_003_005.avi, video_length:122.0\n",
      "Video url: dataset_full\\test\\Atrapar\\055_006_001.avi, video_length:92.0\n"
     ]
    },
    {
     "name": "stdout",
     "output_type": "stream",
     "text": [
      "Video url: dataset_full\\test\\Atrapar\\055_006_002.avi, video_length:92.0\n",
      "Video url: dataset_full\\test\\Atrapar\\055_006_004.avi, video_length:92.0\n",
      "Video url: dataset_full\\test\\Atrapar\\055_008_001.avi, video_length:92.0\n",
      "Video url: dataset_full\\test\\Atrapar\\055_008_005.avi, video_length:122.0\n",
      "Video url: dataset_full\\test\\Atrapar\\055_009_002.avi, video_length:122.0\n",
      "Video url: dataset_full\\test\\Atrapar\\055_010_003.avi, video_length:92.0\n",
      "Video url: dataset_full\\test\\Atrapar\\055_010_005.avi, video_length:122.0\n",
      "Video url: dataset_full\\test\\Ayuda\\056_001_005.avi, video_length:122.0\n",
      "Video url: dataset_full\\test\\Ayuda\\056_002_003.avi, video_length:122.0\n",
      "Video url: dataset_full\\test\\Ayuda\\056_002_005.avi, video_length:122.0\n",
      "Video url: dataset_full\\test\\Ayuda\\056_005_001.avi, video_length:122.0\n",
      "Video url: dataset_full\\test\\Ayuda\\056_005_005.avi, video_length:152.0\n",
      "Video url: dataset_full\\test\\Ayuda\\056_006_002.avi, video_length:122.0\n",
      "Video url: dataset_full\\test\\Ayuda\\056_006_003.avi, video_length:122.0\n",
      "Video url: dataset_full\\test\\Ayuda\\056_008_005.avi, video_length:92.0\n",
      "Video url: dataset_full\\test\\Ayuda\\056_009_004.avi, video_length:122.0\n",
      "Video url: dataset_full\\test\\Ayuda\\056_009_005.avi, video_length:122.0\n",
      "Video url: dataset_full\\test\\Azul claro\\006_001_005.avi, video_length:148.0\n",
      "Video url: dataset_full\\test\\Azul claro\\006_002_001.avi, video_length:148.0\n",
      "Video url: dataset_full\\test\\Azul claro\\006_002_002.avi, video_length:148.0\n",
      "Video url: dataset_full\\test\\Azul claro\\006_002_005.avi, video_length:148.0\n",
      "Video url: dataset_full\\test\\Azul claro\\006_003_005.avi, video_length:178.0\n",
      "Video url: dataset_full\\test\\Azul claro\\006_005_005.avi, video_length:148.0\n",
      "Video url: dataset_full\\test\\Azul claro\\006_006_004.avi, video_length:148.0\n",
      "Video url: dataset_full\\test\\Azul claro\\006_007_005.avi, video_length:148.0\n",
      "Video url: dataset_full\\test\\Azul claro\\006_009_001.avi, video_length:148.0\n",
      "Video url: dataset_full\\test\\Azul claro\\006_009_005.avi, video_length:148.0\n",
      "Video url: dataset_full\\test\\Bailar\\057_002_001.avi, video_length:152.0\n",
      "Video url: dataset_full\\test\\Bailar\\057_003_004.avi, video_length:152.0\n",
      "Video url: dataset_full\\test\\Bailar\\057_005_001.avi, video_length:152.0\n",
      "Video url: dataset_full\\test\\Bailar\\057_005_002.avi, video_length:122.0\n",
      "Video url: dataset_full\\test\\Bailar\\057_005_005.avi, video_length:152.0\n",
      "Video url: dataset_full\\test\\Bailar\\057_006_001.avi, video_length:152.0\n",
      "Video url: dataset_full\\test\\Bailar\\057_007_005.avi, video_length:122.0\n",
      "Video url: dataset_full\\test\\Bailar\\057_009_001.avi, video_length:152.0\n",
      "Video url: dataset_full\\test\\Bailar\\057_010_001.avi, video_length:122.0\n",
      "Video url: dataset_full\\test\\Bailar\\057_010_004.avi, video_length:122.0\n",
      "Video url: dataset_full\\test\\Barco\\037_001_001.avi, video_length:122.0\n",
      "Video url: dataset_full\\test\\Barco\\037_001_002.avi, video_length:152.0\n",
      "Video url: dataset_full\\test\\Barco\\037_004_001.avi, video_length:122.0\n",
      "Video url: dataset_full\\test\\Barco\\037_004_004.avi, video_length:122.0\n",
      "Video url: dataset_full\\test\\Barco\\037_006_005.avi, video_length:152.0\n",
      "Video url: dataset_full\\test\\Barco\\037_007_005.avi, video_length:152.0\n",
      "Video url: dataset_full\\test\\Barco\\037_008_002.avi, video_length:122.0\n",
      "Video url: dataset_full\\test\\Barco\\037_008_004.avi, video_length:92.0\n",
      "Video url: dataset_full\\test\\Barco\\037_009_002.avi, video_length:152.0\n",
      "Video url: dataset_full\\test\\Barco\\037_010_004.avi, video_length:122.0\n",
      "Video url: dataset_full\\test\\Bañarse\\058_002_001.avi, video_length:122.0\n",
      "Video url: dataset_full\\test\\Bañarse\\058_003_002.avi, video_length:152.0\n",
      "Video url: dataset_full\\test\\Bañarse\\058_003_005.avi, video_length:152.0\n",
      "Video url: dataset_full\\test\\Bañarse\\058_004_001.avi, video_length:122.0\n",
      "Video url: dataset_full\\test\\Bañarse\\058_004_002.avi, video_length:152.0\n",
      "Video url: dataset_full\\test\\Bañarse\\058_005_001.avi, video_length:152.0\n",
      "Video url: dataset_full\\test\\Bañarse\\058_005_003.avi, video_length:122.0\n",
      "Video url: dataset_full\\test\\Bañarse\\058_007_005.avi, video_length:122.0\n",
      "Video url: dataset_full\\test\\Bañarse\\058_008_001.avi, video_length:92.0\n",
      "Video url: dataset_full\\test\\Bañarse\\058_008_004.avi, video_length:122.0\n",
      "Video url: dataset_full\\test\\Brillante\\005_002_001.avi, video_length:118.0\n",
      "Video url: dataset_full\\test\\Brillante\\005_002_003.avi, video_length:118.0\n",
      "Video url: dataset_full\\test\\Brillante\\005_003_002.avi, video_length:148.0\n",
      "Video url: dataset_full\\test\\Brillante\\005_003_005.avi, video_length:148.0\n",
      "Video url: dataset_full\\test\\Brillante\\005_006_005.avi, video_length:148.0\n",
      "Video url: dataset_full\\test\\Brillante\\005_007_005.avi, video_length:118.0\n",
      "Video url: dataset_full\\test\\Brillante\\005_008_003.avi, video_length:148.0\n",
      "Video url: dataset_full\\test\\Brillante\\005_008_005.avi, video_length:118.0\n",
      "Video url: dataset_full\\test\\Brillante\\005_009_002.avi, video_length:118.0\n",
      "Video url: dataset_full\\test\\Brillante\\005_009_004.avi, video_length:118.0\n",
      "Video url: dataset_full\\test\\Burlarse de\\029_001_003.avi, video_length:122.0\n",
      "Video url: dataset_full\\test\\Burlarse de\\029_001_004.avi, video_length:122.0\n",
      "Video url: dataset_full\\test\\Burlarse de\\029_003_002.avi, video_length:152.0\n",
      "Video url: dataset_full\\test\\Burlarse de\\029_004_003.avi, video_length:122.0\n",
      "Video url: dataset_full\\test\\Burlarse de\\029_004_004.avi, video_length:152.0\n",
      "Video url: dataset_full\\test\\Burlarse de\\029_005_003.avi, video_length:122.0\n",
      "Video url: dataset_full\\test\\Burlarse de\\029_006_002.avi, video_length:152.0\n",
      "Video url: dataset_full\\test\\Burlarse de\\029_007_001.avi, video_length:122.0\n",
      "Video url: dataset_full\\test\\Burlarse de\\029_007_005.avi, video_length:152.0\n",
      "Video url: dataset_full\\test\\Burlarse de\\029_008_001.avi, video_length:122.0\n",
      "Video url: dataset_full\\test\\Cajón\\014_002_001.avi, video_length:88.0\n",
      "Video url: dataset_full\\test\\Cajón\\014_004_002.avi, video_length:88.0\n",
      "Video url: dataset_full\\test\\Cajón\\014_005_002.avi, video_length:118.0\n",
      "Video url: dataset_full\\test\\Cajón\\014_005_003.avi, video_length:118.0\n",
      "Video url: dataset_full\\test\\Cajón\\014_005_005.avi, video_length:88.0\n",
      "Video url: dataset_full\\test\\Cajón\\014_006_003.avi, video_length:88.0\n",
      "Video url: dataset_full\\test\\Cajón\\014_006_004.avi, video_length:88.0\n",
      "Video url: dataset_full\\test\\Cajón\\014_007_001.avi, video_length:88.0\n",
      "Video url: dataset_full\\test\\Cajón\\014_008_003.avi, video_length:118.0\n",
      "Video url: dataset_full\\test\\Cajón\\014_010_004.avi, video_length:58.0\n",
      "Video url: dataset_full\\test\\Cerrar\\052_002_002.avi, video_length:122.0\n",
      "Video url: dataset_full\\test\\Cerrar\\052_003_001.avi, video_length:122.0\n",
      "Video url: dataset_full\\test\\Cerrar\\052_003_003.avi, video_length:122.0\n",
      "Video url: dataset_full\\test\\Cerrar\\052_005_003.avi, video_length:122.0\n",
      "Video url: dataset_full\\test\\Cerrar\\052_005_004.avi, video_length:122.0\n",
      "Video url: dataset_full\\test\\Cerrar\\052_006_004.avi, video_length:92.0\n",
      "Video url: dataset_full\\test\\Cerrar\\052_008_005.avi, video_length:92.0\n",
      "Video url: dataset_full\\test\\Cerrar\\052_009_001.avi, video_length:122.0\n",
      "Video url: dataset_full\\test\\Cerrar\\052_009_002.avi, video_length:122.0\n",
      "Video url: dataset_full\\test\\Cerrar\\052_010_005.avi, video_length:122.0\n",
      "Video url: dataset_full\\test\\Chicle\\047_003_002.avi, video_length:152.0\n",
      "Video url: dataset_full\\test\\Chicle\\047_003_003.avi, video_length:152.0\n",
      "Video url: dataset_full\\test\\Chicle\\047_004_001.avi, video_length:122.0\n",
      "Video url: dataset_full\\test\\Chicle\\047_004_002.avi, video_length:92.0\n",
      "Video url: dataset_full\\test\\Chicle\\047_005_003.avi, video_length:152.0\n",
      "Video url: dataset_full\\test\\Chicle\\047_006_001.avi, video_length:152.0\n",
      "Video url: dataset_full\\test\\Chicle\\047_007_002.avi, video_length:152.0\n",
      "Video url: dataset_full\\test\\Chicle\\047_008_005.avi, video_length:122.0\n",
      "Video url: dataset_full\\test\\Chicle\\047_009_003.avi, video_length:122.0\n",
      "Video url: dataset_full\\test\\Chicle\\047_010_002.avi, video_length:122.0\n",
      "Video url: dataset_full\\test\\Colores\\007_002_003.avi, video_length:118.0\n",
      "Video url: dataset_full\\test\\Colores\\007_002_004.avi, video_length:118.0\n",
      "Video url: dataset_full\\test\\Colores\\007_002_005.avi, video_length:118.0\n",
      "Video url: dataset_full\\test\\Colores\\007_003_004.avi, video_length:118.0\n",
      "Video url: dataset_full\\test\\Colores\\007_006_003.avi, video_length:118.0\n",
      "Video url: dataset_full\\test\\Colores\\007_006_005.avi, video_length:118.0\n",
      "Video url: dataset_full\\test\\Colores\\007_007_003.avi, video_length:88.0\n",
      "Video url: dataset_full\\test\\Colores\\007_009_002.avi, video_length:88.0\n",
      "Video url: dataset_full\\test\\Colores\\007_009_003.avi, video_length:88.0\n"
     ]
    },
    {
     "name": "stdout",
     "output_type": "stream",
     "text": [
      "Video url: dataset_full\\test\\Colores\\007_010_005.avi, video_length:88.0\n",
      "Video url: dataset_full\\test\\Comprar\\059_002_003.avi, video_length:92.0\n",
      "Video url: dataset_full\\test\\Comprar\\059_002_004.avi, video_length:122.0\n",
      "Video url: dataset_full\\test\\Comprar\\059_003_002.avi, video_length:122.0\n",
      "Video url: dataset_full\\test\\Comprar\\059_003_003.avi, video_length:122.0\n",
      "Video url: dataset_full\\test\\Comprar\\059_003_005.avi, video_length:92.0\n",
      "Video url: dataset_full\\test\\Comprar\\059_004_004.avi, video_length:92.0\n",
      "Video url: dataset_full\\test\\Comprar\\059_004_005.avi, video_length:122.0\n",
      "Video url: dataset_full\\test\\Comprar\\059_005_001.avi, video_length:122.0\n",
      "Video url: dataset_full\\test\\Comprar\\059_008_002.avi, video_length:92.0\n",
      "Video url: dataset_full\\test\\Comprar\\059_009_001.avi, video_length:122.0\n",
      "Video url: dataset_full\\test\\Copiar\\060_001_005.avi, video_length:152.0\n",
      "Video url: dataset_full\\test\\Copiar\\060_002_002.avi, video_length:122.0\n",
      "Video url: dataset_full\\test\\Copiar\\060_006_004.avi, video_length:152.0\n",
      "Video url: dataset_full\\test\\Copiar\\060_006_005.avi, video_length:152.0\n",
      "Video url: dataset_full\\test\\Copiar\\060_007_004.avi, video_length:122.0\n",
      "Video url: dataset_full\\test\\Copiar\\060_008_001.avi, video_length:122.0\n",
      "Video url: dataset_full\\test\\Copiar\\060_008_002.avi, video_length:152.0\n",
      "Video url: dataset_full\\test\\Copiar\\060_009_001.avi, video_length:122.0\n",
      "Video url: dataset_full\\test\\Copiar\\060_009_005.avi, video_length:122.0\n",
      "Video url: dataset_full\\test\\Copiar\\060_010_001.avi, video_length:122.0\n",
      "Video url: dataset_full\\test\\Correr\\061_002_003.avi, video_length:92.0\n",
      "Video url: dataset_full\\test\\Correr\\061_002_004.avi, video_length:122.0\n",
      "Video url: dataset_full\\test\\Correr\\061_002_005.avi, video_length:122.0\n",
      "Video url: dataset_full\\test\\Correr\\061_005_003.avi, video_length:152.0\n",
      "Video url: dataset_full\\test\\Correr\\061_006_004.avi, video_length:152.0\n",
      "Video url: dataset_full\\test\\Correr\\061_009_005.avi, video_length:122.0\n",
      "Video url: dataset_full\\test\\Correr\\061_010_002.avi, video_length:122.0\n",
      "Video url: dataset_full\\test\\Correr\\061_010_003.avi, video_length:122.0\n",
      "Video url: dataset_full\\test\\Correr\\061_010_004.avi, video_length:152.0\n",
      "Video url: dataset_full\\test\\Correr\\061_010_005.avi, video_length:122.0\n",
      "Video url: dataset_full\\test\\Cumpleaños\\030_004_004.avi, video_length:152.0\n",
      "Video url: dataset_full\\test\\Cumpleaños\\030_004_005.avi, video_length:122.0\n",
      "Video url: dataset_full\\test\\Cumpleaños\\030_005_001.avi, video_length:152.0\n",
      "Video url: dataset_full\\test\\Cumpleaños\\030_005_003.avi, video_length:152.0\n",
      "Video url: dataset_full\\test\\Cumpleaños\\030_006_001.avi, video_length:152.0\n",
      "Video url: dataset_full\\test\\Cumpleaños\\030_006_004.avi, video_length:182.0\n",
      "Video url: dataset_full\\test\\Cumpleaños\\030_007_001.avi, video_length:122.0\n",
      "Video url: dataset_full\\test\\Cumpleaños\\030_009_005.avi, video_length:152.0\n",
      "Video url: dataset_full\\test\\Cumpleaños\\030_010_002.avi, video_length:152.0\n",
      "Video url: dataset_full\\test\\Cumpleaños\\030_010_005.avi, video_length:152.0\n",
      "Video url: dataset_full\\test\\Dar\\063_001_005.avi, video_length:122.0\n",
      "Video url: dataset_full\\test\\Dar\\063_002_003.avi, video_length:122.0\n",
      "Video url: dataset_full\\test\\Dar\\063_002_004.avi, video_length:122.0\n",
      "Video url: dataset_full\\test\\Dar\\063_003_004.avi, video_length:152.0\n",
      "Video url: dataset_full\\test\\Dar\\063_003_005.avi, video_length:152.0\n",
      "Video url: dataset_full\\test\\Dar\\063_005_004.avi, video_length:122.0\n",
      "Video url: dataset_full\\test\\Dar\\063_006_005.avi, video_length:92.0\n",
      "Video url: dataset_full\\test\\Dar\\063_007_003.avi, video_length:92.0\n",
      "Video url: dataset_full\\test\\Dar\\063_009_003.avi, video_length:122.0\n",
      "Video url: dataset_full\\test\\Dar\\063_009_004.avi, video_length:122.0\n",
      "Video url: dataset_full\\test\\Darse cuenta\\062_001_001.avi, video_length:122.0\n",
      "Video url: dataset_full\\test\\Darse cuenta\\062_001_002.avi, video_length:122.0\n",
      "Video url: dataset_full\\test\\Darse cuenta\\062_001_004.avi, video_length:122.0\n",
      "Video url: dataset_full\\test\\Darse cuenta\\062_001_005.avi, video_length:122.0\n",
      "Video url: dataset_full\\test\\Darse cuenta\\062_002_001.avi, video_length:122.0\n",
      "Video url: dataset_full\\test\\Darse cuenta\\062_002_002.avi, video_length:122.0\n",
      "Video url: dataset_full\\test\\Darse cuenta\\062_003_005.avi, video_length:152.0\n",
      "Video url: dataset_full\\test\\Darse cuenta\\062_007_005.avi, video_length:92.0\n",
      "Video url: dataset_full\\test\\Darse cuenta\\062_008_002.avi, video_length:122.0\n",
      "Video url: dataset_full\\test\\Darse cuenta\\062_010_005.avi, video_length:92.0\n",
      "Video url: dataset_full\\test\\Desayuno\\031_001_003.avi, video_length:182.0\n",
      "Video url: dataset_full\\test\\Desayuno\\031_002_001.avi, video_length:152.0\n",
      "Video url: dataset_full\\test\\Desayuno\\031_002_002.avi, video_length:182.0\n",
      "Video url: dataset_full\\test\\Desayuno\\031_002_004.avi, video_length:182.0\n",
      "Video url: dataset_full\\test\\Desayuno\\031_008_002.avi, video_length:152.0\n",
      "Video url: dataset_full\\test\\Desayuno\\031_008_003.avi, video_length:152.0\n",
      "Video url: dataset_full\\test\\Desayuno\\031_008_005.avi, video_length:152.0\n",
      "Video url: dataset_full\\test\\Desayuno\\031_009_001.avi, video_length:152.0\n",
      "Video url: dataset_full\\test\\Desayuno\\031_010_001.avi, video_length:92.0\n",
      "Video url: dataset_full\\test\\Desayuno\\031_010_003.avi, video_length:152.0\n",
      "Video url: dataset_full\\test\\Dulce\\046_004_001.avi, video_length:122.0\n",
      "Video url: dataset_full\\test\\Dulce\\046_004_004.avi, video_length:122.0\n",
      "Video url: dataset_full\\test\\Dulce\\046_004_005.avi, video_length:92.0\n",
      "Video url: dataset_full\\test\\Dulce\\046_005_003.avi, video_length:182.0\n",
      "Video url: dataset_full\\test\\Dulce\\046_006_002.avi, video_length:152.0\n",
      "Video url: dataset_full\\test\\Dulce\\046_006_004.avi, video_length:152.0\n",
      "Video url: dataset_full\\test\\Dulce\\046_007_002.avi, video_length:122.0\n",
      "Video url: dataset_full\\test\\Dulce\\046_007_004.avi, video_length:122.0\n",
      "Video url: dataset_full\\test\\Dulce\\046_008_001.avi, video_length:122.0\n",
      "Video url: dataset_full\\test\\Dulce\\046_010_004.avi, video_length:122.0\n",
      "Video url: dataset_full\\test\\Dónde\\028_001_001.avi, video_length:92.0\n",
      "Video url: dataset_full\\test\\Dónde\\028_001_002.avi, video_length:122.0\n",
      "Video url: dataset_full\\test\\Dónde\\028_002_005.avi, video_length:122.0\n",
      "Video url: dataset_full\\test\\Dónde\\028_004_001.avi, video_length:152.0\n",
      "Video url: dataset_full\\test\\Dónde\\028_004_005.avi, video_length:152.0\n",
      "Video url: dataset_full\\test\\Dónde\\028_005_005.avi, video_length:122.0\n",
      "Video url: dataset_full\\test\\Dónde\\028_006_001.avi, video_length:182.0\n",
      "Video url: dataset_full\\test\\Dónde\\028_006_005.avi, video_length:152.0\n",
      "Video url: dataset_full\\test\\Dónde\\028_007_003.avi, video_length:182.0\n",
      "Video url: dataset_full\\test\\Dónde\\028_009_003.avi, video_length:152.0\n",
      "Video url: dataset_full\\test\\Encontrar\\064_002_002.avi, video_length:92.0\n",
      "Video url: dataset_full\\test\\Encontrar\\064_003_001.avi, video_length:152.0\n",
      "Video url: dataset_full\\test\\Encontrar\\064_003_002.avi, video_length:122.0\n",
      "Video url: dataset_full\\test\\Encontrar\\064_004_002.avi, video_length:92.0\n",
      "Video url: dataset_full\\test\\Encontrar\\064_006_001.avi, video_length:122.0\n",
      "Video url: dataset_full\\test\\Encontrar\\064_006_003.avi, video_length:122.0\n",
      "Video url: dataset_full\\test\\Encontrar\\064_007_005.avi, video_length:92.0\n",
      "Video url: dataset_full\\test\\Encontrar\\064_008_005.avi, video_length:92.0\n",
      "Video url: dataset_full\\test\\Encontrar\\064_010_001.avi, video_length:122.0\n",
      "Video url: dataset_full\\test\\Encontrar\\064_010_005.avi, video_length:152.0\n",
      "Video url: dataset_full\\test\\Enemigo\\010_001_001.avi, video_length:118.0\n",
      "Video url: dataset_full\\test\\Enemigo\\010_001_002.avi, video_length:118.0\n",
      "Video url: dataset_full\\test\\Enemigo\\010_001_003.avi, video_length:88.0\n",
      "Video url: dataset_full\\test\\Enemigo\\010_002_004.avi, video_length:118.0\n",
      "Video url: dataset_full\\test\\Enemigo\\010_003_001.avi, video_length:118.0\n",
      "Video url: dataset_full\\test\\Enemigo\\010_004_001.avi, video_length:88.0\n",
      "Video url: dataset_full\\test\\Enemigo\\010_004_004.avi, video_length:88.0\n",
      "Video url: dataset_full\\test\\Enemigo\\010_005_003.avi, video_length:118.0\n",
      "Video url: dataset_full\\test\\Enemigo\\010_007_003.avi, video_length:88.0\n",
      "Video url: dataset_full\\test\\Enemigo\\010_008_002.avi, video_length:88.0\n",
      "Video url: dataset_full\\test\\Espaguetis\\048_001_001.avi, video_length:152.0\n",
      "Video url: dataset_full\\test\\Espaguetis\\048_001_005.avi, video_length:152.0\n",
      "Video url: dataset_full\\test\\Espaguetis\\048_002_002.avi, video_length:152.0\n",
      "Video url: dataset_full\\test\\Espaguetis\\048_002_005.avi, video_length:182.0\n",
      "Video url: dataset_full\\test\\Espaguetis\\048_003_002.avi, video_length:182.0\n"
     ]
    },
    {
     "name": "stdout",
     "output_type": "stream",
     "text": [
      "Video url: dataset_full\\test\\Espaguetis\\048_004_005.avi, video_length:152.0\n",
      "Video url: dataset_full\\test\\Espaguetis\\048_005_003.avi, video_length:122.0\n",
      "Video url: dataset_full\\test\\Espaguetis\\048_007_005.avi, video_length:152.0\n",
      "Video url: dataset_full\\test\\Espaguetis\\048_009_005.avi, video_length:152.0\n",
      "Video url: dataset_full\\test\\Espaguetis\\048_010_004.avi, video_length:152.0\n",
      "Video url: dataset_full\\test\\Foto\\032_001_005.avi, video_length:122.0\n",
      "Video url: dataset_full\\test\\Foto\\032_002_003.avi, video_length:122.0\n",
      "Video url: dataset_full\\test\\Foto\\032_006_002.avi, video_length:122.0\n",
      "Video url: dataset_full\\test\\Foto\\032_007_004.avi, video_length:152.0\n",
      "Video url: dataset_full\\test\\Foto\\032_008_001.avi, video_length:152.0\n",
      "Video url: dataset_full\\test\\Foto\\032_008_003.avi, video_length:152.0\n",
      "Video url: dataset_full\\test\\Foto\\032_008_004.avi, video_length:152.0\n",
      "Video url: dataset_full\\test\\Foto\\032_008_005.avi, video_length:122.0\n",
      "Video url: dataset_full\\test\\Foto\\032_009_001.avi, video_length:152.0\n",
      "Video url: dataset_full\\test\\Foto\\032_010_002.avi, video_length:182.0\n",
      "Video url: dataset_full\\test\\Gracias\\051_002_002.avi, video_length:152.0\n",
      "Video url: dataset_full\\test\\Gracias\\051_002_003.avi, video_length:152.0\n",
      "Video url: dataset_full\\test\\Gracias\\051_004_002.avi, video_length:122.0\n",
      "Video url: dataset_full\\test\\Gracias\\051_005_001.avi, video_length:152.0\n",
      "Video url: dataset_full\\test\\Gracias\\051_005_005.avi, video_length:152.0\n",
      "Video url: dataset_full\\test\\Gracias\\051_006_005.avi, video_length:152.0\n",
      "Video url: dataset_full\\test\\Gracias\\051_007_001.avi, video_length:122.0\n",
      "Video url: dataset_full\\test\\Gracias\\051_007_002.avi, video_length:122.0\n",
      "Video url: dataset_full\\test\\Gracias\\051_008_001.avi, video_length:122.0\n",
      "Video url: dataset_full\\test\\Gracias\\051_010_003.avi, video_length:122.0\n",
      "Video url: dataset_full\\test\\Hambriento\\033_003_004.avi, video_length:122.0\n",
      "Video url: dataset_full\\test\\Hambriento\\033_005_001.avi, video_length:122.0\n",
      "Video url: dataset_full\\test\\Hambriento\\033_005_004.avi, video_length:122.0\n",
      "Video url: dataset_full\\test\\Hambriento\\033_007_003.avi, video_length:152.0\n",
      "Video url: dataset_full\\test\\Hambriento\\033_008_002.avi, video_length:122.0\n",
      "Video url: dataset_full\\test\\Hambriento\\033_008_004.avi, video_length:152.0\n",
      "Video url: dataset_full\\test\\Hambriento\\033_009_002.avi, video_length:122.0\n",
      "Video url: dataset_full\\test\\Hambriento\\033_009_003.avi, video_length:152.0\n",
      "Video url: dataset_full\\test\\Hambriento\\033_009_004.avi, video_length:122.0\n",
      "Video url: dataset_full\\test\\Hambriento\\033_009_005.avi, video_length:152.0\n",
      "Video url: dataset_full\\test\\Hijo\\011_001_003.avi, video_length:118.0\n",
      "Video url: dataset_full\\test\\Hijo\\011_004_004.avi, video_length:118.0\n",
      "Video url: dataset_full\\test\\Hijo\\011_006_002.avi, video_length:88.0\n",
      "Video url: dataset_full\\test\\Hijo\\011_006_003.avi, video_length:118.0\n",
      "Video url: dataset_full\\test\\Hijo\\011_008_002.avi, video_length:88.0\n",
      "Video url: dataset_full\\test\\Hijo\\011_009_001.avi, video_length:88.0\n",
      "Video url: dataset_full\\test\\Hijo\\011_009_002.avi, video_length:88.0\n",
      "Video url: dataset_full\\test\\Hijo\\011_010_002.avi, video_length:88.0\n",
      "Video url: dataset_full\\test\\Hijo\\011_010_003.avi, video_length:58.0\n",
      "Video url: dataset_full\\test\\Hijo\\011_010_005.avi, video_length:88.0\n",
      "Video url: dataset_full\\test\\Hombre\\012_002_001.avi, video_length:118.0\n",
      "Video url: dataset_full\\test\\Hombre\\012_003_002.avi, video_length:118.0\n",
      "Video url: dataset_full\\test\\Hombre\\012_004_001.avi, video_length:148.0\n",
      "Video url: dataset_full\\test\\Hombre\\012_004_003.avi, video_length:148.0\n",
      "Video url: dataset_full\\test\\Hombre\\012_005_001.avi, video_length:118.0\n",
      "Video url: dataset_full\\test\\Hombre\\012_005_004.avi, video_length:118.0\n",
      "Video url: dataset_full\\test\\Hombre\\012_006_002.avi, video_length:148.0\n",
      "Video url: dataset_full\\test\\Hombre\\012_007_001.avi, video_length:118.0\n",
      "Video url: dataset_full\\test\\Hombre\\012_009_001.avi, video_length:118.0\n",
      "Video url: dataset_full\\test\\Hombre\\012_009_005.avi, video_length:148.0\n",
      "Video url: dataset_full\\test\\Leche\\021_001_001.avi, video_length:148.0\n",
      "Video url: dataset_full\\test\\Leche\\021_001_005.avi, video_length:118.0\n",
      "Video url: dataset_full\\test\\Leche\\021_002_004.avi, video_length:148.0\n",
      "Video url: dataset_full\\test\\Leche\\021_006_001.avi, video_length:118.0\n",
      "Video url: dataset_full\\test\\Leche\\021_006_002.avi, video_length:118.0\n",
      "Video url: dataset_full\\test\\Leche\\021_007_004.avi, video_length:148.0\n",
      "Video url: dataset_full\\test\\Leche\\021_007_005.avi, video_length:118.0\n",
      "Video url: dataset_full\\test\\Leche\\021_009_004.avi, video_length:118.0\n",
      "Video url: dataset_full\\test\\Leche\\021_009_005.avi, video_length:118.0\n",
      "Video url: dataset_full\\test\\Leche\\021_010_003.avi, video_length:118.0\n",
      "Video url: dataset_full\\test\\Leche dulce\\020_002_001.avi, video_length:88.0\n",
      "Video url: dataset_full\\test\\Leche dulce\\020_002_002.avi, video_length:88.0\n",
      "Video url: dataset_full\\test\\Leche dulce\\020_003_001.avi, video_length:118.0\n",
      "Video url: dataset_full\\test\\Leche dulce\\020_003_004.avi, video_length:118.0\n",
      "Video url: dataset_full\\test\\Leche dulce\\020_004_003.avi, video_length:88.0\n",
      "Video url: dataset_full\\test\\Leche dulce\\020_004_004.avi, video_length:88.0\n",
      "Video url: dataset_full\\test\\Leche dulce\\020_006_002.avi, video_length:88.0\n",
      "Video url: dataset_full\\test\\Leche dulce\\020_007_001.avi, video_length:88.0\n",
      "Video url: dataset_full\\test\\Leche dulce\\020_008_003.avi, video_length:88.0\n",
      "Video url: dataset_full\\test\\Leche dulce\\020_008_004.avi, video_length:88.0\n",
      "Video url: dataset_full\\test\\Lejos\\013_001_003.avi, video_length:148.0\n",
      "Video url: dataset_full\\test\\Lejos\\013_002_004.avi, video_length:118.0\n",
      "Video url: dataset_full\\test\\Lejos\\013_002_005.avi, video_length:118.0\n",
      "Video url: dataset_full\\test\\Lejos\\013_005_003.avi, video_length:148.0\n",
      "Video url: dataset_full\\test\\Lejos\\013_006_004.avi, video_length:148.0\n",
      "Video url: dataset_full\\test\\Lejos\\013_007_005.avi, video_length:118.0\n",
      "Video url: dataset_full\\test\\Lejos\\013_008_002.avi, video_length:88.0\n",
      "Video url: dataset_full\\test\\Lejos\\013_009_004.avi, video_length:88.0\n",
      "Video url: dataset_full\\test\\Lejos\\013_010_004.avi, video_length:88.0\n",
      "Video url: dataset_full\\test\\Lejos\\013_010_005.avi, video_length:88.0\n",
      "Video url: dataset_full\\test\\Llamar\\017_001_001.avi, video_length:118.0\n",
      "Video url: dataset_full\\test\\Llamar\\017_002_001.avi, video_length:118.0\n",
      "Video url: dataset_full\\test\\Llamar\\017_002_002.avi, video_length:88.0\n",
      "Video url: dataset_full\\test\\Llamar\\017_003_005.avi, video_length:118.0\n",
      "Video url: dataset_full\\test\\Llamar\\017_004_001.avi, video_length:118.0\n",
      "Video url: dataset_full\\test\\Llamar\\017_004_005.avi, video_length:118.0\n",
      "Video url: dataset_full\\test\\Llamar\\017_006_003.avi, video_length:58.0\n",
      "Video url: dataset_full\\test\\Llamar\\017_007_001.avi, video_length:88.0\n",
      "Video url: dataset_full\\test\\Llamar\\017_007_003.avi, video_length:58.0\n",
      "Video url: dataset_full\\test\\Llamar\\017_010_005.avi, video_length:88.0\n",
      "Video url: dataset_full\\test\\Mapa\\034_002_003.avi, video_length:212.0\n",
      "Video url: dataset_full\\test\\Mapa\\034_004_002.avi, video_length:152.0\n",
      "Video url: dataset_full\\test\\Mapa\\034_005_001.avi, video_length:182.0\n",
      "Video url: dataset_full\\test\\Mapa\\034_005_003.avi, video_length:182.0\n",
      "Video url: dataset_full\\test\\Mapa\\034_005_005.avi, video_length:212.0\n",
      "Video url: dataset_full\\test\\Mapa\\034_006_005.avi, video_length:182.0\n",
      "Video url: dataset_full\\test\\Mapa\\034_008_001.avi, video_length:182.0\n",
      "Video url: dataset_full\\test\\Mapa\\034_009_001.avi, video_length:182.0\n",
      "Video url: dataset_full\\test\\Mapa\\034_009_004.avi, video_length:212.0\n",
      "Video url: dataset_full\\test\\Mapa\\034_010_002.avi, video_length:182.0\n",
      "Video url: dataset_full\\test\\Moneda\\035_001_004.avi, video_length:122.0\n",
      "Video url: dataset_full\\test\\Moneda\\035_002_002.avi, video_length:122.0\n",
      "Video url: dataset_full\\test\\Moneda\\035_003_004.avi, video_length:122.0\n",
      "Video url: dataset_full\\test\\Moneda\\035_003_005.avi, video_length:152.0\n",
      "Video url: dataset_full\\test\\Moneda\\035_005_001.avi, video_length:122.0\n",
      "Video url: dataset_full\\test\\Moneda\\035_006_002.avi, video_length:122.0\n",
      "Video url: dataset_full\\test\\Moneda\\035_006_003.avi, video_length:122.0\n",
      "Video url: dataset_full\\test\\Moneda\\035_007_003.avi, video_length:152.0\n",
      "Video url: dataset_full\\test\\Moneda\\035_008_002.avi, video_length:122.0\n"
     ]
    },
    {
     "name": "stdout",
     "output_type": "stream",
     "text": [
      "Video url: dataset_full\\test\\Moneda\\035_010_001.avi, video_length:122.0\n",
      "Video url: dataset_full\\test\\Mujer\\009_001_002.avi, video_length:118.0\n",
      "Video url: dataset_full\\test\\Mujer\\009_001_003.avi, video_length:118.0\n",
      "Video url: dataset_full\\test\\Mujer\\009_002_002.avi, video_length:118.0\n",
      "Video url: dataset_full\\test\\Mujer\\009_002_004.avi, video_length:148.0\n",
      "Video url: dataset_full\\test\\Mujer\\009_003_001.avi, video_length:118.0\n",
      "Video url: dataset_full\\test\\Mujer\\009_004_005.avi, video_length:118.0\n",
      "Video url: dataset_full\\test\\Mujer\\009_006_001.avi, video_length:118.0\n",
      "Video url: dataset_full\\test\\Mujer\\009_008_005.avi, video_length:118.0\n",
      "Video url: dataset_full\\test\\Mujer\\009_009_001.avi, video_length:178.0\n",
      "Video url: dataset_full\\test\\Mujer\\009_009_003.avi, video_length:118.0\n",
      "Video url: dataset_full\\test\\Música\\036_001_004.avi, video_length:122.0\n",
      "Video url: dataset_full\\test\\Música\\036_001_005.avi, video_length:152.0\n",
      "Video url: dataset_full\\test\\Música\\036_003_004.avi, video_length:152.0\n",
      "Video url: dataset_full\\test\\Música\\036_004_003.avi, video_length:122.0\n",
      "Video url: dataset_full\\test\\Música\\036_005_001.avi, video_length:122.0\n",
      "Video url: dataset_full\\test\\Música\\036_006_001.avi, video_length:152.0\n",
      "Video url: dataset_full\\test\\Música\\036_007_003.avi, video_length:122.0\n",
      "Video url: dataset_full\\test\\Música\\036_008_002.avi, video_length:122.0\n",
      "Video url: dataset_full\\test\\Música\\036_009_001.avi, video_length:122.0\n",
      "Video url: dataset_full\\test\\Música\\036_009_003.avi, video_length:152.0\n",
      "Video url: dataset_full\\test\\Nacido\\015_001_001.avi, video_length:118.0\n",
      "Video url: dataset_full\\test\\Nacido\\015_001_002.avi, video_length:88.0\n",
      "Video url: dataset_full\\test\\Nacido\\015_003_004.avi, video_length:118.0\n",
      "Video url: dataset_full\\test\\Nacido\\015_004_003.avi, video_length:88.0\n",
      "Video url: dataset_full\\test\\Nacido\\015_005_005.avi, video_length:118.0\n",
      "Video url: dataset_full\\test\\Nacido\\015_006_001.avi, video_length:88.0\n",
      "Video url: dataset_full\\test\\Nacido\\015_007_003.avi, video_length:58.0\n",
      "Video url: dataset_full\\test\\Nacido\\015_007_005.avi, video_length:88.0\n",
      "Video url: dataset_full\\test\\Nacido\\015_008_005.avi, video_length:88.0\n",
      "Video url: dataset_full\\test\\Nacido\\015_010_003.avi, video_length:58.0\n",
      "Video url: dataset_full\\test\\Ninguno\\038_001_001.avi, video_length:122.0\n",
      "Video url: dataset_full\\test\\Ninguno\\038_003_001.avi, video_length:152.0\n",
      "Video url: dataset_full\\test\\Ninguno\\038_003_003.avi, video_length:122.0\n",
      "Video url: dataset_full\\test\\Ninguno\\038_004_004.avi, video_length:92.0\n",
      "Video url: dataset_full\\test\\Ninguno\\038_004_005.avi, video_length:122.0\n",
      "Video url: dataset_full\\test\\Ninguno\\038_006_002.avi, video_length:122.0\n",
      "Video url: dataset_full\\test\\Ninguno\\038_006_005.avi, video_length:122.0\n",
      "Video url: dataset_full\\test\\Ninguno\\038_007_003.avi, video_length:152.0\n",
      "Video url: dataset_full\\test\\Ninguno\\038_008_002.avi, video_length:122.0\n",
      "Video url: dataset_full\\test\\Ninguno\\038_008_003.avi, video_length:92.0\n",
      "Video url: dataset_full\\test\\Nombre\\039_001_001.avi, video_length:92.0\n",
      "Video url: dataset_full\\test\\Nombre\\039_001_004.avi, video_length:92.0\n",
      "Video url: dataset_full\\test\\Nombre\\039_001_005.avi, video_length:122.0\n",
      "Video url: dataset_full\\test\\Nombre\\039_003_002.avi, video_length:122.0\n",
      "Video url: dataset_full\\test\\Nombre\\039_004_002.avi, video_length:122.0\n",
      "Video url: dataset_full\\test\\Nombre\\039_004_003.avi, video_length:92.0\n",
      "Video url: dataset_full\\test\\Nombre\\039_008_005.avi, video_length:122.0\n",
      "Video url: dataset_full\\test\\Nombre\\039_009_003.avi, video_length:122.0\n",
      "Video url: dataset_full\\test\\Nombre\\039_009_004.avi, video_length:122.0\n",
      "Video url: dataset_full\\test\\Nombre\\039_009_005.avi, video_length:122.0\n",
      "Video url: dataset_full\\test\\Opaco\\001_002_001.avi, video_length:118.0\n",
      "Video url: dataset_full\\test\\Opaco\\001_002_003.avi, video_length:118.0\n",
      "Video url: dataset_full\\test\\Opaco\\001_003_001.avi, video_length:118.0\n",
      "Video url: dataset_full\\test\\Opaco\\001_003_002.avi, video_length:118.0\n",
      "Video url: dataset_full\\test\\Opaco\\001_004_005.avi, video_length:118.0\n",
      "Video url: dataset_full\\test\\Opaco\\001_005_001.avi, video_length:118.0\n",
      "Video url: dataset_full\\test\\Opaco\\001_005_005.avi, video_length:118.0\n",
      "Video url: dataset_full\\test\\Opaco\\001_006_004.avi, video_length:118.0\n",
      "Video url: dataset_full\\test\\Opaco\\001_010_002.avi, video_length:118.0\n",
      "Video url: dataset_full\\test\\Opaco\\001_010_003.avi, video_length:118.0\n",
      "Video url: dataset_full\\test\\Paciencia\\040_002_005.avi, video_length:152.0\n",
      "Video url: dataset_full\\test\\Paciencia\\040_004_001.avi, video_length:122.0\n",
      "Video url: dataset_full\\test\\Paciencia\\040_005_003.avi, video_length:152.0\n",
      "Video url: dataset_full\\test\\Paciencia\\040_005_004.avi, video_length:182.0\n",
      "Video url: dataset_full\\test\\Paciencia\\040_006_002.avi, video_length:152.0\n",
      "Video url: dataset_full\\test\\Paciencia\\040_007_001.avi, video_length:122.0\n",
      "Video url: dataset_full\\test\\Paciencia\\040_008_002.avi, video_length:152.0\n",
      "Video url: dataset_full\\test\\Paciencia\\040_008_003.avi, video_length:152.0\n",
      "Video url: dataset_full\\test\\Paciencia\\040_009_002.avi, video_length:152.0\n",
      "Video url: dataset_full\\test\\Paciencia\\040_010_001.avi, video_length:182.0\n",
      "Video url: dataset_full\\test\\Parilla\\045_001_003.avi, video_length:152.0\n",
      "Video url: dataset_full\\test\\Parilla\\045_001_004.avi, video_length:152.0\n",
      "Video url: dataset_full\\test\\Parilla\\045_003_001.avi, video_length:182.0\n",
      "Video url: dataset_full\\test\\Parilla\\045_003_004.avi, video_length:182.0\n",
      "Video url: dataset_full\\test\\Parilla\\045_005_003.avi, video_length:152.0\n",
      "Video url: dataset_full\\test\\Parilla\\045_006_004.avi, video_length:182.0\n",
      "Video url: dataset_full\\test\\Parilla\\045_008_001.avi, video_length:152.0\n",
      "Video url: dataset_full\\test\\Parilla\\045_008_002.avi, video_length:152.0\n",
      "Video url: dataset_full\\test\\Parilla\\045_009_004.avi, video_length:182.0\n",
      "Video url: dataset_full\\test\\Parilla\\045_009_005.avi, video_length:182.0\n",
      "Video url: dataset_full\\test\\País\\026_001_003.avi, video_length:152.0\n",
      "Video url: dataset_full\\test\\País\\026_003_004.avi, video_length:152.0\n",
      "Video url: dataset_full\\test\\País\\026_004_002.avi, video_length:122.0\n",
      "Video url: dataset_full\\test\\País\\026_005_001.avi, video_length:122.0\n",
      "Video url: dataset_full\\test\\País\\026_005_003.avi, video_length:152.0\n",
      "Video url: dataset_full\\test\\País\\026_006_003.avi, video_length:152.0\n",
      "Video url: dataset_full\\test\\País\\026_007_003.avi, video_length:92.0\n",
      "Video url: dataset_full\\test\\País\\026_009_003.avi, video_length:152.0\n",
      "Video url: dataset_full\\test\\País\\026_010_004.avi, video_length:152.0\n",
      "Video url: dataset_full\\test\\País\\026_010_005.avi, video_length:152.0\n",
      "Video url: dataset_full\\test\\Perfume\\041_001_001.avi, video_length:152.0\n",
      "Video url: dataset_full\\test\\Perfume\\041_001_004.avi, video_length:152.0\n",
      "Video url: dataset_full\\test\\Perfume\\041_003_002.avi, video_length:212.0\n",
      "Video url: dataset_full\\test\\Perfume\\041_003_003.avi, video_length:182.0\n",
      "Video url: dataset_full\\test\\Perfume\\041_003_005.avi, video_length:182.0\n",
      "Video url: dataset_full\\test\\Perfume\\041_005_003.avi, video_length:152.0\n",
      "Video url: dataset_full\\test\\Perfume\\041_005_004.avi, video_length:182.0\n",
      "Video url: dataset_full\\test\\Perfume\\041_007_001.avi, video_length:152.0\n",
      "Video url: dataset_full\\test\\Perfume\\041_008_004.avi, video_length:182.0\n",
      "Video url: dataset_full\\test\\Perfume\\041_010_002.avi, video_length:182.0\n",
      "Video url: dataset_full\\test\\Rojo\\002_002_002.avi, video_length:118.0\n",
      "Video url: dataset_full\\test\\Rojo\\002_002_003.avi, video_length:118.0\n",
      "Video url: dataset_full\\test\\Rojo\\002_003_002.avi, video_length:118.0\n",
      "Video url: dataset_full\\test\\Rojo\\002_003_005.avi, video_length:118.0\n",
      "Video url: dataset_full\\test\\Rojo\\002_005_001.avi, video_length:118.0\n",
      "Video url: dataset_full\\test\\Rojo\\002_005_004.avi, video_length:118.0\n",
      "Video url: dataset_full\\test\\Rojo\\002_005_005.avi, video_length:118.0\n",
      "Video url: dataset_full\\test\\Rojo\\002_007_005.avi, video_length:118.0\n",
      "Video url: dataset_full\\test\\Rojo\\002_008_003.avi, video_length:118.0\n",
      "Video url: dataset_full\\test\\Rojo\\002_009_004.avi, video_length:118.0\n",
      "Video url: dataset_full\\test\\Rosa\\008_001_003.avi, video_length:118.0\n",
      "Video url: dataset_full\\test\\Rosa\\008_002_005.avi, video_length:118.0\n",
      "Video url: dataset_full\\test\\Rosa\\008_004_001.avi, video_length:118.0\n",
      "Video url: dataset_full\\test\\Rosa\\008_005_005.avi, video_length:118.0\n",
      "Video url: dataset_full\\test\\Rosa\\008_006_001.avi, video_length:88.0\n",
      "Video url: dataset_full\\test\\Rosa\\008_006_005.avi, video_length:118.0\n"
     ]
    },
    {
     "name": "stdout",
     "output_type": "stream",
     "text": [
      "Video url: dataset_full\\test\\Rosa\\008_008_004.avi, video_length:118.0\n",
      "Video url: dataset_full\\test\\Rosa\\008_009_004.avi, video_length:88.0\n",
      "Video url: dataset_full\\test\\Rosa\\008_010_001.avi, video_length:88.0\n",
      "Video url: dataset_full\\test\\Rosa\\008_010_005.avi, video_length:118.0\n",
      "Video url: dataset_full\\test\\Skimmer\\018_001_002.avi, video_length:118.0\n",
      "Video url: dataset_full\\test\\Skimmer\\018_001_005.avi, video_length:118.0\n",
      "Video url: dataset_full\\test\\Skimmer\\018_003_001.avi, video_length:118.0\n",
      "Video url: dataset_full\\test\\Skimmer\\018_003_002.avi, video_length:148.0\n",
      "Video url: dataset_full\\test\\Skimmer\\018_004_001.avi, video_length:118.0\n",
      "Video url: dataset_full\\test\\Skimmer\\018_006_004.avi, video_length:118.0\n",
      "Video url: dataset_full\\test\\Skimmer\\018_006_005.avi, video_length:118.0\n",
      "Video url: dataset_full\\test\\Skimmer\\018_007_003.avi, video_length:148.0\n",
      "Video url: dataset_full\\test\\Skimmer\\018_010_001.avi, video_length:118.0\n",
      "Video url: dataset_full\\test\\Skimmer\\018_010_004.avi, video_length:118.0\n",
      "Video url: dataset_full\\test\\Sordo\\042_001_001.avi, video_length:122.0\n",
      "Video url: dataset_full\\test\\Sordo\\042_001_002.avi, video_length:122.0\n",
      "Video url: dataset_full\\test\\Sordo\\042_002_002.avi, video_length:122.0\n",
      "Video url: dataset_full\\test\\Sordo\\042_004_004.avi, video_length:122.0\n",
      "Video url: dataset_full\\test\\Sordo\\042_005_001.avi, video_length:122.0\n",
      "Video url: dataset_full\\test\\Sordo\\042_005_005.avi, video_length:182.0\n",
      "Video url: dataset_full\\test\\Sordo\\042_007_001.avi, video_length:122.0\n",
      "Video url: dataset_full\\test\\Sordo\\042_007_003.avi, video_length:152.0\n",
      "Video url: dataset_full\\test\\Sordo\\042_007_005.avi, video_length:152.0\n",
      "Video url: dataset_full\\test\\Sordo\\042_010_005.avi, video_length:122.0\n",
      "Video url: dataset_full\\test\\Trampa\\043_001_002.avi, video_length:122.0\n",
      "Video url: dataset_full\\test\\Trampa\\043_001_003.avi, video_length:92.0\n",
      "Video url: dataset_full\\test\\Trampa\\043_001_005.avi, video_length:122.0\n",
      "Video url: dataset_full\\test\\Trampa\\043_002_003.avi, video_length:122.0\n",
      "Video url: dataset_full\\test\\Trampa\\043_003_004.avi, video_length:122.0\n",
      "Video url: dataset_full\\test\\Trampa\\043_004_003.avi, video_length:122.0\n",
      "Video url: dataset_full\\test\\Trampa\\043_005_002.avi, video_length:122.0\n",
      "Video url: dataset_full\\test\\Trampa\\043_009_002.avi, video_length:152.0\n",
      "Video url: dataset_full\\test\\Trampa\\043_009_003.avi, video_length:122.0\n",
      "Video url: dataset_full\\test\\Trampa\\043_009_004.avi, video_length:122.0\n",
      "Video url: dataset_full\\test\\Uruguay\\025_001_002.avi, video_length:152.0\n",
      "Video url: dataset_full\\test\\Uruguay\\025_003_003.avi, video_length:152.0\n",
      "Video url: dataset_full\\test\\Uruguay\\025_003_005.avi, video_length:122.0\n",
      "Video url: dataset_full\\test\\Uruguay\\025_004_002.avi, video_length:152.0\n",
      "Video url: dataset_full\\test\\Uruguay\\025_005_002.avi, video_length:152.0\n",
      "Video url: dataset_full\\test\\Uruguay\\025_005_003.avi, video_length:152.0\n",
      "Video url: dataset_full\\test\\Uruguay\\025_006_003.avi, video_length:152.0\n",
      "Video url: dataset_full\\test\\Uruguay\\025_006_005.avi, video_length:152.0\n",
      "Video url: dataset_full\\test\\Uruguay\\025_008_001.avi, video_length:122.0\n",
      "Video url: dataset_full\\test\\Uruguay\\025_010_003.avi, video_length:122.0\n",
      "Video url: dataset_full\\test\\Verde\\003_001_001.avi, video_length:118.0\n",
      "Video url: dataset_full\\test\\Verde\\003_003_004.avi, video_length:118.0\n",
      "Video url: dataset_full\\test\\Verde\\003_004_002.avi, video_length:148.0\n",
      "Video url: dataset_full\\test\\Verde\\003_005_005.avi, video_length:118.0\n",
      "Video url: dataset_full\\test\\Verde\\003_006_001.avi, video_length:118.0\n",
      "Video url: dataset_full\\test\\Verde\\003_008_002.avi, video_length:118.0\n",
      "Video url: dataset_full\\test\\Verde\\003_008_005.avi, video_length:118.0\n",
      "Video url: dataset_full\\test\\Verde\\003_009_001.avi, video_length:118.0\n",
      "Video url: dataset_full\\test\\Verde\\003_009_002.avi, video_length:118.0\n",
      "Video url: dataset_full\\test\\Verde\\003_010_004.avi, video_length:118.0\n",
      "Video url: dataset_full\\test\\Yogur\\049_001_003.avi, video_length:182.0\n",
      "Video url: dataset_full\\test\\Yogur\\049_001_004.avi, video_length:152.0\n",
      "Video url: dataset_full\\test\\Yogur\\049_001_005.avi, video_length:182.0\n",
      "Video url: dataset_full\\test\\Yogur\\049_002_001.avi, video_length:122.0\n",
      "Video url: dataset_full\\test\\Yogur\\049_004_003.avi, video_length:122.0\n",
      "Video url: dataset_full\\test\\Yogur\\049_006_004.avi, video_length:152.0\n",
      "Video url: dataset_full\\test\\Yogur\\049_007_002.avi, video_length:122.0\n",
      "Video url: dataset_full\\test\\Yogur\\049_008_002.avi, video_length:122.0\n",
      "Video url: dataset_full\\test\\Yogur\\049_009_004.avi, video_length:122.0\n",
      "Video url: dataset_full\\test\\Yogur\\049_010_005.avi, video_length:152.0\n"
     ]
    }
   ],
   "source": [
    "x_test, y_test = get_files_and_class_names(subset_paths['test'])"
   ]
  },
  {
   "cell_type": "code",
   "execution_count": 61,
   "id": "4ccf9a91",
   "metadata": {},
   "outputs": [
    {
     "data": {
      "text/plain": [
       "(640, 20, 224, 224, 1)"
      ]
     },
     "execution_count": 61,
     "metadata": {},
     "output_type": "execute_result"
    }
   ],
   "source": [
    "x_test.shape"
   ]
  },
  {
   "cell_type": "code",
   "execution_count": 6,
   "id": "5903b398",
   "metadata": {},
   "outputs": [],
   "source": [
    "model = load_model('modelFullVids')"
   ]
  },
  {
   "cell_type": "code",
   "execution_count": 7,
   "id": "e98433f8",
   "metadata": {},
   "outputs": [
    {
     "name": "stdout",
     "output_type": "stream",
     "text": [
      "Model: \"sequential\"\n",
      "_________________________________________________________________\n",
      " Layer (type)                Output Shape              Param #   \n",
      "=================================================================\n",
      " time_distributed (TimeDist  (None, 20, 224, 224, 16   160       \n",
      " ributed)                    )                                   \n",
      "                                                                 \n",
      " time_distributed_1 (TimeDi  (None, 20, 56, 56, 16)    0         \n",
      " stributed)                                                      \n",
      "                                                                 \n",
      " time_distributed_2 (TimeDi  (None, 20, 56, 56, 16)    0         \n",
      " stributed)                                                      \n",
      "                                                                 \n",
      " time_distributed_3 (TimeDi  (None, 20, 56, 56, 32)    4640      \n",
      " stributed)                                                      \n",
      "                                                                 \n",
      " time_distributed_4 (TimeDi  (None, 20, 14, 14, 32)    0         \n",
      " stributed)                                                      \n",
      "                                                                 \n",
      " time_distributed_5 (TimeDi  (None, 20, 14, 14, 32)    0         \n",
      " stributed)                                                      \n",
      "                                                                 \n",
      " time_distributed_6 (TimeDi  (None, 20, 14, 14, 64)    18496     \n",
      " stributed)                                                      \n",
      "                                                                 \n",
      " time_distributed_7 (TimeDi  (None, 20, 3, 3, 64)      0         \n",
      " stributed)                                                      \n",
      "                                                                 \n",
      " time_distributed_8 (TimeDi  (None, 20, 576)           0         \n",
      " stributed)                                                      \n",
      "                                                                 \n",
      " lstm (LSTM)                 (None, 32)                77952     \n",
      "                                                                 \n",
      " dense (Dense)               (None, 64)                2112      \n",
      "                                                                 \n",
      "=================================================================\n",
      "Total params: 103360 (403.75 KB)\n",
      "Trainable params: 103360 (403.75 KB)\n",
      "Non-trainable params: 0 (0.00 Byte)\n",
      "_________________________________________________________________\n"
     ]
    }
   ],
   "source": [
    "model.summary()"
   ]
  },
  {
   "cell_type": "code",
   "execution_count": 192,
   "id": "9f59583b",
   "metadata": {},
   "outputs": [
    {
     "name": "stdout",
     "output_type": "stream",
     "text": [
      "20/20 [==============================] - 204s 10s/step - loss: 0.4649 - accuracy: 0.9234\n"
     ]
    }
   ],
   "source": [
    "model_evaluation_history = model.evaluate(x_test,y_test)"
   ]
  },
  {
   "cell_type": "code",
   "execution_count": 193,
   "id": "e5bc46e2",
   "metadata": {},
   "outputs": [
    {
     "name": "stdout",
     "output_type": "stream",
     "text": [
      "[0.46493715047836304, 0.9234374761581421]\n"
     ]
    }
   ],
   "source": [
    "print(model_evaluation_history)"
   ]
  },
  {
   "cell_type": "markdown",
   "id": "20f0f0d8",
   "metadata": {},
   "source": [
    "## Confusion matrix"
   ]
  },
  {
   "cell_type": "code",
   "execution_count": 195,
   "id": "7f5a1bfa",
   "metadata": {},
   "outputs": [],
   "source": [
    "from sklearn.metrics import confusion_matrix\n",
    "import pandas as pd\n",
    "import seaborn as sn"
   ]
  },
  {
   "cell_type": "code",
   "execution_count": 65,
   "id": "b552919f",
   "metadata": {},
   "outputs": [
    {
     "name": "stdout",
     "output_type": "stream",
     "text": [
      "20/20 [==============================] - 176s 9s/step\n"
     ]
    }
   ],
   "source": [
    "#Predict\n",
    "y_prediction = model.predict(x_test)\n",
    "y_prediction = np.argmax(y_prediction, axis = 1)"
   ]
  },
  {
   "cell_type": "code",
   "execution_count": 201,
   "id": "f3a978f0",
   "metadata": {},
   "outputs": [
    {
     "data": {
      "text/plain": [
       "<Axes: >"
      ]
     },
     "execution_count": 201,
     "metadata": {},
     "output_type": "execute_result"
    },
    {
     "data": {
      "image/png": "[encoded data removed]",
      "text/plain": [
       "<Figure size 2500x1700 with 2 Axes>"
      ]
     },
     "metadata": {},
     "output_type": "display_data"
    }
   ],
   "source": [
    "#Create confusion matrix and normalizes it over predicted (columns)\n",
    "result = confusion_matrix(y_test, y_prediction )\n",
    "df_matrix = pd.DataFrame(result)\n",
    "plt.figure(figsize = (25,17))\n",
    "sn.heatmap(df_matrix,annot=True)"
   ]
  },
  {
   "cell_type": "code",
   "execution_count": 67,
   "id": "075f703e",
   "metadata": {},
   "outputs": [
    {
     "data": {
      "text/plain": [
       "(64, 64)"
      ]
     },
     "execution_count": 67,
     "metadata": {},
     "output_type": "execute_result"
    }
   ],
   "source": [
    "result.shape"
   ]
  },
  {
   "cell_type": "markdown",
   "id": "333ea45d",
   "metadata": {},
   "source": [
    "## Experiments with other data"
   ]
  },
  {
   "cell_type": "code",
   "execution_count": 39,
   "id": "4ce01bc3",
   "metadata": {},
   "outputs": [
    {
     "name": "stdout",
     "output_type": "stream",
     "text": [
      "Video url: ./prueba1.avi, video_length:148.0\n"
     ]
    }
   ],
   "source": [
    "vid_unprocessed = './prueba1.avi'\n",
    "frames = groupFrames(vid_unprocessed)"
   ]
  },
  {
   "cell_type": "code",
   "execution_count": 40,
   "id": "4b205ae3",
   "metadata": {},
   "outputs": [
    {
     "data": {
      "text/plain": [
       "(20, 480, 640, 1)"
      ]
     },
     "execution_count": 40,
     "metadata": {},
     "output_type": "execute_result"
    }
   ],
   "source": [
    "frames.shape"
   ]
  },
  {
   "cell_type": "code",
   "execution_count": 41,
   "id": "a86e285b",
   "metadata": {},
   "outputs": [],
   "source": [
    "def resizeVid(video,width = WIDTH, height = HEIGHT):\n",
    "    resizedVideo = []\n",
    "    for img in video:\n",
    "        #img = cv2.flip(img,1)\n",
    "        img = cv2.resize(img,(width,height))\n",
    "        img = np.expand_dims(img, axis=-1) \n",
    "        resizedVideo.append(img)\n",
    "    return resizedVideo"
   ]
  },
  {
   "cell_type": "code",
   "execution_count": 42,
   "id": "58aa4fde",
   "metadata": {},
   "outputs": [
    {
     "data": {
      "text/plain": [
       "(1, 20, 224, 224, 1)"
      ]
     },
     "execution_count": 42,
     "metadata": {},
     "output_type": "execute_result"
    }
   ],
   "source": [
    "frames = np.array([resizeVid(frames)])\n",
    "frames.shape"
   ]
  },
  {
   "cell_type": "code",
   "execution_count": 43,
   "id": "ff4b5df2",
   "metadata": {},
   "outputs": [
    {
     "data": {
      "text/plain": [
       "(20, 224, 224, 1)"
      ]
     },
     "execution_count": 43,
     "metadata": {},
     "output_type": "execute_result"
    }
   ],
   "source": [
    "frames[0].shape"
   ]
  },
  {
   "cell_type": "code",
   "execution_count": 44,
   "id": "a4bb4b6f",
   "metadata": {},
   "outputs": [
    {
     "name": "stdout",
     "output_type": "stream",
     "text": [
      "1/1 [==============================] - 0s 275ms/step\n"
     ]
    },
    {
     "data": {
      "text/plain": [
       "19"
      ]
     },
     "execution_count": 44,
     "metadata": {},
     "output_type": "execute_result"
    }
   ],
   "source": [
    "prediction = np.argmax(model.predict(frames))+1\n",
    "prediction"
   ]
  },
  {
   "cell_type": "code",
   "execution_count": 26,
   "id": "b7e37df2",
   "metadata": {},
   "outputs": [
    {
     "ename": "NameError",
     "evalue": "name 'y_test' is not defined",
     "output_type": "error",
     "traceback": [
      "\u001b[1;31m---------------------------------------------------------------------------\u001b[0m",
      "\u001b[1;31mNameError\u001b[0m                                 Traceback (most recent call last)",
      "Cell \u001b[1;32mIn[26], line 1\u001b[0m\n\u001b[1;32m----> 1\u001b[0m \u001b[43my_test\u001b[49m[\u001b[38;5;241m0\u001b[39m]\n",
      "\u001b[1;31mNameError\u001b[0m: name 'y_test' is not defined"
     ]
    }
   ],
   "source": [
    "y_test[0]"
   ]
  },
  {
   "cell_type": "code",
   "execution_count": 28,
   "id": "07da80a8",
   "metadata": {},
   "outputs": [
    {
     "name": "stdout",
     "output_type": "stream",
     "text": [
      "1/1 [==============================] - 0s 281ms/step\n"
     ]
    },
    {
     "data": {
      "text/plain": [
       "1.3397131e-08"
      ]
     },
     "execution_count": 28,
     "metadata": {},
     "output_type": "execute_result"
    }
   ],
   "source": [
    "model.predict(frames)[0][prediction-1]"
   ]
  },
  {
   "cell_type": "code",
   "execution_count": 32,
   "id": "5ba64b75",
   "metadata": {},
   "outputs": [
    {
     "data": {
      "text/plain": [
       "<matplotlib.image.AxesImage at 0x275d6f65690>"
      ]
     },
     "execution_count": 32,
     "metadata": {},
     "output_type": "execute_result"
    },
    {
     "data": {
      "image/png": "[encoded data removed]",
      "text/plain": [
       "<Figure size 640x480 with 1 Axes>"
      ]
     },
     "metadata": {},
     "output_type": "display_data"
    }
   ],
   "source": [
    "plt.imshow(frames[0][3])"
   ]
  },
  {
   "cell_type": "code",
   "execution_count": null,
   "id": "f0622f45",
   "metadata": {},
   "outputs": [],
   "source": []
  },
  {
   "cell_type": "code",
   "execution_count": 25,
   "id": "982d386e",
   "metadata": {},
   "outputs": [],
   "source": [
    "src = cv2.VideoCapture(vid_unprocessed)  \n",
    "ret, image = src.read()"
   ]
  },
  {
   "cell_type": "code",
   "execution_count": 26,
   "id": "1c174b0f",
   "metadata": {},
   "outputs": [
    {
     "ename": "TypeError",
     "evalue": "'int' object is not callable",
     "output_type": "error",
     "traceback": [
      "\u001b[1;31m---------------------------------------------------------------------------\u001b[0m",
      "\u001b[1;31mTypeError\u001b[0m                                 Traceback (most recent call last)",
      "\u001b[1;31mTypeError\u001b[0m: 'int' object is not callable"
     ]
    },
    {
     "ename": "TypeError",
     "evalue": "'int' object is not callable",
     "output_type": "error",
     "traceback": [
      "\u001b[1;31m---------------------------------------------------------------------------\u001b[0m",
      "\u001b[1;31mTypeError\u001b[0m                                 Traceback (most recent call last)",
      "\u001b[1;31mTypeError\u001b[0m: 'int' object is not callable"
     ]
    },
    {
     "ename": "TypeError",
     "evalue": "'int' object is not callable",
     "output_type": "error",
     "traceback": [
      "\u001b[1;31m---------------------------------------------------------------------------\u001b[0m",
      "\u001b[1;31mTypeError\u001b[0m                                 Traceback (most recent call last)",
      "\u001b[1;31mTypeError\u001b[0m: 'int' object is not callable"
     ]
    },
    {
     "ename": "TypeError",
     "evalue": "'int' object is not callable",
     "output_type": "error",
     "traceback": [
      "\u001b[1;31m---------------------------------------------------------------------------\u001b[0m",
      "\u001b[1;31mTypeError\u001b[0m                                 Traceback (most recent call last)",
      "\u001b[1;31mTypeError\u001b[0m: 'int' object is not callable"
     ]
    },
    {
     "ename": "TypeError",
     "evalue": "'int' object is not callable",
     "output_type": "error",
     "traceback": [
      "\u001b[1;31m---------------------------------------------------------------------------\u001b[0m",
      "\u001b[1;31mTypeError\u001b[0m                                 Traceback (most recent call last)",
      "\u001b[1;31mTypeError\u001b[0m: 'int' object is not callable"
     ]
    },
    {
     "ename": "TypeError",
     "evalue": "'int' object is not callable",
     "output_type": "error",
     "traceback": [
      "\u001b[1;31m---------------------------------------------------------------------------\u001b[0m",
      "\u001b[1;31mTypeError\u001b[0m                                 Traceback (most recent call last)",
      "\u001b[1;31mTypeError\u001b[0m: 'int' object is not callable"
     ]
    },
    {
     "ename": "TypeError",
     "evalue": "'int' object is not callable",
     "output_type": "error",
     "traceback": [
      "\u001b[1;31m---------------------------------------------------------------------------\u001b[0m",
      "\u001b[1;31mTypeError\u001b[0m                                 Traceback (most recent call last)",
      "\u001b[1;31mTypeError\u001b[0m: 'int' object is not callable"
     ]
    },
    {
     "ename": "TypeError",
     "evalue": "'int' object is not callable",
     "output_type": "error",
     "traceback": [
      "\u001b[1;31m---------------------------------------------------------------------------\u001b[0m",
      "\u001b[1;31mTypeError\u001b[0m                                 Traceback (most recent call last)",
      "\u001b[1;31mTypeError\u001b[0m: 'int' object is not callable"
     ]
    },
    {
     "ename": "TypeError",
     "evalue": "'int' object is not callable",
     "output_type": "error",
     "traceback": [
      "\u001b[1;31m---------------------------------------------------------------------------\u001b[0m",
      "\u001b[1;31mTypeError\u001b[0m                                 Traceback (most recent call last)",
      "\u001b[1;31mTypeError\u001b[0m: 'int' object is not callable"
     ]
    },
    {
     "ename": "TypeError",
     "evalue": "'int' object is not callable",
     "output_type": "error",
     "traceback": [
      "\u001b[1;31m---------------------------------------------------------------------------\u001b[0m",
      "\u001b[1;31mTypeError\u001b[0m                                 Traceback (most recent call last)",
      "\u001b[1;31mTypeError\u001b[0m: 'int' object is not callable"
     ]
    },
    {
     "ename": "TypeError",
     "evalue": "'int' object is not callable",
     "output_type": "error",
     "traceback": [
      "\u001b[1;31m---------------------------------------------------------------------------\u001b[0m",
      "\u001b[1;31mTypeError\u001b[0m                                 Traceback (most recent call last)",
      "\u001b[1;31mTypeError\u001b[0m: 'int' object is not callable"
     ]
    },
    {
     "ename": "TypeError",
     "evalue": "'int' object is not callable",
     "output_type": "error",
     "traceback": [
      "\u001b[1;31m---------------------------------------------------------------------------\u001b[0m",
      "\u001b[1;31mTypeError\u001b[0m                                 Traceback (most recent call last)",
      "\u001b[1;31mTypeError\u001b[0m: 'int' object is not callable"
     ]
    },
    {
     "ename": "TypeError",
     "evalue": "'int' object is not callable",
     "output_type": "error",
     "traceback": [
      "\u001b[1;31m---------------------------------------------------------------------------\u001b[0m",
      "\u001b[1;31mTypeError\u001b[0m                                 Traceback (most recent call last)",
      "\u001b[1;31mTypeError\u001b[0m: 'int' object is not callable"
     ]
    },
    {
     "ename": "TypeError",
     "evalue": "'int' object is not callable",
     "output_type": "error",
     "traceback": [
      "\u001b[1;31m---------------------------------------------------------------------------\u001b[0m",
      "\u001b[1;31mTypeError\u001b[0m                                 Traceback (most recent call last)",
      "\u001b[1;31mTypeError\u001b[0m: 'int' object is not callable"
     ]
    },
    {
     "ename": "TypeError",
     "evalue": "'int' object is not callable",
     "output_type": "error",
     "traceback": [
      "\u001b[1;31m---------------------------------------------------------------------------\u001b[0m",
      "\u001b[1;31mTypeError\u001b[0m                                 Traceback (most recent call last)",
      "\u001b[1;31mTypeError\u001b[0m: 'int' object is not callable"
     ]
    },
    {
     "ename": "TypeError",
     "evalue": "'int' object is not callable",
     "output_type": "error",
     "traceback": [
      "\u001b[1;31m---------------------------------------------------------------------------\u001b[0m",
      "\u001b[1;31mTypeError\u001b[0m                                 Traceback (most recent call last)",
      "\u001b[1;31mTypeError\u001b[0m: 'int' object is not callable"
     ]
    },
    {
     "ename": "TypeError",
     "evalue": "'int' object is not callable",
     "output_type": "error",
     "traceback": [
      "\u001b[1;31m---------------------------------------------------------------------------\u001b[0m",
      "\u001b[1;31mTypeError\u001b[0m                                 Traceback (most recent call last)",
      "\u001b[1;31mTypeError\u001b[0m: 'int' object is not callable"
     ]
    },
    {
     "ename": "TypeError",
     "evalue": "'int' object is not callable",
     "output_type": "error",
     "traceback": [
      "\u001b[1;31m---------------------------------------------------------------------------\u001b[0m",
      "\u001b[1;31mTypeError\u001b[0m                                 Traceback (most recent call last)",
      "\u001b[1;31mTypeError\u001b[0m: 'int' object is not callable"
     ]
    },
    {
     "ename": "TypeError",
     "evalue": "'int' object is not callable",
     "output_type": "error",
     "traceback": [
      "\u001b[1;31m---------------------------------------------------------------------------\u001b[0m",
      "\u001b[1;31mTypeError\u001b[0m                                 Traceback (most recent call last)",
      "\u001b[1;31mTypeError\u001b[0m: 'int' object is not callable"
     ]
    },
    {
     "ename": "TypeError",
     "evalue": "'int' object is not callable",
     "output_type": "error",
     "traceback": [
      "\u001b[1;31m---------------------------------------------------------------------------\u001b[0m",
      "\u001b[1;31mTypeError\u001b[0m                                 Traceback (most recent call last)",
      "\u001b[1;31mTypeError\u001b[0m: 'int' object is not callable"
     ]
    },
    {
     "ename": "TypeError",
     "evalue": "'int' object is not callable",
     "output_type": "error",
     "traceback": [
      "\u001b[1;31m---------------------------------------------------------------------------\u001b[0m",
      "\u001b[1;31mTypeError\u001b[0m                                 Traceback (most recent call last)",
      "\u001b[1;31mTypeError\u001b[0m: 'int' object is not callable"
     ]
    },
    {
     "ename": "TypeError",
     "evalue": "'int' object is not callable",
     "output_type": "error",
     "traceback": [
      "\u001b[1;31m---------------------------------------------------------------------------\u001b[0m",
      "\u001b[1;31mTypeError\u001b[0m                                 Traceback (most recent call last)",
      "\u001b[1;31mTypeError\u001b[0m: 'int' object is not callable"
     ]
    },
    {
     "ename": "TypeError",
     "evalue": "'int' object is not callable",
     "output_type": "error",
     "traceback": [
      "\u001b[1;31m---------------------------------------------------------------------------\u001b[0m",
      "\u001b[1;31mTypeError\u001b[0m                                 Traceback (most recent call last)",
      "\u001b[1;31mTypeError\u001b[0m: 'int' object is not callable"
     ]
    },
    {
     "ename": "TypeError",
     "evalue": "'int' object is not callable",
     "output_type": "error",
     "traceback": [
      "\u001b[1;31m---------------------------------------------------------------------------\u001b[0m",
      "\u001b[1;31mTypeError\u001b[0m                                 Traceback (most recent call last)",
      "\u001b[1;31mTypeError\u001b[0m: 'int' object is not callable"
     ]
    },
    {
     "ename": "TypeError",
     "evalue": "'int' object is not callable",
     "output_type": "error",
     "traceback": [
      "\u001b[1;31m---------------------------------------------------------------------------\u001b[0m",
      "\u001b[1;31mTypeError\u001b[0m                                 Traceback (most recent call last)",
      "\u001b[1;31mTypeError\u001b[0m: 'int' object is not callable"
     ]
    },
    {
     "ename": "TypeError",
     "evalue": "'int' object is not callable",
     "output_type": "error",
     "traceback": [
      "\u001b[1;31m---------------------------------------------------------------------------\u001b[0m",
      "\u001b[1;31mTypeError\u001b[0m                                 Traceback (most recent call last)",
      "\u001b[1;31mTypeError\u001b[0m: 'int' object is not callable"
     ]
    },
    {
     "ename": "TypeError",
     "evalue": "'int' object is not callable",
     "output_type": "error",
     "traceback": [
      "\u001b[1;31m---------------------------------------------------------------------------\u001b[0m",
      "\u001b[1;31mTypeError\u001b[0m                                 Traceback (most recent call last)",
      "\u001b[1;31mTypeError\u001b[0m: 'int' object is not callable"
     ]
    },
    {
     "ename": "TypeError",
     "evalue": "'int' object is not callable",
     "output_type": "error",
     "traceback": [
      "\u001b[1;31m---------------------------------------------------------------------------\u001b[0m",
      "\u001b[1;31mTypeError\u001b[0m                                 Traceback (most recent call last)",
      "\u001b[1;31mTypeError\u001b[0m: 'int' object is not callable"
     ]
    },
    {
     "ename": "TypeError",
     "evalue": "'int' object is not callable",
     "output_type": "error",
     "traceback": [
      "\u001b[1;31m---------------------------------------------------------------------------\u001b[0m",
      "\u001b[1;31mTypeError\u001b[0m                                 Traceback (most recent call last)",
      "\u001b[1;31mTypeError\u001b[0m: 'int' object is not callable"
     ]
    },
    {
     "ename": "TypeError",
     "evalue": "'int' object is not callable",
     "output_type": "error",
     "traceback": [
      "\u001b[1;31m---------------------------------------------------------------------------\u001b[0m",
      "\u001b[1;31mTypeError\u001b[0m                                 Traceback (most recent call last)",
      "\u001b[1;31mTypeError\u001b[0m: 'int' object is not callable"
     ]
    },
    {
     "ename": "TypeError",
     "evalue": "'int' object is not callable",
     "output_type": "error",
     "traceback": [
      "\u001b[1;31m---------------------------------------------------------------------------\u001b[0m",
      "\u001b[1;31mTypeError\u001b[0m                                 Traceback (most recent call last)",
      "\u001b[1;31mTypeError\u001b[0m: 'int' object is not callable"
     ]
    },
    {
     "ename": "TypeError",
     "evalue": "'int' object is not callable",
     "output_type": "error",
     "traceback": [
      "\u001b[1;31m---------------------------------------------------------------------------\u001b[0m",
      "\u001b[1;31mTypeError\u001b[0m                                 Traceback (most recent call last)",
      "\u001b[1;31mTypeError\u001b[0m: 'int' object is not callable"
     ]
    },
    {
     "ename": "TypeError",
     "evalue": "'int' object is not callable",
     "output_type": "error",
     "traceback": [
      "\u001b[1;31m---------------------------------------------------------------------------\u001b[0m",
      "\u001b[1;31mTypeError\u001b[0m                                 Traceback (most recent call last)",
      "\u001b[1;31mTypeError\u001b[0m: 'int' object is not callable"
     ]
    },
    {
     "ename": "TypeError",
     "evalue": "'int' object is not callable",
     "output_type": "error",
     "traceback": [
      "\u001b[1;31m---------------------------------------------------------------------------\u001b[0m",
      "\u001b[1;31mTypeError\u001b[0m                                 Traceback (most recent call last)",
      "\u001b[1;31mTypeError\u001b[0m: 'int' object is not callable"
     ]
    },
    {
     "ename": "TypeError",
     "evalue": "'int' object is not callable",
     "output_type": "error",
     "traceback": [
      "\u001b[1;31m---------------------------------------------------------------------------\u001b[0m",
      "\u001b[1;31mTypeError\u001b[0m                                 Traceback (most recent call last)",
      "\u001b[1;31mTypeError\u001b[0m: 'int' object is not callable"
     ]
    },
    {
     "ename": "TypeError",
     "evalue": "'int' object is not callable",
     "output_type": "error",
     "traceback": [
      "\u001b[1;31m---------------------------------------------------------------------------\u001b[0m",
      "\u001b[1;31mTypeError\u001b[0m                                 Traceback (most recent call last)",
      "\u001b[1;31mTypeError\u001b[0m: 'int' object is not callable"
     ]
    },
    {
     "ename": "TypeError",
     "evalue": "'int' object is not callable",
     "output_type": "error",
     "traceback": [
      "\u001b[1;31m---------------------------------------------------------------------------\u001b[0m",
      "\u001b[1;31mTypeError\u001b[0m                                 Traceback (most recent call last)",
      "\u001b[1;31mTypeError\u001b[0m: 'int' object is not callable"
     ]
    },
    {
     "ename": "TypeError",
     "evalue": "'int' object is not callable",
     "output_type": "error",
     "traceback": [
      "\u001b[1;31m---------------------------------------------------------------------------\u001b[0m",
      "\u001b[1;31mTypeError\u001b[0m                                 Traceback (most recent call last)",
      "\u001b[1;31mTypeError\u001b[0m: 'int' object is not callable"
     ]
    },
    {
     "ename": "TypeError",
     "evalue": "'int' object is not callable",
     "output_type": "error",
     "traceback": [
      "\u001b[1;31m---------------------------------------------------------------------------\u001b[0m",
      "\u001b[1;31mTypeError\u001b[0m                                 Traceback (most recent call last)",
      "\u001b[1;31mTypeError\u001b[0m: 'int' object is not callable"
     ]
    },
    {
     "ename": "TypeError",
     "evalue": "'int' object is not callable",
     "output_type": "error",
     "traceback": [
      "\u001b[1;31m---------------------------------------------------------------------------\u001b[0m",
      "\u001b[1;31mTypeError\u001b[0m                                 Traceback (most recent call last)",
      "\u001b[1;31mTypeError\u001b[0m: 'int' object is not callable"
     ]
    },
    {
     "ename": "TypeError",
     "evalue": "'int' object is not callable",
     "output_type": "error",
     "traceback": [
      "\u001b[1;31m---------------------------------------------------------------------------\u001b[0m",
      "\u001b[1;31mTypeError\u001b[0m                                 Traceback (most recent call last)",
      "\u001b[1;31mTypeError\u001b[0m: 'int' object is not callable"
     ]
    },
    {
     "ename": "TypeError",
     "evalue": "'int' object is not callable",
     "output_type": "error",
     "traceback": [
      "\u001b[1;31m---------------------------------------------------------------------------\u001b[0m",
      "\u001b[1;31mTypeError\u001b[0m                                 Traceback (most recent call last)",
      "\u001b[1;31mTypeError\u001b[0m: 'int' object is not callable"
     ]
    },
    {
     "ename": "TypeError",
     "evalue": "'int' object is not callable",
     "output_type": "error",
     "traceback": [
      "\u001b[1;31m---------------------------------------------------------------------------\u001b[0m",
      "\u001b[1;31mTypeError\u001b[0m                                 Traceback (most recent call last)",
      "\u001b[1;31mTypeError\u001b[0m: 'int' object is not callable"
     ]
    },
    {
     "ename": "TypeError",
     "evalue": "'int' object is not callable",
     "output_type": "error",
     "traceback": [
      "\u001b[1;31m---------------------------------------------------------------------------\u001b[0m",
      "\u001b[1;31mTypeError\u001b[0m                                 Traceback (most recent call last)",
      "\u001b[1;31mTypeError\u001b[0m: 'int' object is not callable"
     ]
    },
    {
     "ename": "TypeError",
     "evalue": "'int' object is not callable",
     "output_type": "error",
     "traceback": [
      "\u001b[1;31m---------------------------------------------------------------------------\u001b[0m",
      "\u001b[1;31mTypeError\u001b[0m                                 Traceback (most recent call last)",
      "\u001b[1;31mTypeError\u001b[0m: 'int' object is not callable"
     ]
    },
    {
     "ename": "TypeError",
     "evalue": "'int' object is not callable",
     "output_type": "error",
     "traceback": [
      "\u001b[1;31m---------------------------------------------------------------------------\u001b[0m",
      "\u001b[1;31mTypeError\u001b[0m                                 Traceback (most recent call last)",
      "\u001b[1;31mTypeError\u001b[0m: 'int' object is not callable"
     ]
    },
    {
     "ename": "TypeError",
     "evalue": "'int' object is not callable",
     "output_type": "error",
     "traceback": [
      "\u001b[1;31m---------------------------------------------------------------------------\u001b[0m",
      "\u001b[1;31mTypeError\u001b[0m                                 Traceback (most recent call last)",
      "\u001b[1;31mTypeError\u001b[0m: 'int' object is not callable"
     ]
    },
    {
     "ename": "TypeError",
     "evalue": "'int' object is not callable",
     "output_type": "error",
     "traceback": [
      "\u001b[1;31m---------------------------------------------------------------------------\u001b[0m",
      "\u001b[1;31mTypeError\u001b[0m                                 Traceback (most recent call last)",
      "\u001b[1;31mTypeError\u001b[0m: 'int' object is not callable"
     ]
    },
    {
     "ename": "TypeError",
     "evalue": "'int' object is not callable",
     "output_type": "error",
     "traceback": [
      "\u001b[1;31m---------------------------------------------------------------------------\u001b[0m",
      "\u001b[1;31mTypeError\u001b[0m                                 Traceback (most recent call last)",
      "\u001b[1;31mTypeError\u001b[0m: 'int' object is not callable"
     ]
    },
    {
     "ename": "TypeError",
     "evalue": "'int' object is not callable",
     "output_type": "error",
     "traceback": [
      "\u001b[1;31m---------------------------------------------------------------------------\u001b[0m",
      "\u001b[1;31mTypeError\u001b[0m                                 Traceback (most recent call last)",
      "\u001b[1;31mTypeError\u001b[0m: 'int' object is not callable"
     ]
    },
    {
     "ename": "TypeError",
     "evalue": "'int' object is not callable",
     "output_type": "error",
     "traceback": [
      "\u001b[1;31m---------------------------------------------------------------------------\u001b[0m",
      "\u001b[1;31mTypeError\u001b[0m                                 Traceback (most recent call last)",
      "\u001b[1;31mTypeError\u001b[0m: 'int' object is not callable"
     ]
    },
    {
     "ename": "TypeError",
     "evalue": "'int' object is not callable",
     "output_type": "error",
     "traceback": [
      "\u001b[1;31m---------------------------------------------------------------------------\u001b[0m",
      "\u001b[1;31mTypeError\u001b[0m                                 Traceback (most recent call last)",
      "\u001b[1;31mTypeError\u001b[0m: 'int' object is not callable"
     ]
    },
    {
     "ename": "TypeError",
     "evalue": "'int' object is not callable",
     "output_type": "error",
     "traceback": [
      "\u001b[1;31m---------------------------------------------------------------------------\u001b[0m",
      "\u001b[1;31mTypeError\u001b[0m                                 Traceback (most recent call last)",
      "\u001b[1;31mTypeError\u001b[0m: 'int' object is not callable"
     ]
    },
    {
     "ename": "TypeError",
     "evalue": "'int' object is not callable",
     "output_type": "error",
     "traceback": [
      "\u001b[1;31m---------------------------------------------------------------------------\u001b[0m",
      "\u001b[1;31mTypeError\u001b[0m                                 Traceback (most recent call last)",
      "\u001b[1;31mTypeError\u001b[0m: 'int' object is not callable"
     ]
    },
    {
     "ename": "TypeError",
     "evalue": "'int' object is not callable",
     "output_type": "error",
     "traceback": [
      "\u001b[1;31m---------------------------------------------------------------------------\u001b[0m",
      "\u001b[1;31mTypeError\u001b[0m                                 Traceback (most recent call last)",
      "\u001b[1;31mTypeError\u001b[0m: 'int' object is not callable"
     ]
    },
    {
     "ename": "TypeError",
     "evalue": "'int' object is not callable",
     "output_type": "error",
     "traceback": [
      "\u001b[1;31m---------------------------------------------------------------------------\u001b[0m",
      "\u001b[1;31mTypeError\u001b[0m                                 Traceback (most recent call last)",
      "\u001b[1;31mTypeError\u001b[0m: 'int' object is not callable"
     ]
    },
    {
     "ename": "TypeError",
     "evalue": "'int' object is not callable",
     "output_type": "error",
     "traceback": [
      "\u001b[1;31m---------------------------------------------------------------------------\u001b[0m",
      "\u001b[1;31mTypeError\u001b[0m                                 Traceback (most recent call last)",
      "\u001b[1;31mTypeError\u001b[0m: 'int' object is not callable"
     ]
    },
    {
     "ename": "TypeError",
     "evalue": "'int' object is not callable",
     "output_type": "error",
     "traceback": [
      "\u001b[1;31m---------------------------------------------------------------------------\u001b[0m",
      "\u001b[1;31mTypeError\u001b[0m                                 Traceback (most recent call last)",
      "\u001b[1;31mTypeError\u001b[0m: 'int' object is not callable"
     ]
    },
    {
     "ename": "TypeError",
     "evalue": "'int' object is not callable",
     "output_type": "error",
     "traceback": [
      "\u001b[1;31m---------------------------------------------------------------------------\u001b[0m",
      "\u001b[1;31mTypeError\u001b[0m                                 Traceback (most recent call last)",
      "\u001b[1;31mTypeError\u001b[0m: 'int' object is not callable"
     ]
    },
    {
     "ename": "TypeError",
     "evalue": "'int' object is not callable",
     "output_type": "error",
     "traceback": [
      "\u001b[1;31m---------------------------------------------------------------------------\u001b[0m",
      "\u001b[1;31mTypeError\u001b[0m                                 Traceback (most recent call last)",
      "\u001b[1;31mTypeError\u001b[0m: 'int' object is not callable"
     ]
    },
    {
     "ename": "TypeError",
     "evalue": "'int' object is not callable",
     "output_type": "error",
     "traceback": [
      "\u001b[1;31m---------------------------------------------------------------------------\u001b[0m",
      "\u001b[1;31mTypeError\u001b[0m                                 Traceback (most recent call last)",
      "\u001b[1;31mTypeError\u001b[0m: 'int' object is not callable"
     ]
    },
    {
     "ename": "TypeError",
     "evalue": "'int' object is not callable",
     "output_type": "error",
     "traceback": [
      "\u001b[1;31m---------------------------------------------------------------------------\u001b[0m",
      "\u001b[1;31mTypeError\u001b[0m                                 Traceback (most recent call last)",
      "\u001b[1;31mTypeError\u001b[0m: 'int' object is not callable"
     ]
    },
    {
     "ename": "TypeError",
     "evalue": "'int' object is not callable",
     "output_type": "error",
     "traceback": [
      "\u001b[1;31m---------------------------------------------------------------------------\u001b[0m",
      "\u001b[1;31mTypeError\u001b[0m                                 Traceback (most recent call last)",
      "\u001b[1;31mTypeError\u001b[0m: 'int' object is not callable"
     ]
    },
    {
     "ename": "TypeError",
     "evalue": "'int' object is not callable",
     "output_type": "error",
     "traceback": [
      "\u001b[1;31m---------------------------------------------------------------------------\u001b[0m",
      "\u001b[1;31mTypeError\u001b[0m                                 Traceback (most recent call last)",
      "\u001b[1;31mTypeError\u001b[0m: 'int' object is not callable"
     ]
    },
    {
     "ename": "TypeError",
     "evalue": "'int' object is not callable",
     "output_type": "error",
     "traceback": [
      "\u001b[1;31m---------------------------------------------------------------------------\u001b[0m",
      "\u001b[1;31mTypeError\u001b[0m                                 Traceback (most recent call last)",
      "\u001b[1;31mTypeError\u001b[0m: 'int' object is not callable"
     ]
    },
    {
     "ename": "TypeError",
     "evalue": "'int' object is not callable",
     "output_type": "error",
     "traceback": [
      "\u001b[1;31m---------------------------------------------------------------------------\u001b[0m",
      "\u001b[1;31mTypeError\u001b[0m                                 Traceback (most recent call last)",
      "\u001b[1;31mTypeError\u001b[0m: 'int' object is not callable"
     ]
    },
    {
     "ename": "TypeError",
     "evalue": "'int' object is not callable",
     "output_type": "error",
     "traceback": [
      "\u001b[1;31m---------------------------------------------------------------------------\u001b[0m",
      "\u001b[1;31mTypeError\u001b[0m                                 Traceback (most recent call last)",
      "\u001b[1;31mTypeError\u001b[0m: 'int' object is not callable"
     ]
    },
    {
     "ename": "TypeError",
     "evalue": "'int' object is not callable",
     "output_type": "error",
     "traceback": [
      "\u001b[1;31m---------------------------------------------------------------------------\u001b[0m",
      "\u001b[1;31mTypeError\u001b[0m                                 Traceback (most recent call last)",
      "\u001b[1;31mTypeError\u001b[0m: 'int' object is not callable"
     ]
    },
    {
     "ename": "TypeError",
     "evalue": "'int' object is not callable",
     "output_type": "error",
     "traceback": [
      "\u001b[1;31m---------------------------------------------------------------------------\u001b[0m",
      "\u001b[1;31mTypeError\u001b[0m                                 Traceback (most recent call last)",
      "\u001b[1;31mTypeError\u001b[0m: 'int' object is not callable"
     ]
    },
    {
     "ename": "TypeError",
     "evalue": "'int' object is not callable",
     "output_type": "error",
     "traceback": [
      "\u001b[1;31m---------------------------------------------------------------------------\u001b[0m",
      "\u001b[1;31mTypeError\u001b[0m                                 Traceback (most recent call last)",
      "\u001b[1;31mTypeError\u001b[0m: 'int' object is not callable"
     ]
    },
    {
     "ename": "TypeError",
     "evalue": "'int' object is not callable",
     "output_type": "error",
     "traceback": [
      "\u001b[1;31m---------------------------------------------------------------------------\u001b[0m",
      "\u001b[1;31mTypeError\u001b[0m                                 Traceback (most recent call last)",
      "\u001b[1;31mTypeError\u001b[0m: 'int' object is not callable"
     ]
    },
    {
     "ename": "TypeError",
     "evalue": "'int' object is not callable",
     "output_type": "error",
     "traceback": [
      "\u001b[1;31m---------------------------------------------------------------------------\u001b[0m",
      "\u001b[1;31mTypeError\u001b[0m                                 Traceback (most recent call last)",
      "\u001b[1;31mTypeError\u001b[0m: 'int' object is not callable"
     ]
    },
    {
     "ename": "TypeError",
     "evalue": "'int' object is not callable",
     "output_type": "error",
     "traceback": [
      "\u001b[1;31m---------------------------------------------------------------------------\u001b[0m",
      "\u001b[1;31mTypeError\u001b[0m                                 Traceback (most recent call last)",
      "\u001b[1;31mTypeError\u001b[0m: 'int' object is not callable"
     ]
    },
    {
     "ename": "TypeError",
     "evalue": "'int' object is not callable",
     "output_type": "error",
     "traceback": [
      "\u001b[1;31m---------------------------------------------------------------------------\u001b[0m",
      "\u001b[1;31mTypeError\u001b[0m                                 Traceback (most recent call last)",
      "\u001b[1;31mTypeError\u001b[0m: 'int' object is not callable"
     ]
    },
    {
     "ename": "TypeError",
     "evalue": "'int' object is not callable",
     "output_type": "error",
     "traceback": [
      "\u001b[1;31m---------------------------------------------------------------------------\u001b[0m",
      "\u001b[1;31mTypeError\u001b[0m                                 Traceback (most recent call last)",
      "\u001b[1;31mTypeError\u001b[0m: 'int' object is not callable"
     ]
    },
    {
     "ename": "TypeError",
     "evalue": "'int' object is not callable",
     "output_type": "error",
     "traceback": [
      "\u001b[1;31m---------------------------------------------------------------------------\u001b[0m",
      "\u001b[1;31mTypeError\u001b[0m                                 Traceback (most recent call last)",
      "\u001b[1;31mTypeError\u001b[0m: 'int' object is not callable"
     ]
    },
    {
     "ename": "TypeError",
     "evalue": "'int' object is not callable",
     "output_type": "error",
     "traceback": [
      "\u001b[1;31m---------------------------------------------------------------------------\u001b[0m",
      "\u001b[1;31mTypeError\u001b[0m                                 Traceback (most recent call last)",
      "\u001b[1;31mTypeError\u001b[0m: 'int' object is not callable"
     ]
    },
    {
     "ename": "TypeError",
     "evalue": "'int' object is not callable",
     "output_type": "error",
     "traceback": [
      "\u001b[1;31m---------------------------------------------------------------------------\u001b[0m",
      "\u001b[1;31mTypeError\u001b[0m                                 Traceback (most recent call last)",
      "\u001b[1;31mTypeError\u001b[0m: 'int' object is not callable"
     ]
    },
    {
     "ename": "TypeError",
     "evalue": "'int' object is not callable",
     "output_type": "error",
     "traceback": [
      "\u001b[1;31m---------------------------------------------------------------------------\u001b[0m",
      "\u001b[1;31mTypeError\u001b[0m                                 Traceback (most recent call last)",
      "\u001b[1;31mTypeError\u001b[0m: 'int' object is not callable"
     ]
    },
    {
     "ename": "TypeError",
     "evalue": "'int' object is not callable",
     "output_type": "error",
     "traceback": [
      "\u001b[1;31m---------------------------------------------------------------------------\u001b[0m",
      "\u001b[1;31mTypeError\u001b[0m                                 Traceback (most recent call last)",
      "\u001b[1;31mTypeError\u001b[0m: 'int' object is not callable"
     ]
    },
    {
     "ename": "TypeError",
     "evalue": "'int' object is not callable",
     "output_type": "error",
     "traceback": [
      "\u001b[1;31m---------------------------------------------------------------------------\u001b[0m",
      "\u001b[1;31mTypeError\u001b[0m                                 Traceback (most recent call last)",
      "\u001b[1;31mTypeError\u001b[0m: 'int' object is not callable"
     ]
    },
    {
     "ename": "TypeError",
     "evalue": "'int' object is not callable",
     "output_type": "error",
     "traceback": [
      "\u001b[1;31m---------------------------------------------------------------------------\u001b[0m",
      "\u001b[1;31mTypeError\u001b[0m                                 Traceback (most recent call last)",
      "\u001b[1;31mTypeError\u001b[0m: 'int' object is not callable"
     ]
    },
    {
     "ename": "TypeError",
     "evalue": "'int' object is not callable",
     "output_type": "error",
     "traceback": [
      "\u001b[1;31m---------------------------------------------------------------------------\u001b[0m",
      "\u001b[1;31mTypeError\u001b[0m                                 Traceback (most recent call last)",
      "\u001b[1;31mTypeError\u001b[0m: 'int' object is not callable"
     ]
    },
    {
     "ename": "TypeError",
     "evalue": "'int' object is not callable",
     "output_type": "error",
     "traceback": [
      "\u001b[1;31m---------------------------------------------------------------------------\u001b[0m",
      "\u001b[1;31mTypeError\u001b[0m                                 Traceback (most recent call last)",
      "\u001b[1;31mTypeError\u001b[0m: 'int' object is not callable"
     ]
    },
    {
     "ename": "TypeError",
     "evalue": "'int' object is not callable",
     "output_type": "error",
     "traceback": [
      "\u001b[1;31m---------------------------------------------------------------------------\u001b[0m",
      "\u001b[1;31mTypeError\u001b[0m                                 Traceback (most recent call last)",
      "\u001b[1;31mTypeError\u001b[0m: 'int' object is not callable"
     ]
    },
    {
     "ename": "TypeError",
     "evalue": "'int' object is not callable",
     "output_type": "error",
     "traceback": [
      "\u001b[1;31m---------------------------------------------------------------------------\u001b[0m",
      "\u001b[1;31mTypeError\u001b[0m                                 Traceback (most recent call last)",
      "\u001b[1;31mTypeError\u001b[0m: 'int' object is not callable"
     ]
    },
    {
     "ename": "TypeError",
     "evalue": "'int' object is not callable",
     "output_type": "error",
     "traceback": [
      "\u001b[1;31m---------------------------------------------------------------------------\u001b[0m",
      "\u001b[1;31mTypeError\u001b[0m                                 Traceback (most recent call last)",
      "\u001b[1;31mTypeError\u001b[0m: 'int' object is not callable"
     ]
    },
    {
     "ename": "TypeError",
     "evalue": "'int' object is not callable",
     "output_type": "error",
     "traceback": [
      "\u001b[1;31m---------------------------------------------------------------------------\u001b[0m",
      "\u001b[1;31mTypeError\u001b[0m                                 Traceback (most recent call last)",
      "\u001b[1;31mTypeError\u001b[0m: 'int' object is not callable"
     ]
    },
    {
     "ename": "TypeError",
     "evalue": "'int' object is not callable",
     "output_type": "error",
     "traceback": [
      "\u001b[1;31m---------------------------------------------------------------------------\u001b[0m",
      "\u001b[1;31mTypeError\u001b[0m                                 Traceback (most recent call last)",
      "\u001b[1;31mTypeError\u001b[0m: 'int' object is not callable"
     ]
    },
    {
     "ename": "TypeError",
     "evalue": "'int' object is not callable",
     "output_type": "error",
     "traceback": [
      "\u001b[1;31m---------------------------------------------------------------------------\u001b[0m",
      "\u001b[1;31mTypeError\u001b[0m                                 Traceback (most recent call last)",
      "\u001b[1;31mTypeError\u001b[0m: 'int' object is not callable"
     ]
    },
    {
     "ename": "TypeError",
     "evalue": "'int' object is not callable",
     "output_type": "error",
     "traceback": [
      "\u001b[1;31m---------------------------------------------------------------------------\u001b[0m",
      "\u001b[1;31mTypeError\u001b[0m                                 Traceback (most recent call last)",
      "\u001b[1;31mTypeError\u001b[0m: 'int' object is not callable"
     ]
    },
    {
     "ename": "TypeError",
     "evalue": "'int' object is not callable",
     "output_type": "error",
     "traceback": [
      "\u001b[1;31m---------------------------------------------------------------------------\u001b[0m",
      "\u001b[1;31mTypeError\u001b[0m                                 Traceback (most recent call last)",
      "\u001b[1;31mTypeError\u001b[0m: 'int' object is not callable"
     ]
    },
    {
     "ename": "TypeError",
     "evalue": "'int' object is not callable",
     "output_type": "error",
     "traceback": [
      "\u001b[1;31m---------------------------------------------------------------------------\u001b[0m",
      "\u001b[1;31mTypeError\u001b[0m                                 Traceback (most recent call last)",
      "\u001b[1;31mTypeError\u001b[0m: 'int' object is not callable"
     ]
    },
    {
     "ename": "TypeError",
     "evalue": "'int' object is not callable",
     "output_type": "error",
     "traceback": [
      "\u001b[1;31m---------------------------------------------------------------------------\u001b[0m",
      "\u001b[1;31mTypeError\u001b[0m                                 Traceback (most recent call last)",
      "\u001b[1;31mTypeError\u001b[0m: 'int' object is not callable"
     ]
    },
    {
     "ename": "TypeError",
     "evalue": "'int' object is not callable",
     "output_type": "error",
     "traceback": [
      "\u001b[1;31m---------------------------------------------------------------------------\u001b[0m",
      "\u001b[1;31mTypeError\u001b[0m                                 Traceback (most recent call last)",
      "\u001b[1;31mTypeError\u001b[0m: 'int' object is not callable"
     ]
    },
    {
     "ename": "TypeError",
     "evalue": "'int' object is not callable",
     "output_type": "error",
     "traceback": [
      "\u001b[1;31m---------------------------------------------------------------------------\u001b[0m",
      "\u001b[1;31mTypeError\u001b[0m                                 Traceback (most recent call last)",
      "\u001b[1;31mTypeError\u001b[0m: 'int' object is not callable"
     ]
    },
    {
     "ename": "TypeError",
     "evalue": "'int' object is not callable",
     "output_type": "error",
     "traceback": [
      "\u001b[1;31m---------------------------------------------------------------------------\u001b[0m",
      "\u001b[1;31mTypeError\u001b[0m                                 Traceback (most recent call last)",
      "\u001b[1;31mTypeError\u001b[0m: 'int' object is not callable"
     ]
    },
    {
     "ename": "TypeError",
     "evalue": "'int' object is not callable",
     "output_type": "error",
     "traceback": [
      "\u001b[1;31m---------------------------------------------------------------------------\u001b[0m",
      "\u001b[1;31mTypeError\u001b[0m                                 Traceback (most recent call last)",
      "\u001b[1;31mTypeError\u001b[0m: 'int' object is not callable"
     ]
    },
    {
     "ename": "TypeError",
     "evalue": "'int' object is not callable",
     "output_type": "error",
     "traceback": [
      "\u001b[1;31m---------------------------------------------------------------------------\u001b[0m",
      "\u001b[1;31mTypeError\u001b[0m                                 Traceback (most recent call last)",
      "\u001b[1;31mTypeError\u001b[0m: 'int' object is not callable"
     ]
    },
    {
     "ename": "TypeError",
     "evalue": "'int' object is not callable",
     "output_type": "error",
     "traceback": [
      "\u001b[1;31m---------------------------------------------------------------------------\u001b[0m",
      "\u001b[1;31mTypeError\u001b[0m                                 Traceback (most recent call last)",
      "\u001b[1;31mTypeError\u001b[0m: 'int' object is not callable"
     ]
    },
    {
     "ename": "TypeError",
     "evalue": "'int' object is not callable",
     "output_type": "error",
     "traceback": [
      "\u001b[1;31m---------------------------------------------------------------------------\u001b[0m",
      "\u001b[1;31mTypeError\u001b[0m                                 Traceback (most recent call last)",
      "\u001b[1;31mTypeError\u001b[0m: 'int' object is not callable"
     ]
    },
    {
     "ename": "TypeError",
     "evalue": "'int' object is not callable",
     "output_type": "error",
     "traceback": [
      "\u001b[1;31m---------------------------------------------------------------------------\u001b[0m",
      "\u001b[1;31mTypeError\u001b[0m                                 Traceback (most recent call last)",
      "\u001b[1;31mTypeError\u001b[0m: 'int' object is not callable"
     ]
    },
    {
     "ename": "TypeError",
     "evalue": "'int' object is not callable",
     "output_type": "error",
     "traceback": [
      "\u001b[1;31m---------------------------------------------------------------------------\u001b[0m",
      "\u001b[1;31mTypeError\u001b[0m                                 Traceback (most recent call last)",
      "\u001b[1;31mTypeError\u001b[0m: 'int' object is not callable"
     ]
    },
    {
     "ename": "TypeError",
     "evalue": "'int' object is not callable",
     "output_type": "error",
     "traceback": [
      "\u001b[1;31m---------------------------------------------------------------------------\u001b[0m",
      "\u001b[1;31mTypeError\u001b[0m                                 Traceback (most recent call last)",
      "\u001b[1;31mTypeError\u001b[0m: 'int' object is not callable"
     ]
    },
    {
     "ename": "TypeError",
     "evalue": "'int' object is not callable",
     "output_type": "error",
     "traceback": [
      "\u001b[1;31m---------------------------------------------------------------------------\u001b[0m",
      "\u001b[1;31mTypeError\u001b[0m                                 Traceback (most recent call last)",
      "\u001b[1;31mTypeError\u001b[0m: 'int' object is not callable"
     ]
    },
    {
     "ename": "TypeError",
     "evalue": "'int' object is not callable",
     "output_type": "error",
     "traceback": [
      "\u001b[1;31m---------------------------------------------------------------------------\u001b[0m",
      "\u001b[1;31mTypeError\u001b[0m                                 Traceback (most recent call last)",
      "\u001b[1;31mTypeError\u001b[0m: 'int' object is not callable"
     ]
    },
    {
     "ename": "TypeError",
     "evalue": "'int' object is not callable",
     "output_type": "error",
     "traceback": [
      "\u001b[1;31m---------------------------------------------------------------------------\u001b[0m",
      "\u001b[1;31mTypeError\u001b[0m                                 Traceback (most recent call last)",
      "\u001b[1;31mTypeError\u001b[0m: 'int' object is not callable"
     ]
    },
    {
     "ename": "TypeError",
     "evalue": "'int' object is not callable",
     "output_type": "error",
     "traceback": [
      "\u001b[1;31m---------------------------------------------------------------------------\u001b[0m",
      "\u001b[1;31mTypeError\u001b[0m                                 Traceback (most recent call last)",
      "\u001b[1;31mTypeError\u001b[0m: 'int' object is not callable"
     ]
    },
    {
     "ename": "TypeError",
     "evalue": "'int' object is not callable",
     "output_type": "error",
     "traceback": [
      "\u001b[1;31m---------------------------------------------------------------------------\u001b[0m",
      "\u001b[1;31mTypeError\u001b[0m                                 Traceback (most recent call last)",
      "\u001b[1;31mTypeError\u001b[0m: 'int' object is not callable"
     ]
    },
    {
     "ename": "TypeError",
     "evalue": "'int' object is not callable",
     "output_type": "error",
     "traceback": [
      "\u001b[1;31m---------------------------------------------------------------------------\u001b[0m",
      "\u001b[1;31mTypeError\u001b[0m                                 Traceback (most recent call last)",
      "\u001b[1;31mTypeError\u001b[0m: 'int' object is not callable"
     ]
    },
    {
     "ename": "TypeError",
     "evalue": "'int' object is not callable",
     "output_type": "error",
     "traceback": [
      "\u001b[1;31m---------------------------------------------------------------------------\u001b[0m",
      "\u001b[1;31mTypeError\u001b[0m                                 Traceback (most recent call last)",
      "\u001b[1;31mTypeError\u001b[0m: 'int' object is not callable"
     ]
    },
    {
     "ename": "TypeError",
     "evalue": "'int' object is not callable",
     "output_type": "error",
     "traceback": [
      "\u001b[1;31m---------------------------------------------------------------------------\u001b[0m",
      "\u001b[1;31mTypeError\u001b[0m                                 Traceback (most recent call last)",
      "\u001b[1;31mTypeError\u001b[0m: 'int' object is not callable"
     ]
    },
    {
     "ename": "TypeError",
     "evalue": "'int' object is not callable",
     "output_type": "error",
     "traceback": [
      "\u001b[1;31m---------------------------------------------------------------------------\u001b[0m",
      "\u001b[1;31mTypeError\u001b[0m                                 Traceback (most recent call last)",
      "\u001b[1;31mTypeError\u001b[0m: 'int' object is not callable"
     ]
    },
    {
     "ename": "TypeError",
     "evalue": "'int' object is not callable",
     "output_type": "error",
     "traceback": [
      "\u001b[1;31m---------------------------------------------------------------------------\u001b[0m",
      "\u001b[1;31mTypeError\u001b[0m                                 Traceback (most recent call last)",
      "\u001b[1;31mTypeError\u001b[0m: 'int' object is not callable"
     ]
    },
    {
     "ename": "TypeError",
     "evalue": "'int' object is not callable",
     "output_type": "error",
     "traceback": [
      "\u001b[1;31m---------------------------------------------------------------------------\u001b[0m",
      "\u001b[1;31mTypeError\u001b[0m                                 Traceback (most recent call last)",
      "\u001b[1;31mTypeError\u001b[0m: 'int' object is not callable"
     ]
    },
    {
     "ename": "TypeError",
     "evalue": "'int' object is not callable",
     "output_type": "error",
     "traceback": [
      "\u001b[1;31m---------------------------------------------------------------------------\u001b[0m",
      "\u001b[1;31mTypeError\u001b[0m                                 Traceback (most recent call last)",
      "\u001b[1;31mTypeError\u001b[0m: 'int' object is not callable"
     ]
    },
    {
     "ename": "TypeError",
     "evalue": "'int' object is not callable",
     "output_type": "error",
     "traceback": [
      "\u001b[1;31m---------------------------------------------------------------------------\u001b[0m",
      "\u001b[1;31mTypeError\u001b[0m                                 Traceback (most recent call last)",
      "\u001b[1;31mTypeError\u001b[0m: 'int' object is not callable"
     ]
    },
    {
     "ename": "TypeError",
     "evalue": "'int' object is not callable",
     "output_type": "error",
     "traceback": [
      "\u001b[1;31m---------------------------------------------------------------------------\u001b[0m",
      "\u001b[1;31mTypeError\u001b[0m                                 Traceback (most recent call last)",
      "\u001b[1;31mTypeError\u001b[0m: 'int' object is not callable"
     ]
    },
    {
     "ename": "TypeError",
     "evalue": "'int' object is not callable",
     "output_type": "error",
     "traceback": [
      "\u001b[1;31m---------------------------------------------------------------------------\u001b[0m",
      "\u001b[1;31mTypeError\u001b[0m                                 Traceback (most recent call last)",
      "\u001b[1;31mTypeError\u001b[0m: 'int' object is not callable"
     ]
    },
    {
     "ename": "TypeError",
     "evalue": "'int' object is not callable",
     "output_type": "error",
     "traceback": [
      "\u001b[1;31m---------------------------------------------------------------------------\u001b[0m",
      "\u001b[1;31mTypeError\u001b[0m                                 Traceback (most recent call last)",
      "\u001b[1;31mTypeError\u001b[0m: 'int' object is not callable"
     ]
    },
    {
     "ename": "TypeError",
     "evalue": "'int' object is not callable",
     "output_type": "error",
     "traceback": [
      "\u001b[1;31m---------------------------------------------------------------------------\u001b[0m",
      "\u001b[1;31mTypeError\u001b[0m                                 Traceback (most recent call last)",
      "\u001b[1;31mTypeError\u001b[0m: 'int' object is not callable"
     ]
    },
    {
     "ename": "TypeError",
     "evalue": "'int' object is not callable",
     "output_type": "error",
     "traceback": [
      "\u001b[1;31m---------------------------------------------------------------------------\u001b[0m",
      "\u001b[1;31mTypeError\u001b[0m                                 Traceback (most recent call last)",
      "\u001b[1;31mTypeError\u001b[0m: 'int' object is not callable"
     ]
    },
    {
     "ename": "TypeError",
     "evalue": "'int' object is not callable",
     "output_type": "error",
     "traceback": [
      "\u001b[1;31m---------------------------------------------------------------------------\u001b[0m",
      "\u001b[1;31mTypeError\u001b[0m                                 Traceback (most recent call last)",
      "\u001b[1;31mTypeError\u001b[0m: 'int' object is not callable"
     ]
    },
    {
     "ename": "TypeError",
     "evalue": "'int' object is not callable",
     "output_type": "error",
     "traceback": [
      "\u001b[1;31m---------------------------------------------------------------------------\u001b[0m",
      "\u001b[1;31mTypeError\u001b[0m                                 Traceback (most recent call last)",
      "\u001b[1;31mTypeError\u001b[0m: 'int' object is not callable"
     ]
    },
    {
     "ename": "TypeError",
     "evalue": "'int' object is not callable",
     "output_type": "error",
     "traceback": [
      "\u001b[1;31m---------------------------------------------------------------------------\u001b[0m",
      "\u001b[1;31mTypeError\u001b[0m                                 Traceback (most recent call last)",
      "\u001b[1;31mTypeError\u001b[0m: 'int' object is not callable"
     ]
    },
    {
     "ename": "TypeError",
     "evalue": "'int' object is not callable",
     "output_type": "error",
     "traceback": [
      "\u001b[1;31m---------------------------------------------------------------------------\u001b[0m",
      "\u001b[1;31mTypeError\u001b[0m                                 Traceback (most recent call last)",
      "\u001b[1;31mTypeError\u001b[0m: 'int' object is not callable"
     ]
    },
    {
     "ename": "TypeError",
     "evalue": "'int' object is not callable",
     "output_type": "error",
     "traceback": [
      "\u001b[1;31m---------------------------------------------------------------------------\u001b[0m",
      "\u001b[1;31mTypeError\u001b[0m                                 Traceback (most recent call last)",
      "\u001b[1;31mTypeError\u001b[0m: 'int' object is not callable"
     ]
    },
    {
     "ename": "TypeError",
     "evalue": "'int' object is not callable",
     "output_type": "error",
     "traceback": [
      "\u001b[1;31m---------------------------------------------------------------------------\u001b[0m",
      "\u001b[1;31mTypeError\u001b[0m                                 Traceback (most recent call last)",
      "\u001b[1;31mTypeError\u001b[0m: 'int' object is not callable"
     ]
    },
    {
     "ename": "TypeError",
     "evalue": "'int' object is not callable",
     "output_type": "error",
     "traceback": [
      "\u001b[1;31m---------------------------------------------------------------------------\u001b[0m",
      "\u001b[1;31mTypeError\u001b[0m                                 Traceback (most recent call last)",
      "\u001b[1;31mTypeError\u001b[0m: 'int' object is not callable"
     ]
    },
    {
     "ename": "TypeError",
     "evalue": "'int' object is not callable",
     "output_type": "error",
     "traceback": [
      "\u001b[1;31m---------------------------------------------------------------------------\u001b[0m",
      "\u001b[1;31mTypeError\u001b[0m                                 Traceback (most recent call last)",
      "\u001b[1;31mTypeError\u001b[0m: 'int' object is not callable"
     ]
    },
    {
     "ename": "TypeError",
     "evalue": "'int' object is not callable",
     "output_type": "error",
     "traceback": [
      "\u001b[1;31m---------------------------------------------------------------------------\u001b[0m",
      "\u001b[1;31mTypeError\u001b[0m                                 Traceback (most recent call last)",
      "\u001b[1;31mTypeError\u001b[0m: 'int' object is not callable"
     ]
    },
    {
     "ename": "TypeError",
     "evalue": "'int' object is not callable",
     "output_type": "error",
     "traceback": [
      "\u001b[1;31m---------------------------------------------------------------------------\u001b[0m",
      "\u001b[1;31mTypeError\u001b[0m                                 Traceback (most recent call last)",
      "\u001b[1;31mTypeError\u001b[0m: 'int' object is not callable"
     ]
    },
    {
     "ename": "TypeError",
     "evalue": "'int' object is not callable",
     "output_type": "error",
     "traceback": [
      "\u001b[1;31m---------------------------------------------------------------------------\u001b[0m",
      "\u001b[1;31mTypeError\u001b[0m                                 Traceback (most recent call last)",
      "\u001b[1;31mTypeError\u001b[0m: 'int' object is not callable"
     ]
    },
    {
     "ename": "TypeError",
     "evalue": "'int' object is not callable",
     "output_type": "error",
     "traceback": [
      "\u001b[1;31m---------------------------------------------------------------------------\u001b[0m",
      "\u001b[1;31mTypeError\u001b[0m                                 Traceback (most recent call last)",
      "\u001b[1;31mTypeError\u001b[0m: 'int' object is not callable"
     ]
    },
    {
     "ename": "TypeError",
     "evalue": "'int' object is not callable",
     "output_type": "error",
     "traceback": [
      "\u001b[1;31m---------------------------------------------------------------------------\u001b[0m",
      "\u001b[1;31mTypeError\u001b[0m                                 Traceback (most recent call last)",
      "\u001b[1;31mTypeError\u001b[0m: 'int' object is not callable"
     ]
    },
    {
     "ename": "TypeError",
     "evalue": "'int' object is not callable",
     "output_type": "error",
     "traceback": [
      "\u001b[1;31m---------------------------------------------------------------------------\u001b[0m",
      "\u001b[1;31mTypeError\u001b[0m                                 Traceback (most recent call last)",
      "\u001b[1;31mTypeError\u001b[0m: 'int' object is not callable"
     ]
    },
    {
     "ename": "TypeError",
     "evalue": "'int' object is not callable",
     "output_type": "error",
     "traceback": [
      "\u001b[1;31m---------------------------------------------------------------------------\u001b[0m",
      "\u001b[1;31mTypeError\u001b[0m                                 Traceback (most recent call last)",
      "\u001b[1;31mTypeError\u001b[0m: 'int' object is not callable"
     ]
    },
    {
     "ename": "TypeError",
     "evalue": "'int' object is not callable",
     "output_type": "error",
     "traceback": [
      "\u001b[1;31m---------------------------------------------------------------------------\u001b[0m",
      "\u001b[1;31mTypeError\u001b[0m                                 Traceback (most recent call last)",
      "\u001b[1;31mTypeError\u001b[0m: 'int' object is not callable"
     ]
    },
    {
     "ename": "TypeError",
     "evalue": "'int' object is not callable",
     "output_type": "error",
     "traceback": [
      "\u001b[1;31m---------------------------------------------------------------------------\u001b[0m",
      "\u001b[1;31mTypeError\u001b[0m                                 Traceback (most recent call last)",
      "\u001b[1;31mTypeError\u001b[0m: 'int' object is not callable"
     ]
    },
    {
     "ename": "TypeError",
     "evalue": "'int' object is not callable",
     "output_type": "error",
     "traceback": [
      "\u001b[1;31m---------------------------------------------------------------------------\u001b[0m",
      "\u001b[1;31mTypeError\u001b[0m                                 Traceback (most recent call last)",
      "\u001b[1;31mTypeError\u001b[0m: 'int' object is not callable"
     ]
    },
    {
     "ename": "TypeError",
     "evalue": "'int' object is not callable",
     "output_type": "error",
     "traceback": [
      "\u001b[1;31m---------------------------------------------------------------------------\u001b[0m",
      "\u001b[1;31mTypeError\u001b[0m                                 Traceback (most recent call last)",
      "\u001b[1;31mTypeError\u001b[0m: 'int' object is not callable"
     ]
    },
    {
     "ename": "TypeError",
     "evalue": "'int' object is not callable",
     "output_type": "error",
     "traceback": [
      "\u001b[1;31m---------------------------------------------------------------------------\u001b[0m",
      "\u001b[1;31mTypeError\u001b[0m                                 Traceback (most recent call last)",
      "\u001b[1;31mTypeError\u001b[0m: 'int' object is not callable"
     ]
    },
    {
     "ename": "TypeError",
     "evalue": "'int' object is not callable",
     "output_type": "error",
     "traceback": [
      "\u001b[1;31m---------------------------------------------------------------------------\u001b[0m",
      "\u001b[1;31mTypeError\u001b[0m                                 Traceback (most recent call last)",
      "\u001b[1;31mTypeError\u001b[0m: 'int' object is not callable"
     ]
    },
    {
     "ename": "TypeError",
     "evalue": "'int' object is not callable",
     "output_type": "error",
     "traceback": [
      "\u001b[1;31m---------------------------------------------------------------------------\u001b[0m",
      "\u001b[1;31mTypeError\u001b[0m                                 Traceback (most recent call last)",
      "\u001b[1;31mTypeError\u001b[0m: 'int' object is not callable"
     ]
    },
    {
     "ename": "TypeError",
     "evalue": "'int' object is not callable",
     "output_type": "error",
     "traceback": [
      "\u001b[1;31m---------------------------------------------------------------------------\u001b[0m",
      "\u001b[1;31mTypeError\u001b[0m                                 Traceback (most recent call last)",
      "\u001b[1;31mTypeError\u001b[0m: 'int' object is not callable"
     ]
    },
    {
     "ename": "TypeError",
     "evalue": "'int' object is not callable",
     "output_type": "error",
     "traceback": [
      "\u001b[1;31m---------------------------------------------------------------------------\u001b[0m",
      "\u001b[1;31mTypeError\u001b[0m                                 Traceback (most recent call last)",
      "\u001b[1;31mTypeError\u001b[0m: 'int' object is not callable"
     ]
    },
    {
     "ename": "TypeError",
     "evalue": "'int' object is not callable",
     "output_type": "error",
     "traceback": [
      "\u001b[1;31m---------------------------------------------------------------------------\u001b[0m",
      "\u001b[1;31mTypeError\u001b[0m                                 Traceback (most recent call last)",
      "\u001b[1;31mTypeError\u001b[0m: 'int' object is not callable"
     ]
    },
    {
     "ename": "TypeError",
     "evalue": "'int' object is not callable",
     "output_type": "error",
     "traceback": [
      "\u001b[1;31m---------------------------------------------------------------------------\u001b[0m",
      "\u001b[1;31mTypeError\u001b[0m                                 Traceback (most recent call last)",
      "\u001b[1;31mTypeError\u001b[0m: 'int' object is not callable"
     ]
    },
    {
     "ename": "TypeError",
     "evalue": "'int' object is not callable",
     "output_type": "error",
     "traceback": [
      "\u001b[1;31m---------------------------------------------------------------------------\u001b[0m",
      "\u001b[1;31mTypeError\u001b[0m                                 Traceback (most recent call last)",
      "\u001b[1;31mTypeError\u001b[0m: 'int' object is not callable"
     ]
    },
    {
     "ename": "TypeError",
     "evalue": "'int' object is not callable",
     "output_type": "error",
     "traceback": [
      "\u001b[1;31m---------------------------------------------------------------------------\u001b[0m",
      "\u001b[1;31mTypeError\u001b[0m                                 Traceback (most recent call last)",
      "\u001b[1;31mTypeError\u001b[0m: 'int' object is not callable"
     ]
    },
    {
     "ename": "TypeError",
     "evalue": "'int' object is not callable",
     "output_type": "error",
     "traceback": [
      "\u001b[1;31m---------------------------------------------------------------------------\u001b[0m",
      "\u001b[1;31mTypeError\u001b[0m                                 Traceback (most recent call last)",
      "\u001b[1;31mTypeError\u001b[0m: 'int' object is not callable"
     ]
    },
    {
     "ename": "TypeError",
     "evalue": "'int' object is not callable",
     "output_type": "error",
     "traceback": [
      "\u001b[1;31m---------------------------------------------------------------------------\u001b[0m",
      "\u001b[1;31mTypeError\u001b[0m                                 Traceback (most recent call last)",
      "\u001b[1;31mTypeError\u001b[0m: 'int' object is not callable"
     ]
    },
    {
     "ename": "TypeError",
     "evalue": "'int' object is not callable",
     "output_type": "error",
     "traceback": [
      "\u001b[1;31m---------------------------------------------------------------------------\u001b[0m",
      "\u001b[1;31mTypeError\u001b[0m                                 Traceback (most recent call last)",
      "\u001b[1;31mTypeError\u001b[0m: 'int' object is not callable"
     ]
    },
    {
     "ename": "TypeError",
     "evalue": "'int' object is not callable",
     "output_type": "error",
     "traceback": [
      "\u001b[1;31m---------------------------------------------------------------------------\u001b[0m",
      "\u001b[1;31mTypeError\u001b[0m                                 Traceback (most recent call last)",
      "\u001b[1;31mTypeError\u001b[0m: 'int' object is not callable"
     ]
    },
    {
     "ename": "TypeError",
     "evalue": "'int' object is not callable",
     "output_type": "error",
     "traceback": [
      "\u001b[1;31m---------------------------------------------------------------------------\u001b[0m",
      "\u001b[1;31mTypeError\u001b[0m                                 Traceback (most recent call last)",
      "\u001b[1;31mTypeError\u001b[0m: 'int' object is not callable"
     ]
    },
    {
     "ename": "TypeError",
     "evalue": "'int' object is not callable",
     "output_type": "error",
     "traceback": [
      "\u001b[1;31m---------------------------------------------------------------------------\u001b[0m",
      "\u001b[1;31mTypeError\u001b[0m                                 Traceback (most recent call last)",
      "\u001b[1;31mTypeError\u001b[0m: 'int' object is not callable"
     ]
    },
    {
     "ename": "TypeError",
     "evalue": "'int' object is not callable",
     "output_type": "error",
     "traceback": [
      "\u001b[1;31m---------------------------------------------------------------------------\u001b[0m",
      "\u001b[1;31mTypeError\u001b[0m                                 Traceback (most recent call last)",
      "\u001b[1;31mTypeError\u001b[0m: 'int' object is not callable"
     ]
    },
    {
     "ename": "TypeError",
     "evalue": "'int' object is not callable",
     "output_type": "error",
     "traceback": [
      "\u001b[1;31m---------------------------------------------------------------------------\u001b[0m",
      "\u001b[1;31mTypeError\u001b[0m                                 Traceback (most recent call last)",
      "\u001b[1;31mTypeError\u001b[0m: 'int' object is not callable"
     ]
    },
    {
     "ename": "TypeError",
     "evalue": "'int' object is not callable",
     "output_type": "error",
     "traceback": [
      "\u001b[1;31m---------------------------------------------------------------------------\u001b[0m",
      "\u001b[1;31mTypeError\u001b[0m                                 Traceback (most recent call last)",
      "\u001b[1;31mTypeError\u001b[0m: 'int' object is not callable"
     ]
    },
    {
     "ename": "TypeError",
     "evalue": "'int' object is not callable",
     "output_type": "error",
     "traceback": [
      "\u001b[1;31m---------------------------------------------------------------------------\u001b[0m",
      "\u001b[1;31mTypeError\u001b[0m                                 Traceback (most recent call last)",
      "\u001b[1;31mTypeError\u001b[0m: 'int' object is not callable"
     ]
    },
    {
     "ename": "TypeError",
     "evalue": "'int' object is not callable",
     "output_type": "error",
     "traceback": [
      "\u001b[1;31m---------------------------------------------------------------------------\u001b[0m",
      "\u001b[1;31mTypeError\u001b[0m                                 Traceback (most recent call last)",
      "\u001b[1;31mTypeError\u001b[0m: 'int' object is not callable"
     ]
    },
    {
     "ename": "TypeError",
     "evalue": "'int' object is not callable",
     "output_type": "error",
     "traceback": [
      "\u001b[1;31m---------------------------------------------------------------------------\u001b[0m",
      "\u001b[1;31mTypeError\u001b[0m                                 Traceback (most recent call last)",
      "\u001b[1;31mTypeError\u001b[0m: 'int' object is not callable"
     ]
    },
    {
     "ename": "TypeError",
     "evalue": "'int' object is not callable",
     "output_type": "error",
     "traceback": [
      "\u001b[1;31m---------------------------------------------------------------------------\u001b[0m",
      "\u001b[1;31mTypeError\u001b[0m                                 Traceback (most recent call last)",
      "\u001b[1;31mTypeError\u001b[0m: 'int' object is not callable"
     ]
    },
    {
     "ename": "TypeError",
     "evalue": "'int' object is not callable",
     "output_type": "error",
     "traceback": [
      "\u001b[1;31m---------------------------------------------------------------------------\u001b[0m",
      "\u001b[1;31mTypeError\u001b[0m                                 Traceback (most recent call last)",
      "\u001b[1;31mTypeError\u001b[0m: 'int' object is not callable"
     ]
    },
    {
     "ename": "TypeError",
     "evalue": "'int' object is not callable",
     "output_type": "error",
     "traceback": [
      "\u001b[1;31m---------------------------------------------------------------------------\u001b[0m",
      "\u001b[1;31mTypeError\u001b[0m                                 Traceback (most recent call last)",
      "\u001b[1;31mTypeError\u001b[0m: 'int' object is not callable"
     ]
    },
    {
     "ename": "KeyboardInterrupt",
     "evalue": "",
     "output_type": "error",
     "traceback": [
      "\u001b[1;31m---------------------------------------------------------------------------\u001b[0m",
      "\u001b[1;31mKeyboardInterrupt\u001b[0m                         Traceback (most recent call last)",
      "Cell \u001b[1;32mIn[26], line 43\u001b[0m\n\u001b[0;32m     39\u001b[0m     result \u001b[38;5;241m=\u001b[39m cv2\u001b[38;5;241m.\u001b[39mbitwise_and(resized_image, resized_image, mask\u001b[38;5;241m=\u001b[39mmask)\n\u001b[0;32m     41\u001b[0m     cv2\u001b[38;5;241m.\u001b[39mimshow(window_name, result)\n\u001b[1;32m---> 43\u001b[0m     \u001b[38;5;28;01mif\u001b[39;00m \u001b[43mcv2\u001b[49m\u001b[38;5;241;43m.\u001b[39;49m\u001b[43mwaitKey\u001b[49m\u001b[43m(\u001b[49m\u001b[38;5;241;43m1\u001b[39;49m\u001b[43m)\u001b[49m \u001b[38;5;241m&\u001b[39m \u001b[38;5;241m0xFF\u001b[39m \u001b[38;5;241m==\u001b[39m \u001b[38;5;28mord\u001b[39m(\u001b[38;5;124m'\u001b[39m\u001b[38;5;124mq\u001b[39m\u001b[38;5;124m'\u001b[39m):\n\u001b[0;32m     44\u001b[0m         \u001b[38;5;28;01mbreak\u001b[39;00m\n\u001b[0;32m     46\u001b[0m cv2\u001b[38;5;241m.\u001b[39mdestroyAllWindows()\n",
      "\u001b[1;31mKeyboardInterrupt\u001b[0m: "
     ]
    }
   ],
   "source": [
    "#resizing the image\n",
    "desired_width = 400  \n",
    "aspect_ratio = image.shape[1] / image.shape[0]\n",
    "desired_height = int(desired_width / aspect_ratio)\n",
    "resized_image = cv2.resize(image, (desired_width, desired_height))\n",
    "\n",
    "def onTrackbarChange(value):\n",
    "    global blk_thresh\n",
    "    blk_thresh = value\n",
    "    print(\"Variable value:\", blk_thresh)\n",
    "    \n",
    "def valueScaling(value):\n",
    "    min_value = 0\n",
    "    max_value = 100\n",
    "    new_min = 0\n",
    "    new_max = 255\n",
    "    scaled_value = (value - min_value) * (new_max - new_min) / (max_value - min_value) + new_min\n",
    "    return int(scaled_value)\n",
    "\n",
    "\n",
    "blk_thresh = 50\n",
    "scaled_thresh = valueScaling(blk_thresh)\n",
    "\n",
    "\n",
    "window_name = 'Background Removed'\n",
    "cv2.namedWindow(window_name)\n",
    "\n",
    "cv2.createTrackbar('Variable', window_name, scaled_thresh, 100, onTrackbarChange)\n",
    "\n",
    "while True:\n",
    "    gray = cv2.cvtColor(resized_image, cv2.COLOR_BGR2GRAY)\n",
    "\n",
    "    blur = cv2.GaussianBlur(gray, (5, 5), 0)\n",
    "\n",
    "    _, threshold_img = cv2.threshold(blur, blk_thresh, 255, cv2.THRESH_BINARY)\n",
    "\n",
    "    mask = 255 - threshold_img\n",
    "\n",
    "    result = cv2.bitwise_and(resized_image, resized_image, mask=mask)\n",
    "\n",
    "    cv2.imshow(window_name, result)\n",
    "\n",
    "    if cv2.waitKey(1) & 0xFF == ord('q'):\n",
    "        break\n",
    "\n",
    "cv2.destroyAllWindows()"
   ]
  },
  {
   "cell_type": "code",
   "execution_count": null,
   "id": "a197c56c",
   "metadata": {},
   "outputs": [],
   "source": []
  }
 ],
 "metadata": {
  "kernelspec": {
   "display_name": "Python 3 (ipykernel)",
   "language": "python",
   "name": "python3"
  },
  "language_info": {
   "codemirror_mode": {
    "name": "ipython",
    "version": 3
   },
   "file_extension": ".py",
   "mimetype": "text/x-python",
   "name": "python",
   "nbconvert_exporter": "python",
   "pygments_lexer": "ipython3",
   "version": "3.10.9"
  }
 },
 "nbformat": 4,
 "nbformat_minor": 5
}
